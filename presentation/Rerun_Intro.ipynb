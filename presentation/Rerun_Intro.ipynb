{
 "cells": [
  {
   "cell_type": "markdown",
   "metadata": {
    "id": "6jb2EGgXYNMb"
   },
   "source": [
    "# Lecture - Rerun.io\n",
    "\n",
    "This notebook is a lecture of Mining Massive Dataset. \n",
    "\n",
    "For a lecture on usefully python packages & how to use them.\n",
    "\n",
    "I decided to pick rerun.io\n",
    "\n",
    "**Writtern By:** Guy Arieli\n",
    "\n",
    "**Date:** April 2025"
   ]
  },
  {
   "cell_type": "markdown",
   "metadata": {
    "id": "OF0tj_g_YROE"
   },
   "source": [
    "## Dependencies"
   ]
  },
  {
   "cell_type": "code",
   "metadata": {
    "colab": {
     "base_uri": "https://localhost:8080/"
    },
    "id": "_I-k5A48YUH9",
    "outputId": "0a7af547-2c14-400c-ad8c-77015086c0d4",
    "ExecuteTime": {
     "end_time": "2025-04-26T11:33:38.481866Z",
     "start_time": "2025-04-26T11:33:37.684843Z"
    }
   },
   "source": [
    "!pip3 install \"matplotlib>=3.7\" nuscenes-devkit rerun-sdk"
   ],
   "execution_count": 1,
   "outputs": [
    {
     "name": "stdout",
     "output_type": "stream",
     "text": [
      "Requirement already satisfied: matplotlib>=3.7 in /opt/homebrew/lib/python3.11/site-packages (3.7.1)\r\n",
      "Requirement already satisfied: nuscenes-devkit in /opt/homebrew/lib/python3.11/site-packages (1.1.9)\r\n",
      "Requirement already satisfied: rerun-sdk in /opt/homebrew/lib/python3.11/site-packages (0.23.1)\r\n",
      "Requirement already satisfied: contourpy>=1.0.1 in /opt/homebrew/lib/python3.11/site-packages (from matplotlib>=3.7) (1.0.7)\r\n",
      "Requirement already satisfied: cycler>=0.10 in /opt/homebrew/lib/python3.11/site-packages (from matplotlib>=3.7) (0.11.0)\r\n",
      "Requirement already satisfied: fonttools>=4.22.0 in /opt/homebrew/lib/python3.11/site-packages (from matplotlib>=3.7) (4.39.4)\r\n",
      "Requirement already satisfied: kiwisolver>=1.0.1 in /opt/homebrew/lib/python3.11/site-packages (from matplotlib>=3.7) (1.4.4)\r\n",
      "Requirement already satisfied: numpy>=1.20 in /opt/homebrew/lib/python3.11/site-packages (from matplotlib>=3.7) (1.23.5)\r\n",
      "Requirement already satisfied: packaging>=20.0 in /opt/homebrew/lib/python3.11/site-packages (from matplotlib>=3.7) (23.1)\r\n",
      "Requirement already satisfied: pillow>=6.2.0 in /opt/homebrew/lib/python3.11/site-packages (from matplotlib>=3.7) (9.5.0)\r\n",
      "Requirement already satisfied: pyparsing>=2.3.1 in /opt/homebrew/lib/python3.11/site-packages (from matplotlib>=3.7) (3.0.9)\r\n",
      "Requirement already satisfied: python-dateutil>=2.7 in /opt/homebrew/lib/python3.11/site-packages (from matplotlib>=3.7) (2.8.2)\r\n",
      "Requirement already satisfied: cachetools in /opt/homebrew/lib/python3.11/site-packages (from nuscenes-devkit) (5.3.0)\r\n",
      "Requirement already satisfied: descartes in /opt/homebrew/lib/python3.11/site-packages (from nuscenes-devkit) (1.1.0)\r\n",
      "Requirement already satisfied: fire in /opt/homebrew/lib/python3.11/site-packages (from nuscenes-devkit) (0.7.0)\r\n",
      "Requirement already satisfied: jupyter in /opt/homebrew/lib/python3.11/site-packages (from nuscenes-devkit) (1.1.1)\r\n",
      "Requirement already satisfied: opencv-python in /opt/homebrew/lib/python3.11/site-packages (from nuscenes-devkit) (4.8.1.78)\r\n",
      "Requirement already satisfied: pyquaternion>=0.9.5 in /opt/homebrew/lib/python3.11/site-packages (from nuscenes-devkit) (0.9.9)\r\n",
      "Requirement already satisfied: scikit-learn in /opt/homebrew/lib/python3.11/site-packages (from nuscenes-devkit) (1.2.2)\r\n",
      "Requirement already satisfied: scipy in /opt/homebrew/lib/python3.11/site-packages (from nuscenes-devkit) (1.10.1)\r\n",
      "Requirement already satisfied: Shapely in /opt/homebrew/lib/python3.11/site-packages (from nuscenes-devkit) (2.1.0)\r\n",
      "Requirement already satisfied: tqdm in /opt/homebrew/lib/python3.11/site-packages (from nuscenes-devkit) (4.66.1)\r\n",
      "Requirement already satisfied: pycocotools>=2.0.1 in /opt/homebrew/lib/python3.11/site-packages (from nuscenes-devkit) (2.0.8)\r\n",
      "Requirement already satisfied: attrs>=23.1.0 in /opt/homebrew/lib/python3.11/site-packages (from rerun-sdk) (23.1.0)\r\n",
      "Requirement already satisfied: pyarrow>=14.0.2 in /opt/homebrew/lib/python3.11/site-packages (from rerun-sdk) (14.0.2)\r\n",
      "Requirement already satisfied: typing-extensions>=4.5 in /opt/homebrew/lib/python3.11/site-packages (from rerun-sdk) (4.12.2)\r\n",
      "Requirement already satisfied: six>=1.5 in /opt/homebrew/lib/python3.11/site-packages (from python-dateutil>=2.7->matplotlib>=3.7) (1.16.0)\r\n",
      "Requirement already satisfied: termcolor in /opt/homebrew/lib/python3.11/site-packages (from fire->nuscenes-devkit) (2.3.0)\r\n",
      "Requirement already satisfied: notebook in /opt/homebrew/lib/python3.11/site-packages (from jupyter->nuscenes-devkit) (6.5.4)\r\n",
      "Requirement already satisfied: jupyter-console in /opt/homebrew/lib/python3.11/site-packages (from jupyter->nuscenes-devkit) (6.6.3)\r\n",
      "Requirement already satisfied: nbconvert in /opt/homebrew/lib/python3.11/site-packages (from jupyter->nuscenes-devkit) (7.4.0)\r\n",
      "Requirement already satisfied: ipykernel in /opt/homebrew/lib/python3.11/site-packages (from jupyter->nuscenes-devkit) (6.23.1)\r\n",
      "Requirement already satisfied: ipywidgets in /opt/homebrew/lib/python3.11/site-packages (from jupyter->nuscenes-devkit) (8.1.0)\r\n",
      "Requirement already satisfied: jupyterlab in /opt/homebrew/lib/python3.11/site-packages (from jupyter->nuscenes-devkit) (4.4.1)\r\n",
      "Requirement already satisfied: joblib>=1.1.1 in /opt/homebrew/lib/python3.11/site-packages (from scikit-learn->nuscenes-devkit) (1.3.2)\r\n",
      "Requirement already satisfied: threadpoolctl>=2.0.0 in /opt/homebrew/lib/python3.11/site-packages (from scikit-learn->nuscenes-devkit) (3.2.0)\r\n",
      "Requirement already satisfied: appnope in /opt/homebrew/lib/python3.11/site-packages (from ipykernel->jupyter->nuscenes-devkit) (0.1.3)\r\n",
      "Requirement already satisfied: comm>=0.1.1 in /opt/homebrew/lib/python3.11/site-packages (from ipykernel->jupyter->nuscenes-devkit) (0.1.3)\r\n",
      "Requirement already satisfied: debugpy>=1.6.5 in /opt/homebrew/lib/python3.11/site-packages (from ipykernel->jupyter->nuscenes-devkit) (1.6.7)\r\n",
      "Requirement already satisfied: ipython>=7.23.1 in /opt/homebrew/lib/python3.11/site-packages (from ipykernel->jupyter->nuscenes-devkit) (8.14.0)\r\n",
      "Requirement already satisfied: jupyter-client>=6.1.12 in /opt/homebrew/lib/python3.11/site-packages (from ipykernel->jupyter->nuscenes-devkit) (8.2.0)\r\n",
      "Requirement already satisfied: jupyter-core!=5.0.*,>=4.12 in /opt/homebrew/lib/python3.11/site-packages (from ipykernel->jupyter->nuscenes-devkit) (5.3.0)\r\n",
      "Requirement already satisfied: matplotlib-inline>=0.1 in /opt/homebrew/lib/python3.11/site-packages (from ipykernel->jupyter->nuscenes-devkit) (0.1.6)\r\n",
      "Requirement already satisfied: nest-asyncio in /opt/homebrew/lib/python3.11/site-packages (from ipykernel->jupyter->nuscenes-devkit) (1.5.6)\r\n",
      "Requirement already satisfied: psutil in /opt/homebrew/lib/python3.11/site-packages (from ipykernel->jupyter->nuscenes-devkit) (5.9.5)\r\n",
      "Requirement already satisfied: pyzmq>=20 in /opt/homebrew/lib/python3.11/site-packages (from ipykernel->jupyter->nuscenes-devkit) (25.1.0)\r\n",
      "Requirement already satisfied: tornado>=6.1 in /opt/homebrew/lib/python3.11/site-packages (from ipykernel->jupyter->nuscenes-devkit) (6.3.2)\r\n",
      "Requirement already satisfied: traitlets>=5.4.0 in /opt/homebrew/lib/python3.11/site-packages (from ipykernel->jupyter->nuscenes-devkit) (5.9.0)\r\n",
      "Requirement already satisfied: widgetsnbextension~=4.0.7 in /opt/homebrew/lib/python3.11/site-packages (from ipywidgets->jupyter->nuscenes-devkit) (4.0.8)\r\n",
      "Requirement already satisfied: jupyterlab-widgets~=3.0.7 in /opt/homebrew/lib/python3.11/site-packages (from ipywidgets->jupyter->nuscenes-devkit) (3.0.8)\r\n",
      "Requirement already satisfied: prompt-toolkit>=3.0.30 in /opt/homebrew/lib/python3.11/site-packages (from jupyter-console->jupyter->nuscenes-devkit) (3.0.38)\r\n",
      "Requirement already satisfied: pygments in /opt/homebrew/lib/python3.11/site-packages (from jupyter-console->jupyter->nuscenes-devkit) (2.18.0)\r\n",
      "Requirement already satisfied: async-lru>=1.0.0 in /opt/homebrew/lib/python3.11/site-packages (from jupyterlab->jupyter->nuscenes-devkit) (2.0.3)\r\n",
      "Requirement already satisfied: httpx>=0.25.0 in /opt/homebrew/lib/python3.11/site-packages (from jupyterlab->jupyter->nuscenes-devkit) (0.28.1)\r\n",
      "Requirement already satisfied: jinja2>=3.0.3 in /opt/homebrew/lib/python3.11/site-packages (from jupyterlab->jupyter->nuscenes-devkit) (3.1.2)\r\n",
      "Requirement already satisfied: jupyter-lsp>=2.0.0 in /opt/homebrew/lib/python3.11/site-packages (from jupyterlab->jupyter->nuscenes-devkit) (2.2.0)\r\n",
      "Requirement already satisfied: jupyter-server<3,>=2.4.0 in /opt/homebrew/lib/python3.11/site-packages (from jupyterlab->jupyter->nuscenes-devkit) (2.6.0)\r\n",
      "Requirement already satisfied: jupyterlab-server<3,>=2.27.1 in /opt/homebrew/lib/python3.11/site-packages (from jupyterlab->jupyter->nuscenes-devkit) (2.27.3)\r\n",
      "Requirement already satisfied: notebook-shim>=0.2 in /opt/homebrew/lib/python3.11/site-packages (from jupyterlab->jupyter->nuscenes-devkit) (0.2.3)\r\n",
      "Requirement already satisfied: setuptools>=41.1.0 in /opt/homebrew/lib/python3.11/site-packages (from jupyterlab->jupyter->nuscenes-devkit) (78.1.0)\r\n",
      "Requirement already satisfied: beautifulsoup4 in /opt/homebrew/lib/python3.11/site-packages (from nbconvert->jupyter->nuscenes-devkit) (4.12.2)\r\n",
      "Requirement already satisfied: bleach in /opt/homebrew/lib/python3.11/site-packages (from nbconvert->jupyter->nuscenes-devkit) (6.0.0)\r\n",
      "Requirement already satisfied: defusedxml in /opt/homebrew/lib/python3.11/site-packages (from nbconvert->jupyter->nuscenes-devkit) (0.7.1)\r\n",
      "Requirement already satisfied: jupyterlab-pygments in /opt/homebrew/lib/python3.11/site-packages (from nbconvert->jupyter->nuscenes-devkit) (0.2.2)\r\n",
      "Requirement already satisfied: markupsafe>=2.0 in /opt/homebrew/lib/python3.11/site-packages (from nbconvert->jupyter->nuscenes-devkit) (2.1.2)\r\n",
      "Requirement already satisfied: mistune<3,>=2.0.3 in /opt/homebrew/lib/python3.11/site-packages (from nbconvert->jupyter->nuscenes-devkit) (2.0.5)\r\n",
      "Requirement already satisfied: nbclient>=0.5.0 in /opt/homebrew/lib/python3.11/site-packages (from nbconvert->jupyter->nuscenes-devkit) (0.8.0)\r\n",
      "Requirement already satisfied: nbformat>=5.1 in /opt/homebrew/lib/python3.11/site-packages (from nbconvert->jupyter->nuscenes-devkit) (5.9.0)\r\n",
      "Requirement already satisfied: pandocfilters>=1.4.1 in /opt/homebrew/lib/python3.11/site-packages (from nbconvert->jupyter->nuscenes-devkit) (1.5.0)\r\n",
      "Requirement already satisfied: tinycss2 in /opt/homebrew/lib/python3.11/site-packages (from nbconvert->jupyter->nuscenes-devkit) (1.2.1)\r\n",
      "Requirement already satisfied: argon2-cffi in /opt/homebrew/lib/python3.11/site-packages (from notebook->jupyter->nuscenes-devkit) (21.3.0)\r\n",
      "Requirement already satisfied: ipython-genutils in /opt/homebrew/lib/python3.11/site-packages (from notebook->jupyter->nuscenes-devkit) (0.2.0)\r\n",
      "Requirement already satisfied: Send2Trash>=1.8.0 in /opt/homebrew/lib/python3.11/site-packages (from notebook->jupyter->nuscenes-devkit) (1.8.2)\r\n",
      "Requirement already satisfied: terminado>=0.8.3 in /opt/homebrew/lib/python3.11/site-packages (from notebook->jupyter->nuscenes-devkit) (0.17.1)\r\n",
      "Requirement already satisfied: prometheus-client in /opt/homebrew/lib/python3.11/site-packages (from notebook->jupyter->nuscenes-devkit) (0.16.0)\r\n",
      "Requirement already satisfied: nbclassic>=0.4.7 in /opt/homebrew/lib/python3.11/site-packages (from notebook->jupyter->nuscenes-devkit) (1.0.0)\r\n",
      "Requirement already satisfied: anyio in /opt/homebrew/lib/python3.11/site-packages (from httpx>=0.25.0->jupyterlab->jupyter->nuscenes-devkit) (4.8.0)\r\n",
      "Requirement already satisfied: certifi in /opt/homebrew/lib/python3.11/site-packages (from httpx>=0.25.0->jupyterlab->jupyter->nuscenes-devkit) (2023.5.7)\r\n",
      "Requirement already satisfied: httpcore==1.* in /opt/homebrew/lib/python3.11/site-packages (from httpx>=0.25.0->jupyterlab->jupyter->nuscenes-devkit) (1.0.9)\r\n",
      "Requirement already satisfied: idna in /opt/homebrew/lib/python3.11/site-packages (from httpx>=0.25.0->jupyterlab->jupyter->nuscenes-devkit) (3.4)\r\n",
      "Requirement already satisfied: h11>=0.16 in /opt/homebrew/lib/python3.11/site-packages (from httpcore==1.*->httpx>=0.25.0->jupyterlab->jupyter->nuscenes-devkit) (0.16.0)\r\n",
      "Requirement already satisfied: backcall in /opt/homebrew/lib/python3.11/site-packages (from ipython>=7.23.1->ipykernel->jupyter->nuscenes-devkit) (0.2.0)\r\n",
      "Requirement already satisfied: decorator in /opt/homebrew/lib/python3.11/site-packages (from ipython>=7.23.1->ipykernel->jupyter->nuscenes-devkit) (5.1.1)\r\n",
      "Requirement already satisfied: jedi>=0.16 in /opt/homebrew/lib/python3.11/site-packages (from ipython>=7.23.1->ipykernel->jupyter->nuscenes-devkit) (0.18.2)\r\n",
      "Requirement already satisfied: pickleshare in /opt/homebrew/lib/python3.11/site-packages (from ipython>=7.23.1->ipykernel->jupyter->nuscenes-devkit) (0.7.5)\r\n",
      "Requirement already satisfied: stack-data in /opt/homebrew/lib/python3.11/site-packages (from ipython>=7.23.1->ipykernel->jupyter->nuscenes-devkit) (0.6.2)\r\n",
      "Requirement already satisfied: pexpect>4.3 in /opt/homebrew/lib/python3.11/site-packages (from ipython>=7.23.1->ipykernel->jupyter->nuscenes-devkit) (4.8.0)\r\n",
      "Requirement already satisfied: platformdirs>=2.5 in /opt/homebrew/lib/python3.11/site-packages (from jupyter-core!=5.0.*,>=4.12->ipykernel->jupyter->nuscenes-devkit) (4.0.0)\r\n",
      "Requirement already satisfied: jupyter-events>=0.6.0 in /opt/homebrew/lib/python3.11/site-packages (from jupyter-server<3,>=2.4.0->jupyterlab->jupyter->nuscenes-devkit) (0.6.3)\r\n",
      "Requirement already satisfied: jupyter-server-terminals in /opt/homebrew/lib/python3.11/site-packages (from jupyter-server<3,>=2.4.0->jupyterlab->jupyter->nuscenes-devkit) (0.4.4)\r\n",
      "Requirement already satisfied: overrides in /opt/homebrew/lib/python3.11/site-packages (from jupyter-server<3,>=2.4.0->jupyterlab->jupyter->nuscenes-devkit) (7.3.1)\r\n",
      "Requirement already satisfied: websocket-client in /opt/homebrew/lib/python3.11/site-packages (from jupyter-server<3,>=2.4.0->jupyterlab->jupyter->nuscenes-devkit) (1.5.3)\r\n",
      "Requirement already satisfied: babel>=2.10 in /opt/homebrew/lib/python3.11/site-packages (from jupyterlab-server<3,>=2.27.1->jupyterlab->jupyter->nuscenes-devkit) (2.16.0)\r\n",
      "Requirement already satisfied: json5>=0.9.0 in /opt/homebrew/lib/python3.11/site-packages (from jupyterlab-server<3,>=2.27.1->jupyterlab->jupyter->nuscenes-devkit) (0.9.14)\r\n",
      "Requirement already satisfied: jsonschema>=4.18.0 in /opt/homebrew/lib/python3.11/site-packages (from jupyterlab-server<3,>=2.27.1->jupyterlab->jupyter->nuscenes-devkit) (4.23.0)\r\n",
      "Requirement already satisfied: requests>=2.31 in /opt/homebrew/lib/python3.11/site-packages (from jupyterlab-server<3,>=2.27.1->jupyterlab->jupyter->nuscenes-devkit) (2.32.3)\r\n",
      "Requirement already satisfied: fastjsonschema in /opt/homebrew/lib/python3.11/site-packages (from nbformat>=5.1->nbconvert->jupyter->nuscenes-devkit) (2.20.0)\r\n",
      "Requirement already satisfied: wcwidth in /opt/homebrew/lib/python3.11/site-packages (from prompt-toolkit>=3.0.30->jupyter-console->jupyter->nuscenes-devkit) (0.2.6)\r\n",
      "Requirement already satisfied: ptyprocess in /opt/homebrew/lib/python3.11/site-packages (from terminado>=0.8.3->notebook->jupyter->nuscenes-devkit) (0.7.0)\r\n",
      "Requirement already satisfied: argon2-cffi-bindings in /opt/homebrew/lib/python3.11/site-packages (from argon2-cffi->notebook->jupyter->nuscenes-devkit) (21.2.0)\r\n",
      "Requirement already satisfied: soupsieve>1.2 in /opt/homebrew/lib/python3.11/site-packages (from beautifulsoup4->nbconvert->jupyter->nuscenes-devkit) (2.4.1)\r\n",
      "Requirement already satisfied: webencodings in /opt/homebrew/lib/python3.11/site-packages (from bleach->nbconvert->jupyter->nuscenes-devkit) (0.5.1)\r\n",
      "Requirement already satisfied: sniffio>=1.1 in /opt/homebrew/lib/python3.11/site-packages (from anyio->httpx>=0.25.0->jupyterlab->jupyter->nuscenes-devkit) (1.3.0)\r\n",
      "Requirement already satisfied: parso<0.9.0,>=0.8.0 in /opt/homebrew/lib/python3.11/site-packages (from jedi>=0.16->ipython>=7.23.1->ipykernel->jupyter->nuscenes-devkit) (0.8.3)\r\n",
      "Requirement already satisfied: jsonschema-specifications>=2023.03.6 in /opt/homebrew/lib/python3.11/site-packages (from jsonschema>=4.18.0->jupyterlab-server<3,>=2.27.1->jupyterlab->jupyter->nuscenes-devkit) (2025.4.1)\r\n",
      "Requirement already satisfied: referencing>=0.28.4 in /opt/homebrew/lib/python3.11/site-packages (from jsonschema>=4.18.0->jupyterlab-server<3,>=2.27.1->jupyterlab->jupyter->nuscenes-devkit) (0.36.2)\r\n",
      "Requirement already satisfied: rpds-py>=0.7.1 in /opt/homebrew/lib/python3.11/site-packages (from jsonschema>=4.18.0->jupyterlab-server<3,>=2.27.1->jupyterlab->jupyter->nuscenes-devkit) (0.24.0)\r\n",
      "Requirement already satisfied: python-json-logger>=2.0.4 in /opt/homebrew/lib/python3.11/site-packages (from jupyter-events>=0.6.0->jupyter-server<3,>=2.4.0->jupyterlab->jupyter->nuscenes-devkit) (2.0.7)\r\n",
      "Requirement already satisfied: pyyaml>=5.3 in /opt/homebrew/lib/python3.11/site-packages (from jupyter-events>=0.6.0->jupyter-server<3,>=2.4.0->jupyterlab->jupyter->nuscenes-devkit) (6.0)\r\n",
      "Requirement already satisfied: rfc3339-validator in /opt/homebrew/lib/python3.11/site-packages (from jupyter-events>=0.6.0->jupyter-server<3,>=2.4.0->jupyterlab->jupyter->nuscenes-devkit) (0.1.4)\r\n",
      "Requirement already satisfied: rfc3986-validator>=0.1.1 in /opt/homebrew/lib/python3.11/site-packages (from jupyter-events>=0.6.0->jupyter-server<3,>=2.4.0->jupyterlab->jupyter->nuscenes-devkit) (0.1.1)\r\n",
      "Requirement already satisfied: charset-normalizer<4,>=2 in /opt/homebrew/lib/python3.11/site-packages (from requests>=2.31->jupyterlab-server<3,>=2.27.1->jupyterlab->jupyter->nuscenes-devkit) (3.1.0)\r\n",
      "Requirement already satisfied: urllib3<3,>=1.21.1 in /opt/homebrew/lib/python3.11/site-packages (from requests>=2.31->jupyterlab-server<3,>=2.27.1->jupyterlab->jupyter->nuscenes-devkit) (1.26.15)\r\n",
      "Requirement already satisfied: cffi>=1.0.1 in /opt/homebrew/lib/python3.11/site-packages (from argon2-cffi-bindings->argon2-cffi->notebook->jupyter->nuscenes-devkit) (1.16.0)\r\n",
      "Requirement already satisfied: executing>=1.2.0 in /opt/homebrew/lib/python3.11/site-packages (from stack-data->ipython>=7.23.1->ipykernel->jupyter->nuscenes-devkit) (1.2.0)\r\n",
      "Requirement already satisfied: asttokens>=2.1.0 in /opt/homebrew/lib/python3.11/site-packages (from stack-data->ipython>=7.23.1->ipykernel->jupyter->nuscenes-devkit) (2.2.1)\r\n",
      "Requirement already satisfied: pure-eval in /opt/homebrew/lib/python3.11/site-packages (from stack-data->ipython>=7.23.1->ipykernel->jupyter->nuscenes-devkit) (0.2.2)\r\n",
      "Requirement already satisfied: pycparser in /opt/homebrew/lib/python3.11/site-packages (from cffi>=1.0.1->argon2-cffi-bindings->argon2-cffi->notebook->jupyter->nuscenes-devkit) (2.21)\r\n",
      "Requirement already satisfied: fqdn in /opt/homebrew/lib/python3.11/site-packages (from jsonschema[format-nongpl]>=3.2.0->jupyter-events>=0.6.0->jupyter-server<3,>=2.4.0->jupyterlab->jupyter->nuscenes-devkit) (1.5.1)\r\n",
      "Requirement already satisfied: isoduration in /opt/homebrew/lib/python3.11/site-packages (from jsonschema[format-nongpl]>=3.2.0->jupyter-events>=0.6.0->jupyter-server<3,>=2.4.0->jupyterlab->jupyter->nuscenes-devkit) (20.11.0)\r\n",
      "Requirement already satisfied: jsonpointer>1.13 in /opt/homebrew/lib/python3.11/site-packages (from jsonschema[format-nongpl]>=3.2.0->jupyter-events>=0.6.0->jupyter-server<3,>=2.4.0->jupyterlab->jupyter->nuscenes-devkit) (2.3)\r\n",
      "Requirement already satisfied: uri-template in /opt/homebrew/lib/python3.11/site-packages (from jsonschema[format-nongpl]>=3.2.0->jupyter-events>=0.6.0->jupyter-server<3,>=2.4.0->jupyterlab->jupyter->nuscenes-devkit) (1.2.0)\r\n",
      "Requirement already satisfied: webcolors>=24.6.0 in /opt/homebrew/lib/python3.11/site-packages (from jsonschema[format-nongpl]>=3.2.0->jupyter-events>=0.6.0->jupyter-server<3,>=2.4.0->jupyterlab->jupyter->nuscenes-devkit) (24.11.1)\r\n",
      "Requirement already satisfied: arrow>=0.15.0 in /opt/homebrew/lib/python3.11/site-packages (from isoduration->jsonschema[format-nongpl]>=3.2.0->jupyter-events>=0.6.0->jupyter-server<3,>=2.4.0->jupyterlab->jupyter->nuscenes-devkit) (1.2.3)\r\n"
     ]
    }
   ]
  },
  {
   "cell_type": "markdown",
   "metadata": {},
   "source": [
    "#### Imports"
   ]
  },
  {
   "cell_type": "code",
   "metadata": {
    "ExecuteTime": {
     "end_time": "2025-04-26T11:33:40.202858Z",
     "start_time": "2025-04-26T11:33:39.165441Z"
    }
   },
   "source": [
    "import rerun as rr\n",
    "import rerun.utilities as rr_utils\n",
    "from export_gps import derive_latlon\n",
    "import rerun.blueprint as rrb\n",
    "from typing import Any, Final\n",
    "import matplotlib\n",
    "import numpy as np\n",
    "import time\n",
    "import nuscenes\n",
    "import pathlib\n",
    "import math \n",
    "import warnings\n",
    "\n",
    "warnings.filterwarnings(\"ignore\")"
   ],
   "outputs": [],
   "execution_count": 2
  },
  {
   "cell_type": "markdown",
   "metadata": {
    "id": "D95uvxUkYgaV"
   },
   "source": [
    "## Introduction"
   ]
  },
  {
   "cell_type": "markdown",
   "metadata": {
    "id": "ZwDyOJckYlGj"
   },
   "source": [
    "**mutli-model:**\n",
    " integration and analysis of multiple types of data—such as text, images, audio, video, and sensor data—within a single system or model.\n",
    "\n",
    "### What is Rerun?\n",
    "\n",
    "Rerun is building the multimodal data stack to model, ingest, store, query and view robotics-style data. It's used in areas like robotics, spatial and embodied AI, generative media, industrial processing, simulation, security, and health.\n",
    "\n",
    "![alt text](https://static.rerun.io/rerun-overview-new/1752fc259eef34f3aa8151b21b5937bc0bc2ad38/full.png)\n",
    "\n",
    "\n",
    "1. Use the Rerun SDK to log multimodal data from your code or load it from storage\n",
    "2. View live or recorded data in the standalone viewer or embedded in your app\n",
    "3. Build layouts and customize visualizations interactively in the UI or through the SDK\n",
    "4. Query recordings to get clean dataframes into tools like Pandas, Polars, or DuckDB\n",
    "5. Extend Rerun when you need to"
   ]
  },
  {
   "cell_type": "markdown",
   "metadata": {},
   "source": [
    "## So What Are Gonna Learn ? \n",
    "\n",
    "We'll start from a simpile visualization of car in the word. \n",
    "\n",
    "**Firstly,** Create simple static car in intersection \n",
    "\n",
    "**Secondary,** Create simple dynamic car in intersection with some movment. However the movement will not be prefect and this tool for analysing and seeing the problem in real time \n",
    "\n",
    "**Thirdly,** And most interstingly we'll Visualize the [nuScenes dataset](https://www.nuscenes.org/) including lidar, radar, images, and bounding boxes data."
   ]
  },
  {
   "cell_type": "markdown",
   "metadata": {},
   "source": [
    "#### Static Cars"
   ]
  },
  {
   "cell_type": "code",
   "metadata": {
    "ExecuteTime": {
     "end_time": "2025-04-26T11:33:42.866963Z",
     "start_time": "2025-04-26T11:33:42.864864Z"
    }
   },
   "source": [
    "class Color:\n",
    "    Red = (255, 0, 0, 255)\n",
    "    Gray = (128, 128, 128, 255)"
   ],
   "outputs": [],
   "execution_count": 3
  },
  {
   "cell_type": "code",
   "metadata": {
    "ExecuteTime": {
     "end_time": "2025-04-26T11:33:43.931099Z",
     "start_time": "2025-04-26T11:33:43.730593Z"
    }
   },
   "source": [
    "def static_car_location(\n",
    "    name: str = \"multi-car-scene-static\",\n",
    "    padding: int = 5,\n",
    ") -> None:\n",
    "    rr.init(name, spawn=True)\n",
    "\n",
    "    positions = np.array([\n",
    "        [0, 0, 0],            # Center car\n",
    "        [padding / 2, 0, 0],  # Right\n",
    "        [-padding / 2, 0, 0], # Left\n",
    "        [0, padding, 0],      # Top\n",
    "        [0, -padding, 0],     # Bottom\n",
    "    ], dtype=np.float32)\n",
    "\n",
    "    colors = np.array([\n",
    "        Color.Red,\n",
    "        Color.Gray,\n",
    "        Color.Gray,\n",
    "        Color.Gray,\n",
    "        Color.Gray\n",
    "    ])\n",
    "\n",
    "    half_sizes = np.tile([1.0, 2.0, 0.5], (5, 1))  # Repeat size for all cars\n",
    "    labels = [f\"Car {i}\" for i in range(len(positions))]\n",
    "\n",
    "    rr.log(\"cars\", rr.Boxes3D(\n",
    "        centers=positions,\n",
    "        half_sizes=half_sizes,\n",
    "        colors=colors,\n",
    "        labels=labels\n",
    "    ))\n",
    "\n",
    "static_car_location()"
   ],
   "outputs": [],
   "execution_count": 4
  },
  {
   "cell_type": "code",
   "metadata": {},
   "source": [
    "static_car_location(padding=10)"
   ],
   "outputs": [],
   "execution_count": null
  },
  {
   "cell_type": "markdown",
   "metadata": {},
   "source": [
    "#### Dynamic Intersection"
   ]
  },
  {
   "cell_type": "code",
   "metadata": {
    "ExecuteTime": {
     "end_time": "2025-04-26T11:33:51.459210Z",
     "start_time": "2025-04-26T11:33:48.742220Z"
    }
   },
   "source": [
    "def animate_cars_different_speeds(\n",
    "    name: str = \"multi-car-scene-different-speeds\",\n",
    "    padding: int = 5,\n",
    "    steps: int = 50,\n",
    "    step_size: float = 0.1,\n",
    "    delay: float = 0.05,\n",
    ") -> None:\n",
    "    rr.init(name, spawn=True)\n",
    "\n",
    "    # Initial positions\n",
    "    base_positions = np.array([\n",
    "        [0, 0, 0],            # Center car\n",
    "        [padding / 2, 0, 0],  # Right\n",
    "        [-padding / 2, 0, 0], # Left\n",
    "        [0, padding, 0],      # Top\n",
    "        [0, -padding, 0],     # Bottom\n",
    "    ], dtype=np.float32)\n",
    "\n",
    "    colors = np.array([\n",
    "        Color.Red,\n",
    "        Color.Gray,\n",
    "        Color.Gray,\n",
    "        Color.Gray,\n",
    "        Color.Gray\n",
    "    ])\n",
    "\n",
    "    speeds = np.array([-1.0, -0.5, -1.5, -0.2, -0.8])  #\n",
    "\n",
    "    half_sizes = np.tile([1.0, 2.0, 0.5], (5, 1))\n",
    "    labels = [f\"Car {i}\" for i in range(len(base_positions))]\n",
    "\n",
    "    for step in range(steps):\n",
    "        # Move each car in Y direction based on its own speed\n",
    "        offsets = np.zeros_like(base_positions)\n",
    "        offsets[:, 1] = step * step_size * speeds\n",
    "        moved_positions = base_positions + offsets\n",
    "\n",
    "        rr.set_time_sequence(\"frame\", step)\n",
    "        rr.log(\"cars\", rr.Boxes3D(\n",
    "            centers=moved_positions,\n",
    "            half_sizes=half_sizes,\n",
    "            colors=colors,\n",
    "            labels=labels\n",
    "        ))\n",
    "\n",
    "        time.sleep(delay)\n",
    "\n",
    "animate_cars_different_speeds()\n"
   ],
   "outputs": [],
   "execution_count": 5
  },
  {
   "cell_type": "markdown",
   "metadata": {},
   "source": [
    "#### Dynamic Intersection\n",
    "\n",
    "This example demonstrates the ability to read and visualize scenes from the nuScenes dataset, which is a public large-scale dataset specifically designed for autonomous driving.\n",
    "The scenes in this dataset encompass data collected from a comprehensive suite of sensors on autonomous vehicles.\n",
    "These include 6 cameras, 1 LIDAR, 5 RADAR, GPS and IMU sensors.\n",
    "Consequently, the dataset provides information about the vehicle's pose, the images captured, the recorded sensor data and the results of object detection at any given moment.\n",
    "\n",
    "<picture>\n",
    "  <img src=\"https://static.rerun.io/nuscenes_dataset/3724a84d6e95f15a71db2ccc443fb67bfae58843/full.png\" alt=\"\">\n",
    "  <source media=\"(max-width: 480px)\" srcset=\"https://static.rerun.io/nuscenes_dataset/3724a84d6e95f15a71db2ccc443fb67bfae58843/480w.png\">\n",
    "  <source media=\"(max-width: 768px)\" srcset=\"https://static.rerun.io/nuscenes_dataset/3724a84d6e95f15a71db2ccc443fb67bfae58843/768w.png\">\n",
    "  <source media=\"(max-width: 1024px)\" srcset=\"https://static.rerun.io/nuscenes_dataset/3724a84d6e95f15a71db2ccc443fb67bfae58843/1024w.png\">\n",
    "  <source media=\"(max-width: 1200px)\" srcset=\"https://static.rerun.io/nuscenes_dataset/3724a84d6e95f15a71db2ccc443fb67bfae58843/1200w.png\">\n",
    "</picture>"
   ]
  },
  {
   "cell_type": "markdown",
   "metadata": {},
   "source": [
    "#### Explore The Data"
   ]
  },
  {
   "cell_type": "markdown",
   "metadata": {},
   "source": [
    "###### Const Values"
   ]
  },
  {
   "cell_type": "code",
   "metadata": {
    "ExecuteTime": {
     "end_time": "2025-04-26T11:34:02.610503Z",
     "start_time": "2025-04-26T11:34:02.608168Z"
    }
   },
   "source": [
    "DESCRIPTION = \"\"\"\n",
    "# nuScenes\n",
    "\n",
    "Visualize the [nuScenes dataset](https://www.nuscenes.org/) including lidar, radar, images, and bounding boxes data.\n",
    "\n",
    "The full source code for this example is available\n",
    "[on GitHub](https://github.com/rerun-io/rerun/blob/latest/examples/python/nuscenes_dataset).\n",
    "\"\"\"\n",
    "\n",
    "DATASET_DIR: Final =  \"nuscenes-data\"\n",
    "\n",
    "cmap = matplotlib.colormaps[\"turbo_r\"]\n",
    "\n",
    "norm = matplotlib.colors.Normalize(\n",
    "    vmin=3.0,\n",
    "    vmax=75.0,\n",
    ") \n",
    "\n",
    "scene_name = \"scene-0061\"\n",
    "dataset_version = \"v1.0-mini\"\n",
    "seconds = float(\"inf\")\n"
   ],
   "outputs": [],
   "execution_count": 6
  },
  {
   "cell_type": "markdown",
   "metadata": {},
   "source": [
    "##### Helper Functions"
   ]
  },
  {
   "cell_type": "code",
   "metadata": {
    "ExecuteTime": {
     "end_time": "2025-04-26T11:34:03.760222Z",
     "start_time": "2025-04-26T11:34:03.754796Z"
    }
   },
   "source": [
    "def nuscene_sensor_names(nusc: nuscenes.NuScenes, scene_name: str) -> list[str]:\n",
    "    \"\"\"Return all sensor names in the scene.\"\"\"\n",
    "\n",
    "    sensor_names = set()\n",
    "\n",
    "    scene = next(s for s in nusc.scene if s[\"name\"] == scene_name)\n",
    "    first_sample = nusc.get(\"sample\", scene[\"first_sample_token\"])\n",
    "    for sample_data_token in first_sample[\"data\"].values():\n",
    "        sample_data = nusc.get(\"sample_data\", sample_data_token)\n",
    "        if sample_data[\"sensor_modality\"] == \"camera\":\n",
    "            current_camera_token = sample_data_token\n",
    "            while current_camera_token != \"\":\n",
    "                sample_data = nusc.get(\"sample_data\", current_camera_token)\n",
    "                sensor_name = sample_data[\"channel\"]\n",
    "                sensor_names.add(sensor_name)\n",
    "                current_camera_token = sample_data[\"next\"]\n",
    "\n",
    "    # For a known set of cameras, order the sensors in a circle.\n",
    "    ordering = {\n",
    "        \"CAM_FRONT_LEFT\": 0,\n",
    "        \"CAM_FRONT\": 1,\n",
    "        \"CAM_FRONT_RIGHT\": 2,\n",
    "        \"CAM_BACK_RIGHT\": 3,\n",
    "        \"CAM_BACK\": 4,\n",
    "        \"CAM_BACK_LEFT\": 5,\n",
    "    }\n",
    "    return sorted(sensor_names, key=lambda sensor_name: ordering.get(sensor_name, float(\"inf\")))\n",
    "\n",
    "\n",
    "def setup_blueprint(nusc: nuscenes.NuScenes, scene_name: str) -> rrb.Blueprint:\n",
    "    sensor_views = [\n",
    "        rrb.Spatial2DView(\n",
    "            name=sensor_name,\n",
    "            origin=f\"world/ego_vehicle/{sensor_name}\",\n",
    "            contents=[\"$origin/**\", \"world/anns\"],\n",
    "            overrides={\"world/anns\": rr.Boxes3D(fill_mode=\"majorwireframe\")},\n",
    "        )\n",
    "        for sensor_name in nuscene_sensor_names(nusc, scene_name)\n",
    "    ]\n",
    "    return rrb.Blueprint(\n",
    "        rrb.Vertical(\n",
    "            rrb.Horizontal(\n",
    "                rrb.Spatial3DView(\n",
    "                    name=\"3D\",\n",
    "                    origin=\"world\",\n",
    "                    defaults=[rr.Pinhole(image_plane_distance=5.0)],\n",
    "                    overrides={\"world/anns\": rr.Boxes3D(fill_mode=\"solid\")},\n",
    "                ),\n",
    "                rrb.Vertical(\n",
    "                    rrb.TextDocumentView(origin=\"description\", name=\"Description\"),\n",
    "                    rrb.MapView(\n",
    "                        origin=\"world\",\n",
    "                        name=\"MapView\",\n",
    "                        zoom=rrb.archetypes.MapZoom(18.0),\n",
    "                        background=rrb.archetypes.MapBackground(rrb.components.MapProvider.OpenStreetMap),\n",
    "                    ),\n",
    "                    row_shares=[1, 1],\n",
    "                ),\n",
    "                column_shares=[3, 1],\n",
    "            ),\n",
    "            rrb.Grid(*sensor_views),\n",
    "            row_shares=[4, 2],\n",
    "        ),\n",
    "        rrb.TimePanel(state=\"collapsed\"),\n",
    "    )\n"
   ],
   "outputs": [],
   "execution_count": 7
  },
  {
   "cell_type": "code",
   "metadata": {
    "ExecuteTime": {
     "end_time": "2025-04-26T11:34:03.986137Z",
     "start_time": "2025-04-26T11:34:03.984245Z"
    }
   },
   "source": [
    "def add_description(description: str) -> None:\n",
    "    rr.log(\n",
    "        \"description\",\n",
    "        rr.TextDocument(description, media_type=rr.MediaType.MARKDOWN),\n",
    "        static=True,\n",
    "    )"
   ],
   "outputs": [],
   "execution_count": 8
  },
  {
   "cell_type": "code",
   "metadata": {
    "ExecuteTime": {
     "end_time": "2025-04-26T11:34:04.190196Z",
     "start_time": "2025-04-26T11:34:04.184992Z"
    }
   },
   "source": [
    "def log_sensor_calibration(sample_data: dict[str, Any], nusc: nuscenes.NuScenes) -> None:\n",
    "    \"\"\"Log sensor calibration (pinhole camera, sensor poses, etc.).\"\"\"\n",
    "    sensor_name = sample_data[\"channel\"]\n",
    "    calibrated_sensor_token = sample_data[\"calibrated_sensor_token\"]\n",
    "    calibrated_sensor = nusc.get(\"calibrated_sensor\", calibrated_sensor_token)\n",
    "    rotation_xyzw = np.roll(calibrated_sensor[\"rotation\"], shift=-1)  # go from wxyz to xyzw\n",
    "    rr.log(\n",
    "        f\"world/ego_vehicle/{sensor_name}\",\n",
    "        rr.Transform3D(\n",
    "            translation=calibrated_sensor[\"translation\"],\n",
    "            rotation=rr.Quaternion(xyzw=rotation_xyzw),\n",
    "            relation=rr.TransformRelation.ParentFromChild,\n",
    "        ),\n",
    "        static=True,\n",
    "    )\n",
    "    if len(calibrated_sensor[\"camera_intrinsic\"]) != 0:\n",
    "        rr.log(\n",
    "            f\"world/ego_vehicle/{sensor_name}\",\n",
    "            rr.Pinhole(\n",
    "                image_from_camera=calibrated_sensor[\"camera_intrinsic\"],\n",
    "                width=sample_data[\"width\"],\n",
    "                height=sample_data[\"height\"],\n",
    "            ),\n",
    "            static=True,\n",
    "        )\n",
    "\n",
    "\n",
    "\n",
    "def log_camera_position_while_extract_metadata(nusc: nuscenes.NuScenes, scene_name: str, max_time_sec: float) -> tuple:\n",
    "    scene = next(s for s in nusc.scene if s[\"name\"] == scene_name)\n",
    "\n",
    "    location = nusc.get(\"log\", scene[\"log_token\"])[\"location\"]\n",
    "\n",
    "    rr.log(\"world\", rr.ViewCoordinates.RIGHT_HAND_Z_UP, static=True)\n",
    "\n",
    "    first_sample_token = scene[\"first_sample_token\"]\n",
    "    first_sample = nusc.get(\"sample\", scene[\"first_sample_token\"])\n",
    "\n",
    "    first_lidar_token = \"\"\n",
    "    first_radar_tokens = []\n",
    "    first_camera_tokens = []\n",
    "    for sample_data_token in first_sample[\"data\"].values():\n",
    "        sample_data = nusc.get(\"sample_data\", sample_data_token)\n",
    "        log_sensor_calibration(sample_data, nusc) # where each camera look in the car \n",
    "        if sample_data[\"sensor_modality\"] == \"lidar\":\n",
    "            first_lidar_token = sample_data_token\n",
    "        elif sample_data[\"sensor_modality\"] == \"radar\":\n",
    "            first_radar_tokens.append(sample_data_token)\n",
    "        elif sample_data[\"sensor_modality\"] == \"camera\":\n",
    "            first_camera_tokens.append(sample_data_token)\n",
    "    \n",
    "    first_timestamp_us = nusc.get(\"sample_data\", first_lidar_token)[\"timestamp\"]\n",
    "    max_timestamp_us = first_timestamp_us + 1e6 * max_time_sec\n",
    "\n",
    "    return first_sample_token, location, first_lidar_token, max_timestamp_us, first_camera_tokens, first_radar_tokens"
   ],
   "execution_count": null,
   "outputs": []
  },
  {
   "cell_type": "code",
   "metadata": {
    "ExecuteTime": {
     "end_time": "2025-04-26T11:34:04.335004Z",
     "start_time": "2025-04-26T11:34:04.330857Z"
    }
   },
   "source": [
    "\n",
    "def log_lidar_and_ego_pose(\n",
    "    location: str,\n",
    "    first_lidar_token: str,\n",
    "    nusc: nuscenes.NuScenes,\n",
    "    max_timestamp_us: float,\n",
    ") -> None:\n",
    "    current_lidar_token = first_lidar_token\n",
    "\n",
    "    ego_trajectory_lat_lon = []\n",
    "\n",
    "    while current_lidar_token != \"\":\n",
    "        sample_data = nusc.get(\"sample_data\", current_lidar_token)\n",
    "        sensor_name = sample_data[\"channel\"]\n",
    "\n",
    "        if max_timestamp_us < sample_data[\"timestamp\"]: # has finish run \n",
    "            break\n",
    "\n",
    "        rr.set_time(\"timestamp\", timestamp=sample_data[\"timestamp\"] * 1e-6)\n",
    "\n",
    "        ego_pose = nusc.get(\"ego_pose\", sample_data[\"ego_pose_token\"])\n",
    "        rotation_xyzw = np.roll(ego_pose[\"rotation\"], shift=-1)  # go from wxyz to xyzw\n",
    "        position_lat_lon = derive_latlon(location, ego_pose)\n",
    "        ego_trajectory_lat_lon.append(position_lat_lon)\n",
    "        rr.log(        # add location in minimap\n",
    "            \"world/ego_vehicle\",\n",
    "            rr.Transform3D(\n",
    "                translation=ego_pose[\"translation\"],\n",
    "                rotation=rr.Quaternion(xyzw=rotation_xyzw),\n",
    "                axis_length=10.0,  # The length of the visualized axis.\n",
    "                relation=rr.TransformRelation.ParentFromChild,\n",
    "            ),\n",
    "            rr.GeoPoints(lat_lon=position_lat_lon, radii=rr.Radius.ui_points(8.0), colors=0xFF0000FF),\n",
    "        )\n",
    "        rr.log( # add location trajectory in minimap\n",
    "            \"world/ego_vehicle/trajectory\",\n",
    "            rr.GeoLineStrings(lat_lon=ego_trajectory_lat_lon, radii=rr.Radius.ui_points(1.0), colors=0xFF0000FF),\n",
    "        )\n",
    "        # \n",
    "        current_lidar_token = sample_data[\"next\"]\n",
    "        # \n",
    "        data_file_path =pathlib.Path(nusc.dataroot) / sample_data[\"filename\"]\n",
    "        pointcloud = nuscenes.nuscenes.LidarPointCloud.from_file(str(data_file_path))\n",
    "        points = pointcloud.points[:3].T  # shape after transposing: (num_points, 3)\n",
    "        point_distances = np.linalg.norm(points, axis=1)\n",
    "        point_colors = cmap(norm(point_distances))\n",
    "        rr.log(f\"world/ego_vehicle/{sensor_name}\", rr.Points3D(points, colors=point_colors)) # all points in the word recived from camera"
   ],
   "outputs": [],
   "execution_count": 10
  },
  {
   "cell_type": "code",
   "metadata": {
    "ExecuteTime": {
     "end_time": "2025-04-26T11:34:04.489873Z",
     "start_time": "2025-04-26T11:34:04.487178Z"
    }
   },
   "source": [
    "def log_cameras(first_camera_tokens: list[str], nusc: nuscenes.NuScenes, max_timestamp_us: float) -> None:\n",
    "    \"\"\"Log camera data.\"\"\"\n",
    "    for first_camera_token in first_camera_tokens:\n",
    "        current_camera_token = first_camera_token\n",
    "        while current_camera_token != \"\":\n",
    "            sample_data = nusc.get(\"sample_data\", current_camera_token)\n",
    "            if max_timestamp_us < sample_data[\"timestamp\"]:\n",
    "                break\n",
    "            sensor_name = sample_data[\"channel\"]\n",
    "            rr.set_time(\"timestamp\", timestamp=sample_data[\"timestamp\"] * 1e-6)\n",
    "            data_file_path = pathlib.Path(nusc.dataroot) / sample_data[\"filename\"]\n",
    "            rr.log(f\"world/ego_vehicle/{sensor_name}\", rr.EncodedImage(path=data_file_path))\n",
    "            current_camera_token = sample_data[\"next\"]\n"
   ],
   "execution_count": 11,
   "outputs": []
  },
  {
   "cell_type": "code",
   "metadata": {
    "ExecuteTime": {
     "end_time": "2025-04-26T11:34:04.806325Z",
     "start_time": "2025-04-26T11:34:04.803019Z"
    }
   },
   "source": [
    "def log_radars(first_radar_tokens: list[str], nusc: nuscenes.NuScenes, max_timestamp_us: float) -> None:\n",
    "    \"\"\"Log radar data.\"\"\"\n",
    "    for first_radar_token in first_radar_tokens:\n",
    "        current_camera_token = first_radar_token\n",
    "        while current_camera_token != \"\":\n",
    "            sample_data = nusc.get(\"sample_data\", current_camera_token)\n",
    "            if max_timestamp_us < sample_data[\"timestamp\"]:\n",
    "                break\n",
    "            sensor_name = sample_data[\"channel\"]\n",
    "            rr.set_time(\"timestamp\", timestamp=sample_data[\"timestamp\"] * 1e-6)\n",
    "            data_file_path = pathlib.Path(nusc.dataroot) / sample_data[\"filename\"]\n",
    "            pointcloud = nuscenes.nuscenes.RadarPointCloud.from_file(str(data_file_path))\n",
    "            points = pointcloud.points[:3].T  # shape after transposing: (num_points, 3)\n",
    "            point_distances = np.linalg.norm(points, axis=1)\n",
    "            point_colors = cmap(norm(point_distances))\n",
    "            rr.log(\n",
    "                f\"world/ego_vehicle/{sensor_name}\",\n",
    "                rr.Points3D(points, colors=point_colors),\n",
    "            )\n",
    "            current_camera_token = sample_data[\"next\"]"
   ],
   "outputs": [],
   "execution_count": 12
  },
  {
   "cell_type": "code",
   "metadata": {
    "ExecuteTime": {
     "end_time": "2025-04-26T11:34:04.915732Z",
     "start_time": "2025-04-26T11:34:04.911523Z"
    }
   },
   "source": [
    "def log_annotations(location: str, first_sample_token: str, nusc: nuscenes.NuScenes, max_timestamp_us: float) -> None:\n",
    "    \"\"\"Log 3D bounding boxes.\"\"\"\n",
    "    label2id: dict[str, int] = {}\n",
    "    current_sample_token = first_sample_token\n",
    "    while current_sample_token != \"\":\n",
    "        sample_data = nusc.get(\"sample\", current_sample_token)\n",
    "        if max_timestamp_us < sample_data[\"timestamp\"]:\n",
    "            break\n",
    "        rr.set_time(\"timestamp\", timestamp=sample_data[\"timestamp\"] * 1e-6)\n",
    "        ann_tokens = sample_data[\"anns\"]\n",
    "        sizes = []\n",
    "        centers = []\n",
    "        quaternions = []\n",
    "        class_ids = []\n",
    "        lat_lon = []\n",
    "        for ann_token in ann_tokens:\n",
    "            ann = nusc.get(\"sample_annotation\", ann_token)\n",
    "\n",
    "            rotation_xyzw = np.roll(ann[\"rotation\"], shift=-1)  # go from wxyz to xyzw\n",
    "            width, length, height = ann[\"size\"]\n",
    "            sizes.append((length, width, height))  # x, y, z sizes\n",
    "            centers.append(ann[\"translation\"])\n",
    "            quaternions.append(rr.Quaternion(xyzw=rotation_xyzw))\n",
    "            if ann[\"category_name\"] not in label2id:\n",
    "                label2id[ann[\"category_name\"]] = len(label2id)\n",
    "            class_ids.append(label2id[ann[\"category_name\"]])\n",
    "            lat_lon.append(derive_latlon(location, ann))\n",
    "\n",
    "        rr.log(\n",
    "            \"world/anns\",\n",
    "            rr.Boxes3D(\n",
    "                sizes=sizes,\n",
    "                centers=centers,\n",
    "                quaternions=quaternions,\n",
    "                class_ids=class_ids,\n",
    "            ), # create bounding box \n",
    "            rr.GeoPoints(lat_lon=lat_lon), # minimap location as geopoint\n",
    "        )\n",
    "        current_sample_token = sample_data[\"next\"]\n",
    "\n",
    "    annotation_context = [(i, label) for label, i in label2id.items()]\n",
    "    rr.log(\"world/anns\", rr.AnnotationContext(annotation_context), static=True) # add maping between number to text\n"
   ],
   "outputs": [],
   "execution_count": 13
  },
  {
   "cell_type": "markdown",
   "metadata": {},
   "source": [
    "##### Code"
   ]
  },
  {
   "cell_type": "code",
   "metadata": {
    "ExecuteTime": {
     "end_time": "2025-04-26T11:34:06.641374Z",
     "start_time": "2025-04-26T11:34:06.339765Z"
    }
   },
   "source": [
    "nusc = nuscenes.NuScenes(version=dataset_version, dataroot=DATASET_DIR, verbose=True)"
   ],
   "outputs": [
    {
     "name": "stdout",
     "output_type": "stream",
     "text": [
      "======\n",
      "Loading NuScenes tables for version v1.0-mini...\n",
      "23 category,\n",
      "8 attribute,\n",
      "4 visibility,\n",
      "911 instance,\n",
      "12 sensor,\n",
      "120 calibrated_sensor,\n",
      "31206 ego_pose,\n",
      "8 log,\n",
      "10 scene,\n",
      "404 sample,\n",
      "31206 sample_data,\n",
      "18538 sample_annotation,\n",
      "4 map,\n",
      "Done loading in 0.261 seconds.\n",
      "======\n",
      "Reverse indexing ...\n",
      "Done reverse indexing in 0.0 seconds.\n",
      "======\n"
     ]
    }
   ],
   "execution_count": 14
  },
  {
   "cell_type": "code",
   "metadata": {
    "ExecuteTime": {
     "end_time": "2025-04-26T11:34:08.843083Z",
     "start_time": "2025-04-26T11:34:08.764165Z"
    }
   },
   "source": [
    "rr.init(\"car-dataset-example\", spawn=True)\n",
    "blueprint = setup_blueprint(nusc, scene_name)\n",
    "rr.send_blueprint(blueprint)\n",
    "add_description(DESCRIPTION)"
   ],
   "outputs": [],
   "execution_count": 15
  },
  {
   "cell_type": "code",
   "metadata": {
    "ExecuteTime": {
     "end_time": "2025-04-26T11:34:10.849356Z",
     "start_time": "2025-04-26T11:34:10.719360Z"
    }
   },
   "source": [
    "first_sample_token, location, first_lidar_token, max_timestamp_us, first_camera_tokens, first_radar_tokens = log_camera_position_while_extract_metadata(nusc, scene_name, max_time_sec=seconds)\n",
    "first_sample_token, location, first_lidar_token, max_timestamp_us, first_camera_tokens, first_radar_tokens"
   ],
   "outputs": [
    {
     "data": {
      "text/plain": [
       "('ca9a282c9e77460f8360f564131a8af5',\n",
       " 'singapore-onenorth',\n",
       " '9d9bf11fb0e144c8b446d54a8a00184f',\n",
       " inf,\n",
       " ['e3d495d4ac534d54b321f50006683844',\n",
       "  'aac7867ebf4f446395d29fbd60b63b3b',\n",
       "  '79dbb4460a6b40f49f9c150cb118247e',\n",
       "  '03bea5763f0f4722933508d5999c5fd8',\n",
       "  '43893a033f9c46d4a51b5e08a67a1eb7',\n",
       "  'fe5422747a7d4268a4b07fc396707b23'],\n",
       " ['37091c75b9704e0daa829ba56dfa0906',\n",
       "  '11946c1461d14016a322916157da3c7d',\n",
       "  '491209956ee3435a9ec173dad3aaf58b',\n",
       "  '312aa38d0e3e4f01b3124c523e6f9776',\n",
       "  '07b30d5eb6104e79be58eadf94382bc1'])"
      ]
     },
     "execution_count": 16,
     "metadata": {},
     "output_type": "execute_result"
    }
   ],
   "execution_count": 16
  },
  {
   "cell_type": "code",
   "metadata": {
    "ExecuteTime": {
     "end_time": "2025-04-26T11:34:17.303911Z",
     "start_time": "2025-04-26T11:34:12.070925Z"
    }
   },
   "source": [
    "log_lidar_and_ego_pose(location, first_lidar_token, nusc, max_timestamp_us)"
   ],
   "outputs": [],
   "execution_count": 17
  },
  {
   "cell_type": "code",
   "metadata": {
    "ExecuteTime": {
     "end_time": "2025-04-26T11:34:18.316921Z",
     "start_time": "2025-04-26T11:34:17.510245Z"
    }
   },
   "source": [
    "log_cameras(first_camera_tokens, nusc, max_timestamp_us)"
   ],
   "outputs": [],
   "execution_count": 18
  },
  {
   "cell_type": "code",
   "metadata": {
    "ExecuteTime": {
     "end_time": "2025-04-26T11:34:24.233821Z",
     "start_time": "2025-04-26T11:34:22.736533Z"
    }
   },
   "source": "log_radars(first_radar_tokens, nusc, max_timestamp_us)",
   "outputs": [],
   "execution_count": 19
  },
  {
   "cell_type": "code",
   "metadata": {
    "ExecuteTime": {
     "end_time": "2025-04-26T11:34:26.918793Z",
     "start_time": "2025-04-26T11:34:26.512649Z"
    }
   },
   "source": [
    "log_annotations(location, first_sample_token, nusc, max_timestamp_us)"
   ],
   "outputs": [],
   "execution_count": 20
  }
 ],
 "metadata": {
  "colab": {
   "provenance": []
  },
  "kernelspec": {
   "display_name": ".venv",
   "language": "python",
   "name": "python3"
  },
  "language_info": {
   "codemirror_mode": {
    "name": "ipython",
    "version": 3
   },
   "file_extension": ".py",
   "mimetype": "text/x-python",
   "name": "python",
   "nbconvert_exporter": "python",
   "pygments_lexer": "ipython3",
   "version": "3.11.12"
  }
 },
 "nbformat": 4,
 "nbformat_minor": 4
}
