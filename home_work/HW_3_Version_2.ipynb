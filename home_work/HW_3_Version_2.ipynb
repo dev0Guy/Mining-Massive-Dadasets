{
  "cells": [
    {
      "cell_type": "markdown",
      "metadata": {
        "id": "yEpzoJKH0P2W"
      },
      "source": [
        "# Homework Assignment 3"
      ]
    },
    {
      "cell_type": "markdown",
      "metadata": {
        "id": "oH_ZGm7d0P2Z"
      },
      "source": [
        "Using the [Seattle Library Collection Inventory Dataset](https://www.kaggle.com/city-of-seattle/seattle-library-collection-inventory#library-collection-inventory.csv) and Vaex please, answer the following questions:\n",
        "\n",
        "Important Note: **You can use a reltaviely small subset of the big dataset.**"
      ]
    },
    {
      "cell_type": "code",
      "execution_count": 1,
      "metadata": {
        "colab": {
          "base_uri": "https://localhost:8080/"
        },
        "id": "IsLRcilKj6wa",
        "outputId": "7eace973-297b-4ac4-fa03-9879f7a11d9a"
      },
      "outputs": [
        {
          "name": "stdout",
          "output_type": "stream",
          "text": [
            "Requirement already satisfied: vaex in /Users/guyarieli/miniconda3/envs/kubesim/lib/python3.10/site-packages (4.17.0)\n",
            "Requirement already satisfied: openpyxl in /Users/guyarieli/miniconda3/envs/kubesim/lib/python3.10/site-packages (3.1.5)\n",
            "Requirement already satisfied: seaborn in /Users/guyarieli/miniconda3/envs/kubesim/lib/python3.10/site-packages (0.13.2)\n",
            "Requirement already satisfied: plotly in /Users/guyarieli/miniconda3/envs/kubesim/lib/python3.10/site-packages (6.0.1)\n",
            "Requirement already satisfied: kagglehub[pandas-datasets] in /Users/guyarieli/miniconda3/envs/kubesim/lib/python3.10/site-packages (0.3.11)\n",
            "Requirement already satisfied: vaex-core~=4.17.1 in /Users/guyarieli/miniconda3/envs/kubesim/lib/python3.10/site-packages (from vaex) (4.17.1)\n",
            "Requirement already satisfied: vaex-astro<0.10,>=0.9.3 in /Users/guyarieli/miniconda3/envs/kubesim/lib/python3.10/site-packages (from vaex) (0.9.3)\n",
            "Requirement already satisfied: vaex-hdf5<0.15,>=0.13.0 in /Users/guyarieli/miniconda3/envs/kubesim/lib/python3.10/site-packages (from vaex) (0.14.1)\n",
            "Requirement already satisfied: vaex-viz<0.6,>=0.5.4 in /Users/guyarieli/miniconda3/envs/kubesim/lib/python3.10/site-packages (from vaex) (0.5.4)\n",
            "Requirement already satisfied: vaex-server~=0.9.0 in /Users/guyarieli/miniconda3/envs/kubesim/lib/python3.10/site-packages (from vaex) (0.9.0)\n",
            "Requirement already satisfied: vaex-jupyter<0.9,>=0.8.2 in /Users/guyarieli/miniconda3/envs/kubesim/lib/python3.10/site-packages (from vaex) (0.8.2)\n",
            "Requirement already satisfied: vaex-ml<0.19,>=0.18.3 in /Users/guyarieli/miniconda3/envs/kubesim/lib/python3.10/site-packages (from vaex) (0.18.3)\n",
            "Requirement already satisfied: packaging in /Users/guyarieli/miniconda3/envs/kubesim/lib/python3.10/site-packages (from kagglehub[pandas-datasets]) (23.2)\n",
            "Requirement already satisfied: pyyaml in /Users/guyarieli/miniconda3/envs/kubesim/lib/python3.10/site-packages (from kagglehub[pandas-datasets]) (6.0.1)\n",
            "Requirement already satisfied: requests in /Users/guyarieli/miniconda3/envs/kubesim/lib/python3.10/site-packages (from kagglehub[pandas-datasets]) (2.31.0)\n",
            "Requirement already satisfied: tqdm in /Users/guyarieli/miniconda3/envs/kubesim/lib/python3.10/site-packages (from kagglehub[pandas-datasets]) (4.67.1)\n",
            "Requirement already satisfied: pandas in /Users/guyarieli/miniconda3/envs/kubesim/lib/python3.10/site-packages (from kagglehub[pandas-datasets]) (2.2.3)\n",
            "Requirement already satisfied: et-xmlfile in /Users/guyarieli/miniconda3/envs/kubesim/lib/python3.10/site-packages (from openpyxl) (2.0.0)\n",
            "Requirement already satisfied: numpy!=1.24.0,>=1.20 in /Users/guyarieli/miniconda3/envs/kubesim/lib/python3.10/site-packages (from seaborn) (1.26.2)\n",
            "Requirement already satisfied: matplotlib!=3.6.1,>=3.4 in /Users/guyarieli/miniconda3/envs/kubesim/lib/python3.10/site-packages (from seaborn) (3.10.1)\n",
            "Requirement already satisfied: narwhals>=1.15.1 in /Users/guyarieli/miniconda3/envs/kubesim/lib/python3.10/site-packages (from plotly) (1.34.1)\n",
            "Requirement already satisfied: contourpy>=1.0.1 in /Users/guyarieli/miniconda3/envs/kubesim/lib/python3.10/site-packages (from matplotlib!=3.6.1,>=3.4->seaborn) (1.3.1)\n",
            "Requirement already satisfied: cycler>=0.10 in /Users/guyarieli/miniconda3/envs/kubesim/lib/python3.10/site-packages (from matplotlib!=3.6.1,>=3.4->seaborn) (0.12.1)\n",
            "Requirement already satisfied: fonttools>=4.22.0 in /Users/guyarieli/miniconda3/envs/kubesim/lib/python3.10/site-packages (from matplotlib!=3.6.1,>=3.4->seaborn) (4.57.0)\n",
            "Requirement already satisfied: kiwisolver>=1.3.1 in /Users/guyarieli/miniconda3/envs/kubesim/lib/python3.10/site-packages (from matplotlib!=3.6.1,>=3.4->seaborn) (1.4.8)\n",
            "Requirement already satisfied: pillow>=8 in /Users/guyarieli/miniconda3/envs/kubesim/lib/python3.10/site-packages (from matplotlib!=3.6.1,>=3.4->seaborn) (11.1.0)\n",
            "Requirement already satisfied: pyparsing>=2.3.1 in /Users/guyarieli/miniconda3/envs/kubesim/lib/python3.10/site-packages (from matplotlib!=3.6.1,>=3.4->seaborn) (3.2.3)\n",
            "Requirement already satisfied: python-dateutil>=2.7 in /Users/guyarieli/miniconda3/envs/kubesim/lib/python3.10/site-packages (from matplotlib!=3.6.1,>=3.4->seaborn) (2.8.2)\n",
            "Requirement already satisfied: pytz>=2020.1 in /Users/guyarieli/miniconda3/envs/kubesim/lib/python3.10/site-packages (from pandas->kagglehub[pandas-datasets]) (2025.2)\n",
            "Requirement already satisfied: tzdata>=2022.7 in /Users/guyarieli/miniconda3/envs/kubesim/lib/python3.10/site-packages (from pandas->kagglehub[pandas-datasets]) (2025.2)\n",
            "Requirement already satisfied: astropy in /Users/guyarieli/miniconda3/envs/kubesim/lib/python3.10/site-packages (from vaex-astro<0.10,>=0.9.3->vaex) (6.1.7)\n",
            "Requirement already satisfied: aplus in /Users/guyarieli/miniconda3/envs/kubesim/lib/python3.10/site-packages (from vaex-core~=4.17.1->vaex) (0.11.0)\n",
            "Requirement already satisfied: tabulate>=0.8.3 in /Users/guyarieli/miniconda3/envs/kubesim/lib/python3.10/site-packages (from vaex-core~=4.17.1->vaex) (0.9.0)\n",
            "Requirement already satisfied: future>=0.15.2 in /Users/guyarieli/miniconda3/envs/kubesim/lib/python3.10/site-packages (from vaex-core~=4.17.1->vaex) (1.0.0)\n",
            "Requirement already satisfied: progressbar2 in /Users/guyarieli/miniconda3/envs/kubesim/lib/python3.10/site-packages (from vaex-core~=4.17.1->vaex) (4.5.0)\n",
            "Requirement already satisfied: six in /Users/guyarieli/miniconda3/envs/kubesim/lib/python3.10/site-packages (from vaex-core~=4.17.1->vaex) (1.16.0)\n",
            "Requirement already satisfied: cloudpickle in /Users/guyarieli/miniconda3/envs/kubesim/lib/python3.10/site-packages (from vaex-core~=4.17.1->vaex) (3.0.0)\n",
            "Requirement already satisfied: dask!=2022.4.0 in /Users/guyarieli/miniconda3/envs/kubesim/lib/python3.10/site-packages (from vaex-core~=4.17.1->vaex) (2025.3.0)\n",
            "Requirement already satisfied: nest-asyncio>=1.3.3 in /Users/guyarieli/miniconda3/envs/kubesim/lib/python3.10/site-packages (from vaex-core~=4.17.1->vaex) (1.5.8)\n",
            "Requirement already satisfied: pyarrow>=5.0.0 in /Users/guyarieli/miniconda3/envs/kubesim/lib/python3.10/site-packages (from vaex-core~=4.17.1->vaex) (19.0.1)\n",
            "Requirement already satisfied: frozendict!=2.2.0 in /Users/guyarieli/miniconda3/envs/kubesim/lib/python3.10/site-packages (from vaex-core~=4.17.1->vaex) (2.4.6)\n",
            "Requirement already satisfied: blake3 in /Users/guyarieli/miniconda3/envs/kubesim/lib/python3.10/site-packages (from vaex-core~=4.17.1->vaex) (1.0.4)\n",
            "Requirement already satisfied: filelock in /Users/guyarieli/miniconda3/envs/kubesim/lib/python3.10/site-packages (from vaex-core~=4.17.1->vaex) (3.18.0)\n",
            "Requirement already satisfied: pydantic>=1.8.0 in /Users/guyarieli/miniconda3/envs/kubesim/lib/python3.10/site-packages (from vaex-core~=4.17.1->vaex) (2.11.2)\n",
            "Requirement already satisfied: rich in /Users/guyarieli/miniconda3/envs/kubesim/lib/python3.10/site-packages (from vaex-core~=4.17.1->vaex) (14.0.0)\n",
            "Requirement already satisfied: h5py>=2.9 in /Users/guyarieli/miniconda3/envs/kubesim/lib/python3.10/site-packages (from vaex-hdf5<0.15,>=0.13.0->vaex) (3.13.0)\n",
            "Requirement already satisfied: bqplot>=0.10.1 in /Users/guyarieli/miniconda3/envs/kubesim/lib/python3.10/site-packages (from vaex-jupyter<0.9,>=0.8.2->vaex) (0.12.44)\n",
            "Requirement already satisfied: ipyvolume>=0.4 in /Users/guyarieli/miniconda3/envs/kubesim/lib/python3.10/site-packages (from vaex-jupyter<0.9,>=0.8.2->vaex) (0.6.3)\n",
            "Requirement already satisfied: ipyleaflet in /Users/guyarieli/miniconda3/envs/kubesim/lib/python3.10/site-packages (from vaex-jupyter<0.9,>=0.8.2->vaex) (0.19.2)\n",
            "Requirement already satisfied: ipympl in /Users/guyarieli/miniconda3/envs/kubesim/lib/python3.10/site-packages (from vaex-jupyter<0.9,>=0.8.2->vaex) (0.9.7)\n",
            "Requirement already satisfied: ipyvuetify<2,>=1.2.2 in /Users/guyarieli/miniconda3/envs/kubesim/lib/python3.10/site-packages (from vaex-jupyter<0.9,>=0.8.2->vaex) (1.11.1)\n",
            "Requirement already satisfied: xarray in /Users/guyarieli/miniconda3/envs/kubesim/lib/python3.10/site-packages (from vaex-jupyter<0.9,>=0.8.2->vaex) (2025.3.1)\n",
            "Requirement already satisfied: numba in /Users/guyarieli/miniconda3/envs/kubesim/lib/python3.10/site-packages (from vaex-ml<0.19,>=0.18.3->vaex) (0.61.0)\n",
            "Requirement already satisfied: traitlets in /Users/guyarieli/miniconda3/envs/kubesim/lib/python3.10/site-packages (from vaex-ml<0.19,>=0.18.3->vaex) (5.14.0)\n",
            "Requirement already satisfied: jinja2 in /Users/guyarieli/miniconda3/envs/kubesim/lib/python3.10/site-packages (from vaex-ml<0.19,>=0.18.3->vaex) (3.1.2)\n",
            "Requirement already satisfied: tornado>4.1 in /Users/guyarieli/miniconda3/envs/kubesim/lib/python3.10/site-packages (from vaex-server~=0.9.0->vaex) (6.4)\n",
            "Requirement already satisfied: cachetools in /Users/guyarieli/miniconda3/envs/kubesim/lib/python3.10/site-packages (from vaex-server~=0.9.0->vaex) (5.5.2)\n",
            "Requirement already satisfied: fastapi in /Users/guyarieli/miniconda3/envs/kubesim/lib/python3.10/site-packages (from vaex-server~=0.9.0->vaex) (0.115.12)\n",
            "Requirement already satisfied: uvicorn[standard] in /Users/guyarieli/miniconda3/envs/kubesim/lib/python3.10/site-packages (from vaex-server~=0.9.0->vaex) (0.34.0)\n",
            "Requirement already satisfied: charset-normalizer<4,>=2 in /Users/guyarieli/miniconda3/envs/kubesim/lib/python3.10/site-packages (from requests->kagglehub[pandas-datasets]) (3.3.2)\n",
            "Requirement already satisfied: idna<4,>=2.5 in /Users/guyarieli/miniconda3/envs/kubesim/lib/python3.10/site-packages (from requests->kagglehub[pandas-datasets]) (3.6)\n",
            "Requirement already satisfied: urllib3<3,>=1.21.1 in /Users/guyarieli/miniconda3/envs/kubesim/lib/python3.10/site-packages (from requests->kagglehub[pandas-datasets]) (2.1.0)\n",
            "Requirement already satisfied: certifi>=2017.4.17 in /Users/guyarieli/miniconda3/envs/kubesim/lib/python3.10/site-packages (from requests->kagglehub[pandas-datasets]) (2023.11.17)\n",
            "Requirement already satisfied: ipywidgets<9,>=7.5.0 in /Users/guyarieli/miniconda3/envs/kubesim/lib/python3.10/site-packages (from bqplot>=0.10.1->vaex-jupyter<0.9,>=0.8.2->vaex) (8.1.1)\n",
            "Requirement already satisfied: traittypes>=0.0.6 in /Users/guyarieli/miniconda3/envs/kubesim/lib/python3.10/site-packages (from bqplot>=0.10.1->vaex-jupyter<0.9,>=0.8.2->vaex) (0.2.1)\n",
            "Requirement already satisfied: click>=8.1 in /Users/guyarieli/miniconda3/envs/kubesim/lib/python3.10/site-packages (from dask!=2022.4.0->vaex-core~=4.17.1->vaex) (8.1.8)\n",
            "Requirement already satisfied: fsspec>=2021.09.0 in /Users/guyarieli/miniconda3/envs/kubesim/lib/python3.10/site-packages (from dask!=2022.4.0->vaex-core~=4.17.1->vaex) (2025.3.2)\n",
            "Requirement already satisfied: partd>=1.4.0 in /Users/guyarieli/miniconda3/envs/kubesim/lib/python3.10/site-packages (from dask!=2022.4.0->vaex-core~=4.17.1->vaex) (1.4.2)\n",
            "Requirement already satisfied: toolz>=0.10.0 in /Users/guyarieli/miniconda3/envs/kubesim/lib/python3.10/site-packages (from dask!=2022.4.0->vaex-core~=4.17.1->vaex) (1.0.0)\n",
            "Requirement already satisfied: importlib_metadata>=4.13.0 in /Users/guyarieli/miniconda3/envs/kubesim/lib/python3.10/site-packages (from dask!=2022.4.0->vaex-core~=4.17.1->vaex) (8.6.1)\n",
            "Requirement already satisfied: ipywebrtc in /Users/guyarieli/miniconda3/envs/kubesim/lib/python3.10/site-packages (from ipyvolume>=0.4->vaex-jupyter<0.9,>=0.8.2->vaex) (0.6.0)\n",
            "Requirement already satisfied: ipyvue>=1.7.0 in /Users/guyarieli/miniconda3/envs/kubesim/lib/python3.10/site-packages (from ipyvolume>=0.4->vaex-jupyter<0.9,>=0.8.2->vaex) (1.11.2)\n",
            "Requirement already satisfied: pythreejs>=2.4.0 in /Users/guyarieli/miniconda3/envs/kubesim/lib/python3.10/site-packages (from ipyvolume>=0.4->vaex-jupyter<0.9,>=0.8.2->vaex) (2.4.2)\n",
            "Requirement already satisfied: annotated-types>=0.6.0 in /Users/guyarieli/miniconda3/envs/kubesim/lib/python3.10/site-packages (from pydantic>=1.8.0->vaex-core~=4.17.1->vaex) (0.7.0)\n",
            "Requirement already satisfied: pydantic-core==2.33.1 in /Users/guyarieli/miniconda3/envs/kubesim/lib/python3.10/site-packages (from pydantic>=1.8.0->vaex-core~=4.17.1->vaex) (2.33.1)\n",
            "Requirement already satisfied: typing-extensions>=4.12.2 in /Users/guyarieli/miniconda3/envs/kubesim/lib/python3.10/site-packages (from pydantic>=1.8.0->vaex-core~=4.17.1->vaex) (4.13.1)\n",
            "Requirement already satisfied: typing-inspection>=0.4.0 in /Users/guyarieli/miniconda3/envs/kubesim/lib/python3.10/site-packages (from pydantic>=1.8.0->vaex-core~=4.17.1->vaex) (0.4.0)\n",
            "Requirement already satisfied: pyerfa>=2.0.1.1 in /Users/guyarieli/miniconda3/envs/kubesim/lib/python3.10/site-packages (from astropy->vaex-astro<0.10,>=0.9.3->vaex) (2.0.1.5)\n",
            "Requirement already satisfied: astropy-iers-data>=0.2024.10.28.0.34.7 in /Users/guyarieli/miniconda3/envs/kubesim/lib/python3.10/site-packages (from astropy->vaex-astro<0.10,>=0.9.3->vaex) (0.2025.4.7.0.35.30)\n",
            "Requirement already satisfied: starlette<0.47.0,>=0.40.0 in /Users/guyarieli/miniconda3/envs/kubesim/lib/python3.10/site-packages (from fastapi->vaex-server~=0.9.0->vaex) (0.46.1)\n",
            "Requirement already satisfied: branca>=0.5.0 in /Users/guyarieli/miniconda3/envs/kubesim/lib/python3.10/site-packages (from ipyleaflet->vaex-jupyter<0.9,>=0.8.2->vaex) (0.8.1)\n",
            "Requirement already satisfied: jupyter-leaflet<0.20,>=0.19 in /Users/guyarieli/miniconda3/envs/kubesim/lib/python3.10/site-packages (from ipyleaflet->vaex-jupyter<0.9,>=0.8.2->vaex) (0.19.2)\n",
            "Requirement already satisfied: xyzservices>=2021.8.1 in /Users/guyarieli/miniconda3/envs/kubesim/lib/python3.10/site-packages (from ipyleaflet->vaex-jupyter<0.9,>=0.8.2->vaex) (2025.1.0)\n",
            "Requirement already satisfied: ipython<10 in /Users/guyarieli/miniconda3/envs/kubesim/lib/python3.10/site-packages (from ipympl->vaex-jupyter<0.9,>=0.8.2->vaex) (8.18.1)\n",
            "Requirement already satisfied: MarkupSafe>=2.0 in /Users/guyarieli/miniconda3/envs/kubesim/lib/python3.10/site-packages (from jinja2->vaex-ml<0.19,>=0.18.3->vaex) (2.1.3)\n",
            "Requirement already satisfied: llvmlite<0.45,>=0.44.0dev0 in /Users/guyarieli/miniconda3/envs/kubesim/lib/python3.10/site-packages (from numba->vaex-ml<0.19,>=0.18.3->vaex) (0.44.0)\n",
            "Requirement already satisfied: python-utils>=3.8.1 in /Users/guyarieli/miniconda3/envs/kubesim/lib/python3.10/site-packages (from progressbar2->vaex-core~=4.17.1->vaex) (3.9.1)\n",
            "Requirement already satisfied: markdown-it-py>=2.2.0 in /Users/guyarieli/miniconda3/envs/kubesim/lib/python3.10/site-packages (from rich->vaex-core~=4.17.1->vaex) (3.0.0)\n",
            "Requirement already satisfied: pygments<3.0.0,>=2.13.0 in /Users/guyarieli/miniconda3/envs/kubesim/lib/python3.10/site-packages (from rich->vaex-core~=4.17.1->vaex) (2.17.2)\n",
            "Requirement already satisfied: h11>=0.8 in /Users/guyarieli/miniconda3/envs/kubesim/lib/python3.10/site-packages (from uvicorn[standard]->vaex-server~=0.9.0->vaex) (0.14.0)\n",
            "Requirement already satisfied: httptools>=0.6.3 in /Users/guyarieli/miniconda3/envs/kubesim/lib/python3.10/site-packages (from uvicorn[standard]->vaex-server~=0.9.0->vaex) (0.6.4)\n",
            "Requirement already satisfied: python-dotenv>=0.13 in /Users/guyarieli/miniconda3/envs/kubesim/lib/python3.10/site-packages (from uvicorn[standard]->vaex-server~=0.9.0->vaex) (1.1.0)\n",
            "Requirement already satisfied: uvloop!=0.15.0,!=0.15.1,>=0.14.0 in /Users/guyarieli/miniconda3/envs/kubesim/lib/python3.10/site-packages (from uvicorn[standard]->vaex-server~=0.9.0->vaex) (0.21.0)\n",
            "Requirement already satisfied: watchfiles>=0.13 in /Users/guyarieli/miniconda3/envs/kubesim/lib/python3.10/site-packages (from uvicorn[standard]->vaex-server~=0.9.0->vaex) (1.0.4)\n",
            "Requirement already satisfied: websockets>=10.4 in /Users/guyarieli/miniconda3/envs/kubesim/lib/python3.10/site-packages (from uvicorn[standard]->vaex-server~=0.9.0->vaex) (15.0.1)\n",
            "Requirement already satisfied: zipp>=3.20 in /Users/guyarieli/miniconda3/envs/kubesim/lib/python3.10/site-packages (from importlib_metadata>=4.13.0->dask!=2022.4.0->vaex-core~=4.17.1->vaex) (3.21.0)\n",
            "Requirement already satisfied: decorator in /Users/guyarieli/miniconda3/envs/kubesim/lib/python3.10/site-packages (from ipython<10->ipympl->vaex-jupyter<0.9,>=0.8.2->vaex) (5.1.1)\n",
            "Requirement already satisfied: jedi>=0.16 in /Users/guyarieli/miniconda3/envs/kubesim/lib/python3.10/site-packages (from ipython<10->ipympl->vaex-jupyter<0.9,>=0.8.2->vaex) (0.19.1)\n",
            "Requirement already satisfied: matplotlib-inline in /Users/guyarieli/miniconda3/envs/kubesim/lib/python3.10/site-packages (from ipython<10->ipympl->vaex-jupyter<0.9,>=0.8.2->vaex) (0.1.6)\n",
            "Requirement already satisfied: prompt-toolkit<3.1.0,>=3.0.41 in /Users/guyarieli/miniconda3/envs/kubesim/lib/python3.10/site-packages (from ipython<10->ipympl->vaex-jupyter<0.9,>=0.8.2->vaex) (3.0.43)\n",
            "Requirement already satisfied: stack-data in /Users/guyarieli/miniconda3/envs/kubesim/lib/python3.10/site-packages (from ipython<10->ipympl->vaex-jupyter<0.9,>=0.8.2->vaex) (0.6.3)\n",
            "Requirement already satisfied: exceptiongroup in /Users/guyarieli/miniconda3/envs/kubesim/lib/python3.10/site-packages (from ipython<10->ipympl->vaex-jupyter<0.9,>=0.8.2->vaex) (1.2.0)\n",
            "Requirement already satisfied: pexpect>4.3 in /Users/guyarieli/miniconda3/envs/kubesim/lib/python3.10/site-packages (from ipython<10->ipympl->vaex-jupyter<0.9,>=0.8.2->vaex) (4.9.0)\n",
            "Requirement already satisfied: comm>=0.1.3 in /Users/guyarieli/miniconda3/envs/kubesim/lib/python3.10/site-packages (from ipywidgets<9,>=7.5.0->bqplot>=0.10.1->vaex-jupyter<0.9,>=0.8.2->vaex) (0.2.0)\n",
            "Requirement already satisfied: widgetsnbextension~=4.0.9 in /Users/guyarieli/miniconda3/envs/kubesim/lib/python3.10/site-packages (from ipywidgets<9,>=7.5.0->bqplot>=0.10.1->vaex-jupyter<0.9,>=0.8.2->vaex) (4.0.9)\n",
            "Requirement already satisfied: jupyterlab-widgets~=3.0.9 in /Users/guyarieli/miniconda3/envs/kubesim/lib/python3.10/site-packages (from ipywidgets<9,>=7.5.0->bqplot>=0.10.1->vaex-jupyter<0.9,>=0.8.2->vaex) (3.0.9)\n",
            "Requirement already satisfied: mdurl~=0.1 in /Users/guyarieli/miniconda3/envs/kubesim/lib/python3.10/site-packages (from markdown-it-py>=2.2.0->rich->vaex-core~=4.17.1->vaex) (0.1.2)\n",
            "Requirement already satisfied: locket in /Users/guyarieli/miniconda3/envs/kubesim/lib/python3.10/site-packages (from partd>=1.4.0->dask!=2022.4.0->vaex-core~=4.17.1->vaex) (1.0.0)\n",
            "Requirement already satisfied: ipydatawidgets>=1.1.1 in /Users/guyarieli/miniconda3/envs/kubesim/lib/python3.10/site-packages (from pythreejs>=2.4.0->ipyvolume>=0.4->vaex-jupyter<0.9,>=0.8.2->vaex) (4.3.5)\n",
            "Requirement already satisfied: anyio<5,>=3.6.2 in /Users/guyarieli/miniconda3/envs/kubesim/lib/python3.10/site-packages (from starlette<0.47.0,>=0.40.0->fastapi->vaex-server~=0.9.0->vaex) (4.1.0)\n",
            "Requirement already satisfied: sniffio>=1.1 in /Users/guyarieli/miniconda3/envs/kubesim/lib/python3.10/site-packages (from anyio<5,>=3.6.2->starlette<0.47.0,>=0.40.0->fastapi->vaex-server~=0.9.0->vaex) (1.3.0)\n",
            "Requirement already satisfied: parso<0.9.0,>=0.8.3 in /Users/guyarieli/miniconda3/envs/kubesim/lib/python3.10/site-packages (from jedi>=0.16->ipython<10->ipympl->vaex-jupyter<0.9,>=0.8.2->vaex) (0.8.3)\n",
            "Requirement already satisfied: ptyprocess>=0.5 in /Users/guyarieli/miniconda3/envs/kubesim/lib/python3.10/site-packages (from pexpect>4.3->ipython<10->ipympl->vaex-jupyter<0.9,>=0.8.2->vaex) (0.7.0)\n",
            "Requirement already satisfied: wcwidth in /Users/guyarieli/miniconda3/envs/kubesim/lib/python3.10/site-packages (from prompt-toolkit<3.1.0,>=3.0.41->ipython<10->ipympl->vaex-jupyter<0.9,>=0.8.2->vaex) (0.2.12)\n",
            "Requirement already satisfied: executing>=1.2.0 in /Users/guyarieli/miniconda3/envs/kubesim/lib/python3.10/site-packages (from stack-data->ipython<10->ipympl->vaex-jupyter<0.9,>=0.8.2->vaex) (2.0.1)\n",
            "Requirement already satisfied: asttokens>=2.1.0 in /Users/guyarieli/miniconda3/envs/kubesim/lib/python3.10/site-packages (from stack-data->ipython<10->ipympl->vaex-jupyter<0.9,>=0.8.2->vaex) (2.4.1)\n",
            "Requirement already satisfied: pure-eval in /Users/guyarieli/miniconda3/envs/kubesim/lib/python3.10/site-packages (from stack-data->ipython<10->ipympl->vaex-jupyter<0.9,>=0.8.2->vaex) (0.2.2)\n"
          ]
        }
      ],
      "source": [
        "!pip install vaex \"kagglehub[pandas-datasets]\" openpyxl seaborn plotly"
      ]
    },
    {
      "cell_type": "code",
      "execution_count": 2,
      "metadata": {},
      "outputs": [],
      "source": [
        "from collections import Counter\n",
        "import matplotlib.pyplot as plt\n",
        "import seaborn as sns\n",
        "import pandas as pd\n",
        "import numpy as np\n",
        "import plotly.express as px\n",
        "import kagglehub\n",
        "import vaex\n",
        "import os"
      ]
    },
    {
      "cell_type": "code",
      "execution_count": 6,
      "metadata": {
        "id": "D5YWV9YKkDtz"
      },
      "outputs": [
        {
          "name": "stdout",
          "output_type": "stream",
          "text": [
            "Downloading from https://www.kaggle.com/api/v1/datasets/download/city-of-seattle/seattle-library-collection-inventory?dataset_version_number=7...\n"
          ]
        },
        {
          "name": "stderr",
          "output_type": "stream",
          "text": [
            "100%|██████████| 3.77G/3.77G [05:10<00:00, 13.0MB/s]"
          ]
        },
        {
          "name": "stdout",
          "output_type": "stream",
          "text": [
            "Extracting files...\n"
          ]
        },
        {
          "name": "stderr",
          "output_type": "stream",
          "text": [
            "\n"
          ]
        },
        {
          "name": "stdout",
          "output_type": "stream",
          "text": [
            "Path to dataset files: /Users/guyarieli/Documents/אוניברסיטה/כריית נתונים במאגרי מידע גדולים/עבודות/datasets/city-of-seattle/seattle-library-collection-inventory/versions/7\n"
          ]
        }
      ],
      "source": [
        "\n",
        "os.environ['KAGGLEHUB_CACHE'] = '/Users/guyarieli/Documents/אוניברסיטה/כריית נתונים במאגרי מידע גדולים/עבודות'\n",
        "path = kagglehub.dataset_download(\"city-of-seattle/seattle-library-collection-inventory\", )\n",
        "print(\"Path to dataset files:\", path)"
      ]
    },
    {
      "cell_type": "code",
      "execution_count": null,
      "metadata": {},
      "outputs": [
        {
          "data": {
            "text/html": [
              "<table>\n",
              "<thead>\n",
              "<tr><th>#                            </th><th style=\"text-align: right;\">  BibNum</th><th>Title                                              </th><th>Author              </th><th>ISBN                                               </th><th>PublicationYear  </th><th>Publisher                                         </th><th>Subjects                                           </th><th>ItemType  </th><th>ItemCollection  </th><th>FloatingItem  </th><th>ItemLocation  </th><th>ReportDate             </th><th style=\"text-align: right;\">  ItemCount</th></tr>\n",
              "</thead>\n",
              "<tbody>\n",
              "<tr><td><i style='opacity: 0.6'>0</i></td><td style=\"text-align: right;\"> 3011076</td><td>&quot;A tale of two friends / adapted by Ellie O&#x27;Ryan...</td><td>O&#x27;Ryan, Ellie       </td><td>&#x27;1481425730, 1481425749, 9781481425735, 97814814...</td><td>2014.            </td><td>Simon Spotlight,                                  </td><td>&#x27;Musicians Fiction, Bullfighters Fiction, Best f...</td><td>jcbk      </td><td>ncrdr           </td><td>Floating      </td><td>qna           </td><td>2017-09-01T00:00:00.000</td><td style=\"text-align: right;\">          1</td></tr>\n",
              "<tr><td><i style='opacity: 0.6'>1</i></td><td style=\"text-align: right;\"> 2765249</td><td>Lone wolf [text (large print)] / Jodi Picoult.     </td><td>Picoult, Jodi, 1966-</td><td>1611733669, 9781611733662                          </td><td>2012.            </td><td>Center Point Publishing,                          </td><td>&#x27;Accident victims Fiction, Terminal care Decisio...</td><td>acbk      </td><td>nalpfic         </td><td>Floating      </td><td>swt           </td><td>2017-09-01T00:00:00.000</td><td style=\"text-align: right;\">          1</td></tr>\n",
              "<tr><td><i style='opacity: 0.6'>2</i></td><td style=\"text-align: right;\"> 3174946</td><td>Pete the Cat. Snow daze / by James Dean.           </td><td>Dean, James, 1957-  </td><td>&#x27;0062404253, 0062404261, 9780062404251, 97800624...</td><td>[2016]           </td><td>Harper, an imprint of HarperCollinsPublishers,    </td><td>&#x27;Pete the Cat Fictitious character Juvenile fict...</td><td>jcbk      </td><td>ncrdr           </td><td>Floating      </td><td>bal           </td><td>2017-09-01T00:00:00.000</td><td style=\"text-align: right;\">          3</td></tr>\n",
              "<tr><td><i style='opacity: 0.6'>3</i></td><td style=\"text-align: right;\"> 2737405</td><td>&#x27;How to help the Earth / by the Lorax with Tish ...</td><td>Rabe, Tish          </td><td>&#x27;0375869778, 0375969772, 9780375869778, 97803759...</td><td>c2012.           </td><td>Random House,                                     </td><td>&#x27;Refuse and refuse disposal Juvenile literature,...</td><td>jcbk      </td><td>ncrdr           </td><td>Floating      </td><td>gwd           </td><td>2017-09-01T00:00:00.000</td><td style=\"text-align: right;\">          1</td></tr>\n",
              "<tr><td><i style='opacity: 0.6'>4</i></td><td style=\"text-align: right;\"> 2833067</td><td>&quot;Miss Peregrine&#x27;s Home for Peculiar Children / R...</td><td>Riggs, Ransom       </td><td>1410450236, 9781410450234                          </td><td>2012.            </td><td>Thorndike Press,                                  </td><td>&#x27;Grandfathers Juvenile fiction, Orphanages Juven...</td><td>acbk      </td><td>nylp            </td><td>Floating      </td><td>bea           </td><td>2017-09-01T00:00:00.000</td><td style=\"text-align: right;\">          1</td></tr>\n",
              "<tr><td><i style='opacity: 0.6'>5</i></td><td style=\"text-align: right;\"> 3056858</td><td>Strangers / Bill Pronzini.                         </td><td>Pronzini, Bill      </td><td>1410470857, 9781410470850                          </td><td>2014.            </td><td>Thorndike Press, a part of Gale, Cengage Learning,</td><td>&#x27;Teenage boys Fiction, Rape Investigation Fictio...</td><td>acbk      </td><td>nalpfic         </td><td>Floating      </td><td>hip           </td><td>2017-09-01T00:00:00.000</td><td style=\"text-align: right;\">          1</td></tr>\n",
              "<tr><td><i style='opacity: 0.6'>6</i></td><td style=\"text-align: right;\"> 3077219</td><td>Rebel power! / written by Lauren Nesworthy.        </td><td>Nesworthy, Lauren.  </td><td>&#x27;1465435956, 1465435964, 9781465435958, 97814654...</td><td>2015.            </td><td>DK Publishing,                                    </td><td>&#x27;Star Wars rebels Television program Juvenile li...</td><td>jcbk      </td><td>ncrdr           </td><td>Floating      </td><td>rbe           </td><td>2017-09-01T00:00:00.000</td><td style=\"text-align: right;\">          1</td></tr>\n",
              "<tr><td><i style='opacity: 0.6'>7</i></td><td style=\"text-align: right;\"> 2840736</td><td>&#x27;Domestic malice : a novel / by Jessica Fletcher...</td><td>Bain, Donald, 1935- </td><td>0451238036, 9780451238030                          </td><td>2012.            </td><td>Obsidian,                                         </td><td>&#x27;Fletcher Jessica Fiction, Women novelists Ficti...</td><td>acbk      </td><td>namys           </td><td>Floating      </td><td>dth           </td><td>2017-09-01T00:00:00.000</td><td style=\"text-align: right;\">          1</td></tr>\n",
              "<tr><td><i style='opacity: 0.6'>8</i></td><td style=\"text-align: right;\"> 3236201</td><td>&#x27;Prussian blue : a Bernie Gunther novel / Philip...</td><td>Kerr, Philip        </td><td>1524756156, 9781524756154                          </td><td>[2017]           </td><td>Random House Large Print,                         </td><td>&#x27;Gunther Bernhard Fictitious character Fiction, ...</td><td>acbk      </td><td>nalpfic         </td><td>Floating      </td><td>dlr           </td><td>2017-09-01T00:00:00.000</td><td style=\"text-align: right;\">          1</td></tr>\n",
              "<tr><td><i style='opacity: 0.6'>9</i></td><td style=\"text-align: right;\"> 2991835</td><td>&#x27;A fighting chance [sound recording]/ Elizabeth ...</td><td>Warren, Elizabeth   </td><td>1427239169, 9781427239167                          </td><td>p2014.           </td><td>Macmillan Audio                                   </td><td>&#x27;Warren Elizabeth, Women legislators United Stat...</td><td>accd      </td><td>nacdnf          </td><td>Floating      </td><td>glk           </td><td>2017-09-01T00:00:00.000</td><td style=\"text-align: right;\">          1</td></tr>\n",
              "</tbody>\n",
              "</table>"
            ],
            "text/plain": [
              "  #    BibNum  Title                                                Author                ISBN                                                 PublicationYear    Publisher                                           Subjects                                             ItemType    ItemCollection    FloatingItem    ItemLocation    ReportDate                 ItemCount\n",
              "  0   3011076  \"A tale of two friends / adapted by Ellie O'Ryan...  O'Ryan, Ellie         '1481425730, 1481425749, 9781481425735, 97814814...  2014.              Simon Spotlight,                                    'Musicians Fiction, Bullfighters Fiction, Best f...  jcbk        ncrdr             Floating        qna             2017-09-01T00:00:00.000            1\n",
              "  1   2765249  Lone wolf [text (large print)] / Jodi Picoult.       Picoult, Jodi, 1966-  1611733669, 9781611733662                            2012.              Center Point Publishing,                            'Accident victims Fiction, Terminal care Decisio...  acbk        nalpfic           Floating        swt             2017-09-01T00:00:00.000            1\n",
              "  2   3174946  Pete the Cat. Snow daze / by James Dean.             Dean, James, 1957-    '0062404253, 0062404261, 9780062404251, 97800624...  [2016]             Harper, an imprint of HarperCollinsPublishers,      'Pete the Cat Fictitious character Juvenile fict...  jcbk        ncrdr             Floating        bal             2017-09-01T00:00:00.000            3\n",
              "  3   2737405  'How to help the Earth / by the Lorax with Tish ...  Rabe, Tish            '0375869778, 0375969772, 9780375869778, 97803759...  c2012.             Random House,                                       'Refuse and refuse disposal Juvenile literature,...  jcbk        ncrdr             Floating        gwd             2017-09-01T00:00:00.000            1\n",
              "  4   2833067  \"Miss Peregrine's Home for Peculiar Children / R...  Riggs, Ransom         1410450236, 9781410450234                            2012.              Thorndike Press,                                    'Grandfathers Juvenile fiction, Orphanages Juven...  acbk        nylp              Floating        bea             2017-09-01T00:00:00.000            1\n",
              "  5   3056858  Strangers / Bill Pronzini.                           Pronzini, Bill        1410470857, 9781410470850                            2014.              Thorndike Press, a part of Gale, Cengage Learning,  'Teenage boys Fiction, Rape Investigation Fictio...  acbk        nalpfic           Floating        hip             2017-09-01T00:00:00.000            1\n",
              "  6   3077219  Rebel power! / written by Lauren Nesworthy.          Nesworthy, Lauren.    '1465435956, 1465435964, 9781465435958, 97814654...  2015.              DK Publishing,                                      'Star Wars rebels Television program Juvenile li...  jcbk        ncrdr             Floating        rbe             2017-09-01T00:00:00.000            1\n",
              "  7   2840736  'Domestic malice : a novel / by Jessica Fletcher...  Bain, Donald, 1935-   0451238036, 9780451238030                            2012.              Obsidian,                                           'Fletcher Jessica Fiction, Women novelists Ficti...  acbk        namys             Floating        dth             2017-09-01T00:00:00.000            1\n",
              "  8   3236201  'Prussian blue : a Bernie Gunther novel / Philip...  Kerr, Philip          1524756156, 9781524756154                            [2017]             Random House Large Print,                           'Gunther Bernhard Fictitious character Fiction, ...  acbk        nalpfic           Floating        dlr             2017-09-01T00:00:00.000            1\n",
              "  9   2991835  'A fighting chance [sound recording]/ Elizabeth ...  Warren, Elizabeth     1427239169, 9781427239167                            p2014.             Macmillan Audio                                     'Warren Elizabeth, Women legislators United Stat...  accd        nacdnf            Floating        glk             2017-09-01T00:00:00.000            1"
            ]
          },
          "execution_count": 11,
          "metadata": {},
          "output_type": "execute_result"
        }
      ],
      "source": [
        "seattle_df = next(vaex.from_csv(f\"/Users/guyarieli/Documents/אוניברסיטה/כריית נתונים במאגרי מידע גדולים/עבודות/datasets/city-of-seattle/seattle-library-collection-inventory/versions/7/library-collection-inventory.csv\", chunk_size=2_000_000))\n",
        "seattle_df = seattle_df.dropna()\n",
        "seattle_df.head()"
      ]
    },
    {
      "cell_type": "markdown",
      "metadata": {
        "id": "LG0KyuFD0P2b"
      },
      "source": [
        "<!-- **Question 1:** Using Vaex, write a function that returns the most popular book in each subject. Use it to find the most popular book in\n",
        "    the _Mystery Fiction_ subject (15pt) -->"
      ]
    },
    {
      "cell_type": "code",
      "execution_count": null,
      "metadata": {},
      "outputs": [],
      "source": [
        "def vaex_explode(df: vaex.DataFrame, col: str) -> vaex.DataFrame:\n",
        "    p_df =  df.to_pandas_df().explode([col])\n",
        "    v_df = vaex.from_pandas(p_df)\n",
        "    return v_df\n",
        "\n",
        "def sepeate_subjects_to_subject(df: vaex.DataFrame)-> vaex.DataFrame:\n",
        "    df[\"Subjects\"] = df[\"Subjects\"].str.strip()\n",
        "    df[\"Subjects\"] = df[\"Subjects\"].str.lower()\n",
        "    df[\"Subjects\"] = df[\"Subjects\"].str.split(\",\")\n",
        "    df = vaex_explode(df, \"Subjects\")\n",
        "\n",
        "    df.rename('Subjects', 'Subject')\n",
        "\n",
        "    df['Subject'] = df[\"Subject\"].apply(lambda y: y.strip().lower())\n",
        "    return df\n",
        "\n",
        "def get_most_popular_book_by_subject(df: vaex.DataFrame):\n",
        "\n",
        "    df = sepeate_subjects_to_subject(df)\n",
        "\n",
        "    df_grouped = df.groupby([\"Subject\", \"Title\"]).agg(\n",
        "        {\"ItemCount\":\"sum\"}).sort(by=\"ItemCount\", ascending=False)\n",
        "\n",
        "    all_subjects = df_grouped[\"Subject\"].unique()\n",
        "    most_popular_book_per_subject={}\n",
        "\n",
        "    for subject in all_subjects:\n",
        "        most_popular_book_per_subject[subject]=0\n",
        "\n",
        "    for subject in all_subjects:\n",
        "      all_books_in_subject=df_grouped[df_grouped[\"Subject\"]==subject]\n",
        "      most_popular_book_in_subject=all_books_in_subject[0]\n",
        "      most_popular_book_per_subject[subject]=most_popular_book_in_subject[1]\n",
        "\n",
        "    return most_popular_book_per_subject"
      ]
    },
    {
      "cell_type": "code",
      "execution_count": 13,
      "metadata": {},
      "outputs": [
        {
          "name": "stdout",
          "output_type": "stream",
          "text": [
            "Most popular book in mystery fiction category: Career of evil / Robert Galbraith.\n"
          ]
        }
      ],
      "source": [
        "most_popular_books_by_subject=get_most_popular_book_by_subject(seattle_df)\n",
        "print(\"Most popular book in mystery fiction category:\",most_popular_books_by_subject[\"mystery fiction\"])"
      ]
    },
    {
      "cell_type": "markdown",
      "metadata": {},
      "source": [
        "**Question 2**: Using Vaex, find the top-10 fiction subjects (5pt), and use Seaborn to visualize the number of items over time for each subject (15pt)\n",
        "    "
      ]
    },
    {
      "cell_type": "code",
      "execution_count": 49,
      "metadata": {},
      "outputs": [
        {
          "data": {
            "image/png": "[encoded data removed]",
            "text/plain": [
              "<Figure size 800x400 with 1 Axes>"
            ]
          },
          "metadata": {},
          "output_type": "display_data"
        }
      ],
      "source": [
        "subject_lists = seattle_df['Subjects'].str.split(\",\").tolist()\n",
        "flat_list = flat_list = [item for sublist in subject_lists if sublist is not None for item in sublist]\n",
        "\n",
        "c = Counter(flat_list)\n",
        "top_10 = c.most_common(10)\n",
        "\n",
        "top_df = pd.DataFrame(top_10, columns=['Category', 'Count'])\n",
        "top_df.rename(columns={'index': 'Category'}, inplace=True)\n",
        "\n",
        "plt.figure(figsize=(8, 4))\n",
        "sns.barplot(x='Count', y='Category', data=top_df)\n",
        "plt.title('Top fiction subjects')\n",
        "plt.xlabel('Num')\n",
        "plt.ylabel('Subjects')\n",
        "plt.show()"
      ]
    },
    {
      "cell_type": "markdown",
      "metadata": {
        "id": "WlbdMR3m0P2n"
      },
      "source": [
        "**Question 3:** Using Vaex, write a function that gets as input a subject name. The function returns the top-20 most _popular_ authors for the input subject (15pt).\n",
        "\n"
      ]
    },
    {
      "cell_type": "code",
      "execution_count": 10,
      "metadata": {
        "id": "WXaxnXmr0P2o"
      },
      "outputs": [
        {
          "name": "stdout",
          "output_type": "stream",
          "text": [
            "Patterson, James, 1947-              953\n",
            "Willems, Mo                          911\n",
            "Woods, Stuart                        574\n",
            "Jance, Judith A.                     518\n",
            "McCall Smith, Alexander, 1948-       503\n",
            "Connelly, Michael, 1956-             466\n",
            "O'Connor, Jane                       438\n",
            "Robb, J. D., 1950-                   436\n",
            "Evanovich, Janet                     435\n",
            "Sandford, John, 1944 February 23-    422\n",
            "Christie, Agatha, 1890-1976          402\n",
            "Depken, Kristen L.                   399\n",
            "Rylant, Cynthia                      389\n",
            "Penny, Louise                        383\n",
            "Capucilli, Alyssa Satin, 1957-       350\n",
            "Beaton, M. C.                        343\n",
            "Perry, Anne                          325\n",
            "Testa, Maggie                        322\n",
            "Tillworth, Mary                      315\n",
            "Leon, Donna                          296\n",
            "dtype: int64\n"
          ]
        }
      ],
      "source": [
        "def most_popular_authors(df: vaex.DataFrame, subject: str, top: int = 20):\n",
        "    popular_df = df.dropmissing()\n",
        "\n",
        "    selected_rows = popular_df[popular_df['Subjects'].apply(lambda x: subject in str(x) if x is not None else False)]['Author'].value_counts().head(top)\n",
        "    \n",
        "    return selected_rows\n",
        "\n",
        "print(most_popular_authors(seattle_df, 'Fiction'))"
      ]
    },
    {
      "cell_type": "markdown",
      "metadata": {
        "id": "w5glNK9H0P2r"
      },
      "source": [
        "Using the [The Blog Authorship Corpus](https://www.kaggle.com/datasets/rtatman/blog-authorship-corpus) and Vaex, please answer the following questions:"
      ]
    },
    {
      "cell_type": "markdown",
      "metadata": {
        "id": "DrxFfd-i0P2s"
      },
      "source": [
        "**Question 4:** Calculate the average and median age of bloggers in each topic by gender(5pt).\n",
        "Calculate the average and median age of bloggers according to their sign (5pt).\n",
        "Visualize the age distributions  of bloggers according to their  topic and gender using Seaborn and PlotlyExpress(15pt)"
      ]
    },
    {
      "cell_type": "code",
      "execution_count": 39,
      "metadata": {},
      "outputs": [
        {
          "name": "stdout",
          "output_type": "stream",
          "text": [
            "Downloading from https://www.kaggle.com/api/v1/datasets/download/rtatman/blog-authorship-corpus?dataset_version_number=2...\n"
          ]
        },
        {
          "name": "stderr",
          "output_type": "stream",
          "text": [
            "100%|██████████| 290M/290M [00:17<00:00, 17.1MB/s] "
          ]
        },
        {
          "name": "stdout",
          "output_type": "stream",
          "text": [
            "Extracting files...\n"
          ]
        },
        {
          "name": "stderr",
          "output_type": "stream",
          "text": [
            "\n"
          ]
        },
        {
          "name": "stdout",
          "output_type": "stream",
          "text": [
            "Path to dataset files: /Users/guyarieli/Documents/אוניברסיטה/כריית נתונים במאגרי מידע גדולים/עבודות/datasets/rtatman/blog-authorship-corpus/versions/2\n"
          ]
        }
      ],
      "source": [
        "rat_path = kagglehub.dataset_download(\"rtatman/blog-authorship-corpus\")\n",
        "print(\"Path to dataset files:\", rat_path)"
      ]
    },
    {
      "cell_type": "code",
      "execution_count": 23,
      "metadata": {},
      "outputs": [],
      "source": [
        "blog_df = next(vaex.from_csv( \"/Users/guyarieli/Documents/אוניברסיטה/כריית נתונים במאגרי מידע גדולים/עבודות/datasets/rtatman/blog-authorship-corpus/versions/2/blogtext.csv\", chunk_size=2_000_000))"
      ]
    },
    {
      "cell_type": "code",
      "execution_count": 26,
      "metadata": {},
      "outputs": [
        {
          "data": {
            "text/html": [
              "<table>\n",
              "<thead>\n",
              "<tr><th>#                            </th><th>topic                  </th><th>gender  </th><th style=\"text-align: right;\">  age_mean</th></tr>\n",
              "</thead>\n",
              "<tbody>\n",
              "<tr><td><i style='opacity: 0.6'>0</i></td><td>LawEnforcement-Security</td><td>female  </td><td style=\"text-align: right;\">   29.2508</td></tr>\n",
              "<tr><td><i style='opacity: 0.6'>1</i></td><td>LawEnforcement-Security</td><td>male    </td><td style=\"text-align: right;\">   25.3797</td></tr>\n",
              "<tr><td><i style='opacity: 0.6'>2</i></td><td>indUnk                 </td><td>female  </td><td style=\"text-align: right;\">   24.9647</td></tr>\n",
              "<tr><td><i style='opacity: 0.6'>3</i></td><td>indUnk                 </td><td>male    </td><td style=\"text-align: right;\">   24.4837</td></tr>\n",
              "<tr><td><i style='opacity: 0.6'>4</i></td><td>Sports-Recreation      </td><td>female  </td><td style=\"text-align: right;\">   20.5616</td></tr>\n",
              "<tr><td><i style='opacity: 0.6'>5</i></td><td>Sports-Recreation      </td><td>male    </td><td style=\"text-align: right;\">   23.9919</td></tr>\n",
              "<tr><td><i style='opacity: 0.6'>6</i></td><td>Marketing              </td><td>female  </td><td style=\"text-align: right;\">   26.0432</td></tr>\n",
              "<tr><td><i style='opacity: 0.6'>7</i></td><td>Marketing              </td><td>male    </td><td style=\"text-align: right;\">   29.6977</td></tr>\n",
              "<tr><td><i style='opacity: 0.6'>8</i></td><td>Construction           </td><td>female  </td><td style=\"text-align: right;\">   27.5233</td></tr>\n",
              "<tr><td><i style='opacity: 0.6'>9</i></td><td>Construction           </td><td>male    </td><td style=\"text-align: right;\">   32.2296</td></tr>\n",
              "</tbody>\n",
              "</table>"
            ],
            "text/plain": [
              "  #  topic                    gender      age_mean\n",
              "  0  LawEnforcement-Security  female       29.2508\n",
              "  1  LawEnforcement-Security  male         25.3797\n",
              "  2  indUnk                   female       24.9647\n",
              "  3  indUnk                   male         24.4837\n",
              "  4  Sports-Recreation        female       20.5616\n",
              "  5  Sports-Recreation        male         23.9919\n",
              "  6  Marketing                female       26.0432\n",
              "  7  Marketing                male         29.6977\n",
              "  8  Construction             female       27.5233\n",
              "  9  Construction             male         32.2296"
            ]
          },
          "execution_count": 26,
          "metadata": {},
          "output_type": "execute_result"
        }
      ],
      "source": [
        "topic_gender = blog_df.groupby(['topic', 'gender'], agg={'age': [vaex.agg.mean('age')]})\n",
        "topic_gender.head(10)"
      ]
    },
    {
      "cell_type": "code",
      "execution_count": null,
      "metadata": {},
      "outputs": [
        {
          "data": {
            "text/html": [
              "<table>\n",
              "<thead>\n",
              "<tr><th>#                            </th><th>sign       </th><th style=\"text-align: right;\">  age_mean</th></tr>\n",
              "</thead>\n",
              "<tbody>\n",
              "<tr><td><i style='opacity: 0.6'>0</i></td><td>Cancer     </td><td style=\"text-align: right;\">   24.4704</td></tr>\n",
              "<tr><td><i style='opacity: 0.6'>1</i></td><td>Aquarius   </td><td style=\"text-align: right;\">   23.5372</td></tr>\n",
              "<tr><td><i style='opacity: 0.6'>2</i></td><td>Sagittarius</td><td style=\"text-align: right;\">   23.7525</td></tr>\n",
              "<tr><td><i style='opacity: 0.6'>3</i></td><td>Capricorn  </td><td style=\"text-align: right;\">   24.0984</td></tr>\n",
              "<tr><td><i style='opacity: 0.6'>4</i></td><td>Scorpio    </td><td style=\"text-align: right;\">   23.6343</td></tr>\n",
              "<tr><td><i style='opacity: 0.6'>5</i></td><td>Leo        </td><td style=\"text-align: right;\">   23.7792</td></tr>\n",
              "<tr><td><i style='opacity: 0.6'>6</i></td><td>Virgo      </td><td style=\"text-align: right;\">   23.7806</td></tr>\n",
              "<tr><td><i style='opacity: 0.6'>7</i></td><td>Aries      </td><td style=\"text-align: right;\">   25.1841</td></tr>\n",
              "<tr><td><i style='opacity: 0.6'>8</i></td><td>Pisces     </td><td style=\"text-align: right;\">   25.0333</td></tr>\n",
              "<tr><td><i style='opacity: 0.6'>9</i></td><td>Taurus     </td><td style=\"text-align: right;\">   23.456 </td></tr>\n",
              "</tbody>\n",
              "</table>"
            ],
            "text/plain": [
              "  #  sign           age_mean\n",
              "  0  Cancer          24.4704\n",
              "  1  Aquarius        23.5372\n",
              "  2  Sagittarius     23.7525\n",
              "  3  Capricorn       24.0984\n",
              "  4  Scorpio         23.6343\n",
              "  5  Leo             23.7792\n",
              "  6  Virgo           23.7806\n",
              "  7  Aries           25.1841\n",
              "  8  Pisces          25.0333\n",
              "  9  Taurus          23.456"
            ]
          },
          "execution_count": 27,
          "metadata": {},
          "output_type": "execute_result"
        }
      ],
      "source": [
        "age_by_sign = blog_df.groupby(['sign'], agg={'age': [vaex.agg.mean('age')]})\n",
        "age_by_sign.head(10)"
      ]
    },
    {
      "cell_type": "code",
      "execution_count": null,
      "metadata": {
        "id": "0J2gbaCw0P2t"
      },
      "outputs": [
        {
          "data": {
            "image/png": "[encoded data removed]",
            "text/plain": [
              "<Figure size 1000x600 with 1 Axes>"
            ]
          },
          "metadata": {},
          "output_type": "display_data"
        },
        {
          "data": {
            "image/png": "[encoded data removed]",
            "text/plain": [
              "<Figure size 1000x600 with 1 Axes>"
            ]
          },
          "metadata": {},
          "output_type": "display_data"
        },
        {
          "data": {
            "application/vnd.plotly.v1+json": {
              "config": {
                "plotlyServerURL": "https://plot.ly"
              },
              "data": [
                {
                  "bingroup": "x",
                  "hovertemplate": "topic=LawEnforcement-Security<br>gender=female<br>age_mean=%{x}<br>count=%{y}<extra></extra>",
                  "legendgroup": "LawEnforcement-Security",
                  "marker": {
                    "color": "#636efa",
                    "pattern": {
                      "shape": ""
                    }
                  },
                  "name": "LawEnforcement-Security",
                  "nbinsx": 10,
                  "orientation": "v",
                  "showlegend": true,
                  "type": "histogram",
                  "x": {
                    "bdata": "EF86XjVAPUA=",
                    "dtype": "f8"
                  },
                  "xaxis": "x",
                  "yaxis": "y"
                },
                {
                  "hovertemplate": "topic=LawEnforcement-Security<br>gender=female<br>age_mean=%{x}<extra></extra>",
                  "legendgroup": "LawEnforcement-Security",
                  "marker": {
                    "color": "#636efa"
                  },
                  "name": "LawEnforcement-Security",
                  "notched": true,
                  "showlegend": false,
                  "type": "box",
                  "x": {
                    "bdata": "EF86XjVAPUA=",
                    "dtype": "f8"
                  },
                  "xaxis": "x3",
                  "yaxis": "y3"
                },
                {
                  "bingroup": "x",
                  "hovertemplate": "topic=LawEnforcement-Security<br>gender=male<br>age_mean=%{x}<br>count=%{y}<extra></extra>",
                  "legendgroup": "LawEnforcement-Security",
                  "marker": {
                    "color": "#636efa",
                    "pattern": {
                      "shape": ""
                    }
                  },
                  "name": "LawEnforcement-Security",
                  "nbinsx": 10,
                  "orientation": "v",
                  "showlegend": false,
                  "type": "histogram",
                  "x": {
                    "bdata": "wvyuFjdhOUA=",
                    "dtype": "f8"
                  },
                  "xaxis": "x2",
                  "yaxis": "y2"
                },
                {
                  "hovertemplate": "topic=LawEnforcement-Security<br>gender=male<br>age_mean=%{x}<extra></extra>",
                  "legendgroup": "LawEnforcement-Security",
                  "marker": {
                    "color": "#636efa"
                  },
                  "name": "LawEnforcement-Security",
                  "notched": true,
                  "showlegend": false,
                  "type": "box",
                  "x": {
                    "bdata": "wvyuFjdhOUA=",
                    "dtype": "f8"
                  },
                  "xaxis": "x4",
                  "yaxis": "y4"
                },
                {
                  "bingroup": "x",
                  "hovertemplate": "topic=indUnk<br>gender=female<br>age_mean=%{x}<br>count=%{y}<extra></extra>",
                  "legendgroup": "indUnk",
                  "marker": {
                    "color": "#EF553B",
                    "pattern": {
                      "shape": ""
                    }
                  },
                  "name": "indUnk",
                  "nbinsx": 10,
                  "orientation": "v",
                  "showlegend": true,
                  "type": "histogram",
                  "x": {
                    "bdata": "eF7/N/n2OEA=",
                    "dtype": "f8"
                  },
                  "xaxis": "x",
                  "yaxis": "y"
                },
                {
                  "hovertemplate": "topic=indUnk<br>gender=female<br>age_mean=%{x}<extra></extra>",
                  "legendgroup": "indUnk",
                  "marker": {
                    "color": "#EF553B"
                  },
                  "name": "indUnk",
                  "notched": true,
                  "showlegend": false,
                  "type": "box",
                  "x": {
                    "bdata": "eF7/N/n2OEA=",
                    "dtype": "f8"
                  },
                  "xaxis": "x3",
                  "yaxis": "y3"
                },
                {
                  "bingroup": "x",
                  "hovertemplate": "topic=indUnk<br>gender=male<br>age_mean=%{x}<br>count=%{y}<extra></extra>",
                  "legendgroup": "indUnk",
                  "marker": {
                    "color": "#EF553B",
                    "pattern": {
                      "shape": ""
                    }
                  },
                  "name": "indUnk",
                  "nbinsx": 10,
                  "orientation": "v",
                  "showlegend": false,
                  "type": "histogram",
                  "x": {
                    "bdata": "GbM1gNV7OEA=",
                    "dtype": "f8"
                  },
                  "xaxis": "x2",
                  "yaxis": "y2"
                },
                {
                  "hovertemplate": "topic=indUnk<br>gender=male<br>age_mean=%{x}<extra></extra>",
                  "legendgroup": "indUnk",
                  "marker": {
                    "color": "#EF553B"
                  },
                  "name": "indUnk",
                  "notched": true,
                  "showlegend": false,
                  "type": "box",
                  "x": {
                    "bdata": "GbM1gNV7OEA=",
                    "dtype": "f8"
                  },
                  "xaxis": "x4",
                  "yaxis": "y4"
                },
                {
                  "bingroup": "x",
                  "hovertemplate": "topic=Sports-Recreation<br>gender=female<br>age_mean=%{x}<br>count=%{y}<extra></extra>",
                  "legendgroup": "Sports-Recreation",
                  "marker": {
                    "color": "#00cc96",
                    "pattern": {
                      "shape": ""
                    }
                  },
                  "name": "Sports-Recreation",
                  "nbinsx": 10,
                  "orientation": "v",
                  "showlegend": true,
                  "type": "histogram",
                  "x": {
                    "bdata": "sSxoKcaPNEA=",
                    "dtype": "f8"
                  },
                  "xaxis": "x",
                  "yaxis": "y"
                },
                {
                  "hovertemplate": "topic=Sports-Recreation<br>gender=female<br>age_mean=%{x}<extra></extra>",
                  "legendgroup": "Sports-Recreation",
                  "marker": {
                    "color": "#00cc96"
                  },
                  "name": "Sports-Recreation",
                  "notched": true,
                  "showlegend": false,
                  "type": "box",
                  "x": {
                    "bdata": "sSxoKcaPNEA=",
                    "dtype": "f8"
                  },
                  "xaxis": "x3",
                  "yaxis": "y3"
                },
                {
                  "bingroup": "x",
                  "hovertemplate": "topic=Sports-Recreation<br>gender=male<br>age_mean=%{x}<br>count=%{y}<extra></extra>",
                  "legendgroup": "Sports-Recreation",
                  "marker": {
                    "color": "#00cc96",
                    "pattern": {
                      "shape": ""
                    }
                  },
                  "name": "Sports-Recreation",
                  "nbinsx": 10,
                  "orientation": "v",
                  "showlegend": false,
                  "type": "histogram",
                  "x": {
                    "bdata": "39eEoOz9N0A=",
                    "dtype": "f8"
                  },
                  "xaxis": "x2",
                  "yaxis": "y2"
                },
                {
                  "hovertemplate": "topic=Sports-Recreation<br>gender=male<br>age_mean=%{x}<extra></extra>",
                  "legendgroup": "Sports-Recreation",
                  "marker": {
                    "color": "#00cc96"
                  },
                  "name": "Sports-Recreation",
                  "notched": true,
                  "showlegend": false,
                  "type": "box",
                  "x": {
                    "bdata": "39eEoOz9N0A=",
                    "dtype": "f8"
                  },
                  "xaxis": "x4",
                  "yaxis": "y4"
                },
                {
                  "bingroup": "x",
                  "hovertemplate": "topic=Marketing<br>gender=female<br>age_mean=%{x}<br>count=%{y}<extra></extra>",
                  "legendgroup": "Marketing",
                  "marker": {
                    "color": "#ab63fa",
                    "pattern": {
                      "shape": ""
                    }
                  },
                  "name": "Marketing",
                  "nbinsx": 10,
                  "orientation": "v",
                  "showlegend": true,
                  "type": "histogram",
                  "x": {
                    "bdata": "VdaLTwwLOkA=",
                    "dtype": "f8"
                  },
                  "xaxis": "x",
                  "yaxis": "y"
                },
                {
                  "hovertemplate": "topic=Marketing<br>gender=female<br>age_mean=%{x}<extra></extra>",
                  "legendgroup": "Marketing",
                  "marker": {
                    "color": "#ab63fa"
                  },
                  "name": "Marketing",
                  "notched": true,
                  "showlegend": false,
                  "type": "box",
                  "x": {
                    "bdata": "VdaLTwwLOkA=",
                    "dtype": "f8"
                  },
                  "xaxis": "x3",
                  "yaxis": "y3"
                },
                {
                  "bingroup": "x",
                  "hovertemplate": "topic=Marketing<br>gender=male<br>age_mean=%{x}<br>count=%{y}<extra></extra>",
                  "legendgroup": "Marketing",
                  "marker": {
                    "color": "#ab63fa",
                    "pattern": {
                      "shape": ""
                    }
                  },
                  "name": "Marketing",
                  "nbinsx": 10,
                  "orientation": "v",
                  "showlegend": false,
                  "type": "histogram",
                  "x": {
                    "bdata": "jTUdypyyPUA=",
                    "dtype": "f8"
                  },
                  "xaxis": "x2",
                  "yaxis": "y2"
                },
                {
                  "hovertemplate": "topic=Marketing<br>gender=male<br>age_mean=%{x}<extra></extra>",
                  "legendgroup": "Marketing",
                  "marker": {
                    "color": "#ab63fa"
                  },
                  "name": "Marketing",
                  "notched": true,
                  "showlegend": false,
                  "type": "box",
                  "x": {
                    "bdata": "jTUdypyyPUA=",
                    "dtype": "f8"
                  },
                  "xaxis": "x4",
                  "yaxis": "y4"
                },
                {
                  "bingroup": "x",
                  "hovertemplate": "topic=Construction<br>gender=female<br>age_mean=%{x}<br>count=%{y}<extra></extra>",
                  "legendgroup": "Construction",
                  "marker": {
                    "color": "#FFA15A",
                    "pattern": {
                      "shape": ""
                    }
                  },
                  "name": "Construction",
                  "nbinsx": 10,
                  "orientation": "v",
                  "showlegend": true,
                  "type": "histogram",
                  "x": {
                    "bdata": "pIScCviFO0A=",
                    "dtype": "f8"
                  },
                  "xaxis": "x",
                  "yaxis": "y"
                },
                {
                  "hovertemplate": "topic=Construction<br>gender=female<br>age_mean=%{x}<extra></extra>",
                  "legendgroup": "Construction",
                  "marker": {
                    "color": "#FFA15A"
                  },
                  "name": "Construction",
                  "notched": true,
                  "showlegend": false,
                  "type": "box",
                  "x": {
                    "bdata": "pIScCviFO0A=",
                    "dtype": "f8"
                  },
                  "xaxis": "x3",
                  "yaxis": "y3"
                },
                {
                  "bingroup": "x",
                  "hovertemplate": "topic=Construction<br>gender=male<br>age_mean=%{x}<br>count=%{y}<extra></extra>",
                  "legendgroup": "Construction",
                  "marker": {
                    "color": "#FFA15A",
                    "pattern": {
                      "shape": ""
                    }
                  },
                  "name": "Construction",
                  "nbinsx": 10,
                  "orientation": "v",
                  "showlegend": false,
                  "type": "histogram",
                  "x": {
                    "bdata": "Y51inWIdQEA=",
                    "dtype": "f8"
                  },
                  "xaxis": "x2",
                  "yaxis": "y2"
                },
                {
                  "hovertemplate": "topic=Construction<br>gender=male<br>age_mean=%{x}<extra></extra>",
                  "legendgroup": "Construction",
                  "marker": {
                    "color": "#FFA15A"
                  },
                  "name": "Construction",
                  "notched": true,
                  "showlegend": false,
                  "type": "box",
                  "x": {
                    "bdata": "Y51inWIdQEA=",
                    "dtype": "f8"
                  },
                  "xaxis": "x4",
                  "yaxis": "y4"
                },
                {
                  "bingroup": "x",
                  "hovertemplate": "topic=Communications-Media<br>gender=female<br>age_mean=%{x}<br>count=%{y}<extra></extra>",
                  "legendgroup": "Communications-Media",
                  "marker": {
                    "color": "#19d3f3",
                    "pattern": {
                      "shape": ""
                    }
                  },
                  "name": "Communications-Media",
                  "nbinsx": 10,
                  "orientation": "v",
                  "showlegend": true,
                  "type": "histogram",
                  "x": {
                    "bdata": "rh1LR+XeOUA=",
                    "dtype": "f8"
                  },
                  "xaxis": "x",
                  "yaxis": "y"
                },
                {
                  "hovertemplate": "topic=Communications-Media<br>gender=female<br>age_mean=%{x}<extra></extra>",
                  "legendgroup": "Communications-Media",
                  "marker": {
                    "color": "#19d3f3"
                  },
                  "name": "Communications-Media",
                  "notched": true,
                  "showlegend": false,
                  "type": "box",
                  "x": {
                    "bdata": "rh1LR+XeOUA=",
                    "dtype": "f8"
                  },
                  "xaxis": "x3",
                  "yaxis": "y3"
                },
                {
                  "bingroup": "x",
                  "hovertemplate": "topic=Communications-Media<br>gender=male<br>age_mean=%{x}<br>count=%{y}<extra></extra>",
                  "legendgroup": "Communications-Media",
                  "marker": {
                    "color": "#19d3f3",
                    "pattern": {
                      "shape": ""
                    }
                  },
                  "name": "Communications-Media",
                  "nbinsx": 10,
                  "orientation": "v",
                  "showlegend": false,
                  "type": "histogram",
                  "x": {
                    "bdata": "kC8ZzTDqOkA=",
                    "dtype": "f8"
                  },
                  "xaxis": "x2",
                  "yaxis": "y2"
                },
                {
                  "hovertemplate": "topic=Communications-Media<br>gender=male<br>age_mean=%{x}<extra></extra>",
                  "legendgroup": "Communications-Media",
                  "marker": {
                    "color": "#19d3f3"
                  },
                  "name": "Communications-Media",
                  "notched": true,
                  "showlegend": false,
                  "type": "box",
                  "x": {
                    "bdata": "kC8ZzTDqOkA=",
                    "dtype": "f8"
                  },
                  "xaxis": "x4",
                  "yaxis": "y4"
                },
                {
                  "bingroup": "x",
                  "hovertemplate": "topic=Museums-Libraries<br>gender=female<br>age_mean=%{x}<br>count=%{y}<extra></extra>",
                  "legendgroup": "Museums-Libraries",
                  "marker": {
                    "color": "#FF6692",
                    "pattern": {
                      "shape": ""
                    }
                  },
                  "name": "Museums-Libraries",
                  "nbinsx": 10,
                  "orientation": "v",
                  "showlegend": true,
                  "type": "histogram",
                  "x": {
                    "bdata": "7QH1elFrO0A=",
                    "dtype": "f8"
                  },
                  "xaxis": "x",
                  "yaxis": "y"
                },
                {
                  "hovertemplate": "topic=Museums-Libraries<br>gender=female<br>age_mean=%{x}<extra></extra>",
                  "legendgroup": "Museums-Libraries",
                  "marker": {
                    "color": "#FF6692"
                  },
                  "name": "Museums-Libraries",
                  "notched": true,
                  "showlegend": false,
                  "type": "box",
                  "x": {
                    "bdata": "7QH1elFrO0A=",
                    "dtype": "f8"
                  },
                  "xaxis": "x3",
                  "yaxis": "y3"
                },
                {
                  "bingroup": "x",
                  "hovertemplate": "topic=Museums-Libraries<br>gender=male<br>age_mean=%{x}<br>count=%{y}<extra></extra>",
                  "legendgroup": "Museums-Libraries",
                  "marker": {
                    "color": "#FF6692",
                    "pattern": {
                      "shape": ""
                    }
                  },
                  "name": "Museums-Libraries",
                  "nbinsx": 10,
                  "orientation": "v",
                  "showlegend": false,
                  "type": "histogram",
                  "x": {
                    "bdata": "V5TfYcAPQUA=",
                    "dtype": "f8"
                  },
                  "xaxis": "x2",
                  "yaxis": "y2"
                },
                {
                  "hovertemplate": "topic=Museums-Libraries<br>gender=male<br>age_mean=%{x}<extra></extra>",
                  "legendgroup": "Museums-Libraries",
                  "marker": {
                    "color": "#FF6692"
                  },
                  "name": "Museums-Libraries",
                  "notched": true,
                  "showlegend": false,
                  "type": "box",
                  "x": {
                    "bdata": "V5TfYcAPQUA=",
                    "dtype": "f8"
                  },
                  "xaxis": "x4",
                  "yaxis": "y4"
                },
                {
                  "bingroup": "x",
                  "hovertemplate": "topic=Biotech<br>gender=female<br>age_mean=%{x}<br>count=%{y}<extra></extra>",
                  "legendgroup": "Biotech",
                  "marker": {
                    "color": "#B6E880",
                    "pattern": {
                      "shape": ""
                    }
                  },
                  "name": "Biotech",
                  "nbinsx": 10,
                  "orientation": "v",
                  "showlegend": true,
                  "type": "histogram",
                  "x": {
                    "bdata": "LfsPWzKJOEA=",
                    "dtype": "f8"
                  },
                  "xaxis": "x",
                  "yaxis": "y"
                },
                {
                  "hovertemplate": "topic=Biotech<br>gender=female<br>age_mean=%{x}<extra></extra>",
                  "legendgroup": "Biotech",
                  "marker": {
                    "color": "#B6E880"
                  },
                  "name": "Biotech",
                  "notched": true,
                  "showlegend": false,
                  "type": "box",
                  "x": {
                    "bdata": "LfsPWzKJOEA=",
                    "dtype": "f8"
                  },
                  "xaxis": "x3",
                  "yaxis": "y3"
                },
                {
                  "bingroup": "x",
                  "hovertemplate": "topic=Biotech<br>gender=male<br>age_mean=%{x}<br>count=%{y}<extra></extra>",
                  "legendgroup": "Biotech",
                  "marker": {
                    "color": "#B6E880",
                    "pattern": {
                      "shape": ""
                    }
                  },
                  "name": "Biotech",
                  "nbinsx": 10,
                  "orientation": "v",
                  "showlegend": false,
                  "type": "histogram",
                  "x": {
                    "bdata": "HHZZvD3iNUA=",
                    "dtype": "f8"
                  },
                  "xaxis": "x2",
                  "yaxis": "y2"
                },
                {
                  "hovertemplate": "topic=Biotech<br>gender=male<br>age_mean=%{x}<extra></extra>",
                  "legendgroup": "Biotech",
                  "marker": {
                    "color": "#B6E880"
                  },
                  "name": "Biotech",
                  "notched": true,
                  "showlegend": false,
                  "type": "box",
                  "x": {
                    "bdata": "HHZZvD3iNUA=",
                    "dtype": "f8"
                  },
                  "xaxis": "x4",
                  "yaxis": "y4"
                },
                {
                  "bingroup": "x",
                  "hovertemplate": "topic=Government<br>gender=female<br>age_mean=%{x}<br>count=%{y}<extra></extra>",
                  "legendgroup": "Government",
                  "marker": {
                    "color": "#FF97FF",
                    "pattern": {
                      "shape": ""
                    }
                  },
                  "name": "Government",
                  "nbinsx": 10,
                  "orientation": "v",
                  "showlegend": true,
                  "type": "histogram",
                  "x": {
                    "bdata": "MUGs5dx7O0A=",
                    "dtype": "f8"
                  },
                  "xaxis": "x",
                  "yaxis": "y"
                },
                {
                  "hovertemplate": "topic=Government<br>gender=female<br>age_mean=%{x}<extra></extra>",
                  "legendgroup": "Government",
                  "marker": {
                    "color": "#FF97FF"
                  },
                  "name": "Government",
                  "notched": true,
                  "showlegend": false,
                  "type": "box",
                  "x": {
                    "bdata": "MUGs5dx7O0A=",
                    "dtype": "f8"
                  },
                  "xaxis": "x3",
                  "yaxis": "y3"
                },
                {
                  "bingroup": "x",
                  "hovertemplate": "topic=Government<br>gender=male<br>age_mean=%{x}<br>count=%{y}<extra></extra>",
                  "legendgroup": "Government",
                  "marker": {
                    "color": "#FF97FF",
                    "pattern": {
                      "shape": ""
                    }
                  },
                  "name": "Government",
                  "nbinsx": 10,
                  "orientation": "v",
                  "showlegend": false,
                  "type": "histogram",
                  "x": {
                    "bdata": "i6tE59UfO0A=",
                    "dtype": "f8"
                  },
                  "xaxis": "x2",
                  "yaxis": "y2"
                },
                {
                  "hovertemplate": "topic=Government<br>gender=male<br>age_mean=%{x}<extra></extra>",
                  "legendgroup": "Government",
                  "marker": {
                    "color": "#FF97FF"
                  },
                  "name": "Government",
                  "notched": true,
                  "showlegend": false,
                  "type": "box",
                  "x": {
                    "bdata": "i6tE59UfO0A=",
                    "dtype": "f8"
                  },
                  "xaxis": "x4",
                  "yaxis": "y4"
                },
                {
                  "bingroup": "x",
                  "hovertemplate": "topic=Advertising<br>gender=female<br>age_mean=%{x}<br>count=%{y}<extra></extra>",
                  "legendgroup": "Advertising",
                  "marker": {
                    "color": "#FECB52",
                    "pattern": {
                      "shape": ""
                    }
                  },
                  "name": "Advertising",
                  "nbinsx": 10,
                  "orientation": "v",
                  "showlegend": true,
                  "type": "histogram",
                  "x": {
                    "bdata": "JuARYYAtO0A=",
                    "dtype": "f8"
                  },
                  "xaxis": "x",
                  "yaxis": "y"
                },
                {
                  "hovertemplate": "topic=Advertising<br>gender=female<br>age_mean=%{x}<extra></extra>",
                  "legendgroup": "Advertising",
                  "marker": {
                    "color": "#FECB52"
                  },
                  "name": "Advertising",
                  "notched": true,
                  "showlegend": false,
                  "type": "box",
                  "x": {
                    "bdata": "JuARYYAtO0A=",
                    "dtype": "f8"
                  },
                  "xaxis": "x3",
                  "yaxis": "y3"
                },
                {
                  "bingroup": "x",
                  "hovertemplate": "topic=Advertising<br>gender=male<br>age_mean=%{x}<br>count=%{y}<extra></extra>",
                  "legendgroup": "Advertising",
                  "marker": {
                    "color": "#FECB52",
                    "pattern": {
                      "shape": ""
                    }
                  },
                  "name": "Advertising",
                  "nbinsx": 10,
                  "orientation": "v",
                  "showlegend": false,
                  "type": "histogram",
                  "x": {
                    "bdata": "gdSA1IDUPUA=",
                    "dtype": "f8"
                  },
                  "xaxis": "x2",
                  "yaxis": "y2"
                },
                {
                  "hovertemplate": "topic=Advertising<br>gender=male<br>age_mean=%{x}<extra></extra>",
                  "legendgroup": "Advertising",
                  "marker": {
                    "color": "#FECB52"
                  },
                  "name": "Advertising",
                  "notched": true,
                  "showlegend": false,
                  "type": "box",
                  "x": {
                    "bdata": "gdSA1IDUPUA=",
                    "dtype": "f8"
                  },
                  "xaxis": "x4",
                  "yaxis": "y4"
                },
                {
                  "bingroup": "x",
                  "hovertemplate": "topic=Agriculture<br>gender=female<br>age_mean=%{x}<br>count=%{y}<extra></extra>",
                  "legendgroup": "Agriculture",
                  "marker": {
                    "color": "#636efa",
                    "pattern": {
                      "shape": ""
                    }
                  },
                  "name": "Agriculture",
                  "nbinsx": 10,
                  "orientation": "v",
                  "showlegend": true,
                  "type": "histogram",
                  "x": {
                    "bdata": "39yVC4WMOEA=",
                    "dtype": "f8"
                  },
                  "xaxis": "x",
                  "yaxis": "y"
                },
                {
                  "hovertemplate": "topic=Agriculture<br>gender=female<br>age_mean=%{x}<extra></extra>",
                  "legendgroup": "Agriculture",
                  "marker": {
                    "color": "#636efa"
                  },
                  "name": "Agriculture",
                  "notched": true,
                  "showlegend": false,
                  "type": "box",
                  "x": {
                    "bdata": "39yVC4WMOEA=",
                    "dtype": "f8"
                  },
                  "xaxis": "x3",
                  "yaxis": "y3"
                },
                {
                  "bingroup": "x",
                  "hovertemplate": "topic=Agriculture<br>gender=male<br>age_mean=%{x}<br>count=%{y}<extra></extra>",
                  "legendgroup": "Agriculture",
                  "marker": {
                    "color": "#636efa",
                    "pattern": {
                      "shape": ""
                    }
                  },
                  "name": "Agriculture",
                  "nbinsx": 10,
                  "orientation": "v",
                  "showlegend": false,
                  "type": "histogram",
                  "x": {
                    "bdata": "qOmHmn4oNkA=",
                    "dtype": "f8"
                  },
                  "xaxis": "x2",
                  "yaxis": "y2"
                },
                {
                  "hovertemplate": "topic=Agriculture<br>gender=male<br>age_mean=%{x}<extra></extra>",
                  "legendgroup": "Agriculture",
                  "marker": {
                    "color": "#636efa"
                  },
                  "name": "Agriculture",
                  "notched": true,
                  "showlegend": false,
                  "type": "box",
                  "x": {
                    "bdata": "qOmHmn4oNkA=",
                    "dtype": "f8"
                  },
                  "xaxis": "x4",
                  "yaxis": "y4"
                },
                {
                  "bingroup": "x",
                  "hovertemplate": "topic=Transportation<br>gender=female<br>age_mean=%{x}<br>count=%{y}<extra></extra>",
                  "legendgroup": "Transportation",
                  "marker": {
                    "color": "#EF553B",
                    "pattern": {
                      "shape": ""
                    }
                  },
                  "name": "Transportation",
                  "nbinsx": 10,
                  "orientation": "v",
                  "showlegend": true,
                  "type": "histogram",
                  "x": {
                    "bdata": "OBlx1PazP0A=",
                    "dtype": "f8"
                  },
                  "xaxis": "x",
                  "yaxis": "y"
                },
                {
                  "hovertemplate": "topic=Transportation<br>gender=female<br>age_mean=%{x}<extra></extra>",
                  "legendgroup": "Transportation",
                  "marker": {
                    "color": "#EF553B"
                  },
                  "name": "Transportation",
                  "notched": true,
                  "showlegend": false,
                  "type": "box",
                  "x": {
                    "bdata": "OBlx1PazP0A=",
                    "dtype": "f8"
                  },
                  "xaxis": "x3",
                  "yaxis": "y3"
                },
                {
                  "bingroup": "x",
                  "hovertemplate": "topic=Transportation<br>gender=male<br>age_mean=%{x}<br>count=%{y}<extra></extra>",
                  "legendgroup": "Transportation",
                  "marker": {
                    "color": "#EF553B",
                    "pattern": {
                      "shape": ""
                    }
                  },
                  "name": "Transportation",
                  "nbinsx": 10,
                  "orientation": "v",
                  "showlegend": false,
                  "type": "histogram",
                  "x": {
                    "bdata": "QxaykIVMP0A=",
                    "dtype": "f8"
                  },
                  "xaxis": "x2",
                  "yaxis": "y2"
                },
                {
                  "hovertemplate": "topic=Transportation<br>gender=male<br>age_mean=%{x}<extra></extra>",
                  "legendgroup": "Transportation",
                  "marker": {
                    "color": "#EF553B"
                  },
                  "name": "Transportation",
                  "notched": true,
                  "showlegend": false,
                  "type": "box",
                  "x": {
                    "bdata": "QxaykIVMP0A=",
                    "dtype": "f8"
                  },
                  "xaxis": "x4",
                  "yaxis": "y4"
                },
                {
                  "bingroup": "x",
                  "hovertemplate": "topic=Automotive<br>gender=female<br>age_mean=%{x}<br>count=%{y}<extra></extra>",
                  "legendgroup": "Automotive",
                  "marker": {
                    "color": "#00cc96",
                    "pattern": {
                      "shape": ""
                    }
                  },
                  "name": "Automotive",
                  "nbinsx": 10,
                  "orientation": "v",
                  "showlegend": true,
                  "type": "histogram",
                  "x": {
                    "bdata": "njt37ty5PkA=",
                    "dtype": "f8"
                  },
                  "xaxis": "x",
                  "yaxis": "y"
                },
                {
                  "hovertemplate": "topic=Automotive<br>gender=female<br>age_mean=%{x}<extra></extra>",
                  "legendgroup": "Automotive",
                  "marker": {
                    "color": "#00cc96"
                  },
                  "name": "Automotive",
                  "notched": true,
                  "showlegend": false,
                  "type": "box",
                  "x": {
                    "bdata": "njt37ty5PkA=",
                    "dtype": "f8"
                  },
                  "xaxis": "x3",
                  "yaxis": "y3"
                },
                {
                  "bingroup": "x",
                  "hovertemplate": "topic=Automotive<br>gender=male<br>age_mean=%{x}<br>count=%{y}<extra></extra>",
                  "legendgroup": "Automotive",
                  "marker": {
                    "color": "#00cc96",
                    "pattern": {
                      "shape": ""
                    }
                  },
                  "name": "Automotive",
                  "nbinsx": 10,
                  "orientation": "v",
                  "showlegend": false,
                  "type": "histogram",
                  "x": {
                    "bdata": "zsjcjMzNO0A=",
                    "dtype": "f8"
                  },
                  "xaxis": "x2",
                  "yaxis": "y2"
                },
                {
                  "hovertemplate": "topic=Automotive<br>gender=male<br>age_mean=%{x}<extra></extra>",
                  "legendgroup": "Automotive",
                  "marker": {
                    "color": "#00cc96"
                  },
                  "name": "Automotive",
                  "notched": true,
                  "showlegend": false,
                  "type": "box",
                  "x": {
                    "bdata": "zsjcjMzNO0A=",
                    "dtype": "f8"
                  },
                  "xaxis": "x4",
                  "yaxis": "y4"
                },
                {
                  "bingroup": "x",
                  "hovertemplate": "topic=Law<br>gender=female<br>age_mean=%{x}<br>count=%{y}<extra></extra>",
                  "legendgroup": "Law",
                  "marker": {
                    "color": "#ab63fa",
                    "pattern": {
                      "shape": ""
                    }
                  },
                  "name": "Law",
                  "nbinsx": 10,
                  "orientation": "v",
                  "showlegend": true,
                  "type": "histogram",
                  "x": {
                    "bdata": "eHHChCrROkA=",
                    "dtype": "f8"
                  },
                  "xaxis": "x",
                  "yaxis": "y"
                },
                {
                  "hovertemplate": "topic=Law<br>gender=female<br>age_mean=%{x}<extra></extra>",
                  "legendgroup": "Law",
                  "marker": {
                    "color": "#ab63fa"
                  },
                  "name": "Law",
                  "notched": true,
                  "showlegend": false,
                  "type": "box",
                  "x": {
                    "bdata": "eHHChCrROkA=",
                    "dtype": "f8"
                  },
                  "xaxis": "x3",
                  "yaxis": "y3"
                },
                {
                  "bingroup": "x",
                  "hovertemplate": "topic=Law<br>gender=male<br>age_mean=%{x}<br>count=%{y}<extra></extra>",
                  "legendgroup": "Law",
                  "marker": {
                    "color": "#ab63fa",
                    "pattern": {
                      "shape": ""
                    }
                  },
                  "name": "Law",
                  "nbinsx": 10,
                  "orientation": "v",
                  "showlegend": false,
                  "type": "histogram",
                  "x": {
                    "bdata": "bXH9HqdyOkA=",
                    "dtype": "f8"
                  },
                  "xaxis": "x2",
                  "yaxis": "y2"
                },
                {
                  "hovertemplate": "topic=Law<br>gender=male<br>age_mean=%{x}<extra></extra>",
                  "legendgroup": "Law",
                  "marker": {
                    "color": "#ab63fa"
                  },
                  "name": "Law",
                  "notched": true,
                  "showlegend": false,
                  "type": "box",
                  "x": {
                    "bdata": "bXH9HqdyOkA=",
                    "dtype": "f8"
                  },
                  "xaxis": "x4",
                  "yaxis": "y4"
                },
                {
                  "bingroup": "x",
                  "hovertemplate": "topic=HumanResources<br>gender=female<br>age_mean=%{x}<br>count=%{y}<extra></extra>",
                  "legendgroup": "HumanResources",
                  "marker": {
                    "color": "#FFA15A",
                    "pattern": {
                      "shape": ""
                    }
                  },
                  "name": "HumanResources",
                  "nbinsx": 10,
                  "orientation": "v",
                  "showlegend": true,
                  "type": "histogram",
                  "x": {
                    "bdata": "QyvWKwrbOUA=",
                    "dtype": "f8"
                  },
                  "xaxis": "x",
                  "yaxis": "y"
                },
                {
                  "hovertemplate": "topic=HumanResources<br>gender=female<br>age_mean=%{x}<extra></extra>",
                  "legendgroup": "HumanResources",
                  "marker": {
                    "color": "#FFA15A"
                  },
                  "name": "HumanResources",
                  "notched": true,
                  "showlegend": false,
                  "type": "box",
                  "x": {
                    "bdata": "QyvWKwrbOUA=",
                    "dtype": "f8"
                  },
                  "xaxis": "x3",
                  "yaxis": "y3"
                },
                {
                  "bingroup": "x",
                  "hovertemplate": "topic=HumanResources<br>gender=male<br>age_mean=%{x}<br>count=%{y}<extra></extra>",
                  "legendgroup": "HumanResources",
                  "marker": {
                    "color": "#FFA15A",
                    "pattern": {
                      "shape": ""
                    }
                  },
                  "name": "HumanResources",
                  "nbinsx": 10,
                  "orientation": "v",
                  "showlegend": false,
                  "type": "histogram",
                  "x": {
                    "bdata": "gsPWEioRO0A=",
                    "dtype": "f8"
                  },
                  "xaxis": "x2",
                  "yaxis": "y2"
                },
                {
                  "hovertemplate": "topic=HumanResources<br>gender=male<br>age_mean=%{x}<extra></extra>",
                  "legendgroup": "HumanResources",
                  "marker": {
                    "color": "#FFA15A"
                  },
                  "name": "HumanResources",
                  "notched": true,
                  "showlegend": false,
                  "type": "box",
                  "x": {
                    "bdata": "gsPWEioRO0A=",
                    "dtype": "f8"
                  },
                  "xaxis": "x4",
                  "yaxis": "y4"
                },
                {
                  "bingroup": "x",
                  "hovertemplate": "topic=Internet<br>gender=female<br>age_mean=%{x}<br>count=%{y}<extra></extra>",
                  "legendgroup": "Internet",
                  "marker": {
                    "color": "#19d3f3",
                    "pattern": {
                      "shape": ""
                    }
                  },
                  "name": "Internet",
                  "nbinsx": 10,
                  "orientation": "v",
                  "showlegend": true,
                  "type": "histogram",
                  "x": {
                    "bdata": "F224Z5NfPUA=",
                    "dtype": "f8"
                  },
                  "xaxis": "x",
                  "yaxis": "y"
                },
                {
                  "hovertemplate": "topic=Internet<br>gender=female<br>age_mean=%{x}<extra></extra>",
                  "legendgroup": "Internet",
                  "marker": {
                    "color": "#19d3f3"
                  },
                  "name": "Internet",
                  "notched": true,
                  "showlegend": false,
                  "type": "box",
                  "x": {
                    "bdata": "F224Z5NfPUA=",
                    "dtype": "f8"
                  },
                  "xaxis": "x3",
                  "yaxis": "y3"
                },
                {
                  "bingroup": "x",
                  "hovertemplate": "topic=Internet<br>gender=male<br>age_mean=%{x}<br>count=%{y}<extra></extra>",
                  "legendgroup": "Internet",
                  "marker": {
                    "color": "#19d3f3",
                    "pattern": {
                      "shape": ""
                    }
                  },
                  "name": "Internet",
                  "nbinsx": 10,
                  "orientation": "v",
                  "showlegend": false,
                  "type": "histogram",
                  "x": {
                    "bdata": "drMIXbv6PEA=",
                    "dtype": "f8"
                  },
                  "xaxis": "x2",
                  "yaxis": "y2"
                },
                {
                  "hovertemplate": "topic=Internet<br>gender=male<br>age_mean=%{x}<extra></extra>",
                  "legendgroup": "Internet",
                  "marker": {
                    "color": "#19d3f3"
                  },
                  "name": "Internet",
                  "notched": true,
                  "showlegend": false,
                  "type": "box",
                  "x": {
                    "bdata": "drMIXbv6PEA=",
                    "dtype": "f8"
                  },
                  "xaxis": "x4",
                  "yaxis": "y4"
                },
                {
                  "bingroup": "x",
                  "hovertemplate": "topic=Telecommunications<br>gender=female<br>age_mean=%{x}<br>count=%{y}<extra></extra>",
                  "legendgroup": "Telecommunications",
                  "marker": {
                    "color": "#FF6692",
                    "pattern": {
                      "shape": ""
                    }
                  },
                  "name": "Telecommunications",
                  "nbinsx": 10,
                  "orientation": "v",
                  "showlegend": true,
                  "type": "histogram",
                  "x": {
                    "bdata": "C4QgFYCIOkA=",
                    "dtype": "f8"
                  },
                  "xaxis": "x",
                  "yaxis": "y"
                },
                {
                  "hovertemplate": "topic=Telecommunications<br>gender=female<br>age_mean=%{x}<extra></extra>",
                  "legendgroup": "Telecommunications",
                  "marker": {
                    "color": "#FF6692"
                  },
                  "name": "Telecommunications",
                  "notched": true,
                  "showlegend": false,
                  "type": "box",
                  "x": {
                    "bdata": "C4QgFYCIOkA=",
                    "dtype": "f8"
                  },
                  "xaxis": "x3",
                  "yaxis": "y3"
                },
                {
                  "bingroup": "x",
                  "hovertemplate": "topic=Telecommunications<br>gender=male<br>age_mean=%{x}<br>count=%{y}<extra></extra>",
                  "legendgroup": "Telecommunications",
                  "marker": {
                    "color": "#FF6692",
                    "pattern": {
                      "shape": ""
                    }
                  },
                  "name": "Telecommunications",
                  "nbinsx": 10,
                  "orientation": "v",
                  "showlegend": false,
                  "type": "histogram",
                  "x": {
                    "bdata": "8y3f8i1fPUA=",
                    "dtype": "f8"
                  },
                  "xaxis": "x2",
                  "yaxis": "y2"
                },
                {
                  "hovertemplate": "topic=Telecommunications<br>gender=male<br>age_mean=%{x}<extra></extra>",
                  "legendgroup": "Telecommunications",
                  "marker": {
                    "color": "#FF6692"
                  },
                  "name": "Telecommunications",
                  "notched": true,
                  "showlegend": false,
                  "type": "box",
                  "x": {
                    "bdata": "8y3f8i1fPUA=",
                    "dtype": "f8"
                  },
                  "xaxis": "x4",
                  "yaxis": "y4"
                },
                {
                  "bingroup": "x",
                  "hovertemplate": "topic=Consulting<br>gender=female<br>age_mean=%{x}<br>count=%{y}<extra></extra>",
                  "legendgroup": "Consulting",
                  "marker": {
                    "color": "#B6E880",
                    "pattern": {
                      "shape": ""
                    }
                  },
                  "name": "Consulting",
                  "nbinsx": 10,
                  "orientation": "v",
                  "showlegend": true,
                  "type": "histogram",
                  "x": {
                    "bdata": "JkJ85QQpP0A=",
                    "dtype": "f8"
                  },
                  "xaxis": "x",
                  "yaxis": "y"
                },
                {
                  "hovertemplate": "topic=Consulting<br>gender=female<br>age_mean=%{x}<extra></extra>",
                  "legendgroup": "Consulting",
                  "marker": {
                    "color": "#B6E880"
                  },
                  "name": "Consulting",
                  "notched": true,
                  "showlegend": false,
                  "type": "box",
                  "x": {
                    "bdata": "JkJ85QQpP0A=",
                    "dtype": "f8"
                  },
                  "xaxis": "x3",
                  "yaxis": "y3"
                },
                {
                  "bingroup": "x",
                  "hovertemplate": "topic=Consulting<br>gender=male<br>age_mean=%{x}<br>count=%{y}<extra></extra>",
                  "legendgroup": "Consulting",
                  "marker": {
                    "color": "#B6E880",
                    "pattern": {
                      "shape": ""
                    }
                  },
                  "name": "Consulting",
                  "nbinsx": 10,
                  "orientation": "v",
                  "showlegend": false,
                  "type": "histogram",
                  "x": {
                    "bdata": "fhy4ixMcOkA=",
                    "dtype": "f8"
                  },
                  "xaxis": "x2",
                  "yaxis": "y2"
                },
                {
                  "hovertemplate": "topic=Consulting<br>gender=male<br>age_mean=%{x}<extra></extra>",
                  "legendgroup": "Consulting",
                  "marker": {
                    "color": "#B6E880"
                  },
                  "name": "Consulting",
                  "notched": true,
                  "showlegend": false,
                  "type": "box",
                  "x": {
                    "bdata": "fhy4ixMcOkA=",
                    "dtype": "f8"
                  },
                  "xaxis": "x4",
                  "yaxis": "y4"
                },
                {
                  "bingroup": "x",
                  "hovertemplate": "topic=Maritime<br>gender=female<br>age_mean=%{x}<br>count=%{y}<extra></extra>",
                  "legendgroup": "Maritime",
                  "marker": {
                    "color": "#FF97FF",
                    "pattern": {
                      "shape": ""
                    }
                  },
                  "name": "Maritime",
                  "nbinsx": 10,
                  "orientation": "v",
                  "showlegend": true,
                  "type": "histogram",
                  "x": {
                    "bdata": "MjIyMjIyP0A=",
                    "dtype": "f8"
                  },
                  "xaxis": "x",
                  "yaxis": "y"
                },
                {
                  "hovertemplate": "topic=Maritime<br>gender=female<br>age_mean=%{x}<extra></extra>",
                  "legendgroup": "Maritime",
                  "marker": {
                    "color": "#FF97FF"
                  },
                  "name": "Maritime",
                  "notched": true,
                  "showlegend": false,
                  "type": "box",
                  "x": {
                    "bdata": "MjIyMjIyP0A=",
                    "dtype": "f8"
                  },
                  "xaxis": "x3",
                  "yaxis": "y3"
                },
                {
                  "bingroup": "x",
                  "hovertemplate": "topic=Maritime<br>gender=male<br>age_mean=%{x}<br>count=%{y}<extra></extra>",
                  "legendgroup": "Maritime",
                  "marker": {
                    "color": "#FF97FF",
                    "pattern": {
                      "shape": ""
                    }
                  },
                  "name": "Maritime",
                  "nbinsx": 10,
                  "orientation": "v",
                  "showlegend": false,
                  "type": "histogram",
                  "x": {
                    "bdata": "cpK5Un5jNEA=",
                    "dtype": "f8"
                  },
                  "xaxis": "x2",
                  "yaxis": "y2"
                },
                {
                  "hovertemplate": "topic=Maritime<br>gender=male<br>age_mean=%{x}<extra></extra>",
                  "legendgroup": "Maritime",
                  "marker": {
                    "color": "#FF97FF"
                  },
                  "name": "Maritime",
                  "notched": true,
                  "showlegend": false,
                  "type": "box",
                  "x": {
                    "bdata": "cpK5Un5jNEA=",
                    "dtype": "f8"
                  },
                  "xaxis": "x4",
                  "yaxis": "y4"
                },
                {
                  "bingroup": "x",
                  "hovertemplate": "topic=Religion<br>gender=female<br>age_mean=%{x}<br>count=%{y}<extra></extra>",
                  "legendgroup": "Religion",
                  "marker": {
                    "color": "#FECB52",
                    "pattern": {
                      "shape": ""
                    }
                  },
                  "name": "Religion",
                  "nbinsx": 10,
                  "orientation": "v",
                  "showlegend": true,
                  "type": "histogram",
                  "x": {
                    "bdata": "k3Om5KF/PEA=",
                    "dtype": "f8"
                  },
                  "xaxis": "x",
                  "yaxis": "y"
                },
                {
                  "hovertemplate": "topic=Religion<br>gender=female<br>age_mean=%{x}<extra></extra>",
                  "legendgroup": "Religion",
                  "marker": {
                    "color": "#FECB52"
                  },
                  "name": "Religion",
                  "notched": true,
                  "showlegend": false,
                  "type": "box",
                  "x": {
                    "bdata": "k3Om5KF/PEA=",
                    "dtype": "f8"
                  },
                  "xaxis": "x3",
                  "yaxis": "y3"
                },
                {
                  "bingroup": "x",
                  "hovertemplate": "topic=Religion<br>gender=male<br>age_mean=%{x}<br>count=%{y}<extra></extra>",
                  "legendgroup": "Religion",
                  "marker": {
                    "color": "#FECB52",
                    "pattern": {
                      "shape": ""
                    }
                  },
                  "name": "Religion",
                  "nbinsx": 10,
                  "orientation": "v",
                  "showlegend": false,
                  "type": "histogram",
                  "x": {
                    "bdata": "xBjt2u4WO0A=",
                    "dtype": "f8"
                  },
                  "xaxis": "x2",
                  "yaxis": "y2"
                },
                {
                  "hovertemplate": "topic=Religion<br>gender=male<br>age_mean=%{x}<extra></extra>",
                  "legendgroup": "Religion",
                  "marker": {
                    "color": "#FECB52"
                  },
                  "name": "Religion",
                  "notched": true,
                  "showlegend": false,
                  "type": "box",
                  "x": {
                    "bdata": "xBjt2u4WO0A=",
                    "dtype": "f8"
                  },
                  "xaxis": "x4",
                  "yaxis": "y4"
                },
                {
                  "bingroup": "x",
                  "hovertemplate": "topic=Accounting<br>gender=female<br>age_mean=%{x}<br>count=%{y}<extra></extra>",
                  "legendgroup": "Accounting",
                  "marker": {
                    "color": "#636efa",
                    "pattern": {
                      "shape": ""
                    }
                  },
                  "name": "Accounting",
                  "nbinsx": 10,
                  "orientation": "v",
                  "showlegend": true,
                  "type": "histogram",
                  "x": {
                    "bdata": "zps8TC0fQEA=",
                    "dtype": "f8"
                  },
                  "xaxis": "x",
                  "yaxis": "y"
                },
                {
                  "hovertemplate": "topic=Accounting<br>gender=female<br>age_mean=%{x}<extra></extra>",
                  "legendgroup": "Accounting",
                  "marker": {
                    "color": "#636efa"
                  },
                  "name": "Accounting",
                  "notched": true,
                  "showlegend": false,
                  "type": "box",
                  "x": {
                    "bdata": "zps8TC0fQEA=",
                    "dtype": "f8"
                  },
                  "xaxis": "x3",
                  "yaxis": "y3"
                },
                {
                  "bingroup": "x",
                  "hovertemplate": "topic=Accounting<br>gender=male<br>age_mean=%{x}<br>count=%{y}<extra></extra>",
                  "legendgroup": "Accounting",
                  "marker": {
                    "color": "#636efa",
                    "pattern": {
                      "shape": ""
                    }
                  },
                  "name": "Accounting",
                  "nbinsx": 10,
                  "orientation": "v",
                  "showlegend": false,
                  "type": "histogram",
                  "x": {
                    "bdata": "SpCnBHlKN0A=",
                    "dtype": "f8"
                  },
                  "xaxis": "x2",
                  "yaxis": "y2"
                },
                {
                  "hovertemplate": "topic=Accounting<br>gender=male<br>age_mean=%{x}<extra></extra>",
                  "legendgroup": "Accounting",
                  "marker": {
                    "color": "#636efa"
                  },
                  "name": "Accounting",
                  "notched": true,
                  "showlegend": false,
                  "type": "box",
                  "x": {
                    "bdata": "SpCnBHlKN0A=",
                    "dtype": "f8"
                  },
                  "xaxis": "x4",
                  "yaxis": "y4"
                },
                {
                  "bingroup": "x",
                  "hovertemplate": "topic=Publishing<br>gender=female<br>age_mean=%{x}<br>count=%{y}<extra></extra>",
                  "legendgroup": "Publishing",
                  "marker": {
                    "color": "#EF553B",
                    "pattern": {
                      "shape": ""
                    }
                  },
                  "name": "Publishing",
                  "nbinsx": 10,
                  "orientation": "v",
                  "showlegend": true,
                  "type": "histogram",
                  "x": {
                    "bdata": "Qm9KMPX2O0A=",
                    "dtype": "f8"
                  },
                  "xaxis": "x",
                  "yaxis": "y"
                },
                {
                  "hovertemplate": "topic=Publishing<br>gender=female<br>age_mean=%{x}<extra></extra>",
                  "legendgroup": "Publishing",
                  "marker": {
                    "color": "#EF553B"
                  },
                  "name": "Publishing",
                  "notched": true,
                  "showlegend": false,
                  "type": "box",
                  "x": {
                    "bdata": "Qm9KMPX2O0A=",
                    "dtype": "f8"
                  },
                  "xaxis": "x3",
                  "yaxis": "y3"
                },
                {
                  "bingroup": "x",
                  "hovertemplate": "topic=Publishing<br>gender=male<br>age_mean=%{x}<br>count=%{y}<extra></extra>",
                  "legendgroup": "Publishing",
                  "marker": {
                    "color": "#EF553B",
                    "pattern": {
                      "shape": ""
                    }
                  },
                  "name": "Publishing",
                  "nbinsx": 10,
                  "orientation": "v",
                  "showlegend": false,
                  "type": "histogram",
                  "x": {
                    "bdata": "AtFKmlMEP0A=",
                    "dtype": "f8"
                  },
                  "xaxis": "x2",
                  "yaxis": "y2"
                },
                {
                  "hovertemplate": "topic=Publishing<br>gender=male<br>age_mean=%{x}<extra></extra>",
                  "legendgroup": "Publishing",
                  "marker": {
                    "color": "#EF553B"
                  },
                  "name": "Publishing",
                  "notched": true,
                  "showlegend": false,
                  "type": "box",
                  "x": {
                    "bdata": "AtFKmlMEP0A=",
                    "dtype": "f8"
                  },
                  "xaxis": "x4",
                  "yaxis": "y4"
                },
                {
                  "bingroup": "x",
                  "hovertemplate": "topic=Tourism<br>gender=female<br>age_mean=%{x}<br>count=%{y}<extra></extra>",
                  "legendgroup": "Tourism",
                  "marker": {
                    "color": "#00cc96",
                    "pattern": {
                      "shape": ""
                    }
                  },
                  "name": "Tourism",
                  "nbinsx": 10,
                  "orientation": "v",
                  "showlegend": true,
                  "type": "histogram",
                  "x": {
                    "bdata": "zm7hV2MCOEA=",
                    "dtype": "f8"
                  },
                  "xaxis": "x",
                  "yaxis": "y"
                },
                {
                  "hovertemplate": "topic=Tourism<br>gender=female<br>age_mean=%{x}<extra></extra>",
                  "legendgroup": "Tourism",
                  "marker": {
                    "color": "#00cc96"
                  },
                  "name": "Tourism",
                  "notched": true,
                  "showlegend": false,
                  "type": "box",
                  "x": {
                    "bdata": "zm7hV2MCOEA=",
                    "dtype": "f8"
                  },
                  "xaxis": "x3",
                  "yaxis": "y3"
                },
                {
                  "bingroup": "x",
                  "hovertemplate": "topic=Tourism<br>gender=male<br>age_mean=%{x}<br>count=%{y}<extra></extra>",
                  "legendgroup": "Tourism",
                  "marker": {
                    "color": "#00cc96",
                    "pattern": {
                      "shape": ""
                    }
                  },
                  "name": "Tourism",
                  "nbinsx": 10,
                  "orientation": "v",
                  "showlegend": false,
                  "type": "histogram",
                  "x": {
                    "bdata": "SOcthnTeOkA=",
                    "dtype": "f8"
                  },
                  "xaxis": "x2",
                  "yaxis": "y2"
                },
                {
                  "hovertemplate": "topic=Tourism<br>gender=male<br>age_mean=%{x}<extra></extra>",
                  "legendgroup": "Tourism",
                  "marker": {
                    "color": "#00cc96"
                  },
                  "name": "Tourism",
                  "notched": true,
                  "showlegend": false,
                  "type": "box",
                  "x": {
                    "bdata": "SOcthnTeOkA=",
                    "dtype": "f8"
                  },
                  "xaxis": "x4",
                  "yaxis": "y4"
                },
                {
                  "bingroup": "x",
                  "hovertemplate": "topic=InvestmentBanking<br>gender=female<br>age_mean=%{x}<br>count=%{y}<extra></extra>",
                  "legendgroup": "InvestmentBanking",
                  "marker": {
                    "color": "#ab63fa",
                    "pattern": {
                      "shape": ""
                    }
                  },
                  "name": "InvestmentBanking",
                  "nbinsx": 10,
                  "orientation": "v",
                  "showlegend": true,
                  "type": "histogram",
                  "x": {
                    "bdata": "LeVB6RA1OUA=",
                    "dtype": "f8"
                  },
                  "xaxis": "x",
                  "yaxis": "y"
                },
                {
                  "hovertemplate": "topic=InvestmentBanking<br>gender=female<br>age_mean=%{x}<extra></extra>",
                  "legendgroup": "InvestmentBanking",
                  "marker": {
                    "color": "#ab63fa"
                  },
                  "name": "InvestmentBanking",
                  "notched": true,
                  "showlegend": false,
                  "type": "box",
                  "x": {
                    "bdata": "LeVB6RA1OUA=",
                    "dtype": "f8"
                  },
                  "xaxis": "x3",
                  "yaxis": "y3"
                },
                {
                  "bingroup": "x",
                  "hovertemplate": "topic=InvestmentBanking<br>gender=male<br>age_mean=%{x}<br>count=%{y}<extra></extra>",
                  "legendgroup": "InvestmentBanking",
                  "marker": {
                    "color": "#ab63fa",
                    "pattern": {
                      "shape": ""
                    }
                  },
                  "name": "InvestmentBanking",
                  "nbinsx": 10,
                  "orientation": "v",
                  "showlegend": false,
                  "type": "histogram",
                  "x": {
                    "bdata": "71EzAQx4PUA=",
                    "dtype": "f8"
                  },
                  "xaxis": "x2",
                  "yaxis": "y2"
                },
                {
                  "hovertemplate": "topic=InvestmentBanking<br>gender=male<br>age_mean=%{x}<extra></extra>",
                  "legendgroup": "InvestmentBanking",
                  "marker": {
                    "color": "#ab63fa"
                  },
                  "name": "InvestmentBanking",
                  "notched": true,
                  "showlegend": false,
                  "type": "box",
                  "x": {
                    "bdata": "71EzAQx4PUA=",
                    "dtype": "f8"
                  },
                  "xaxis": "x4",
                  "yaxis": "y4"
                },
                {
                  "bingroup": "x",
                  "hovertemplate": "topic=RealEstate<br>gender=female<br>age_mean=%{x}<br>count=%{y}<extra></extra>",
                  "legendgroup": "RealEstate",
                  "marker": {
                    "color": "#FFA15A",
                    "pattern": {
                      "shape": ""
                    }
                  },
                  "name": "RealEstate",
                  "nbinsx": 10,
                  "orientation": "v",
                  "showlegend": true,
                  "type": "histogram",
                  "x": {
                    "bdata": "H08w4bDPOUA=",
                    "dtype": "f8"
                  },
                  "xaxis": "x",
                  "yaxis": "y"
                },
                {
                  "hovertemplate": "topic=RealEstate<br>gender=female<br>age_mean=%{x}<extra></extra>",
                  "legendgroup": "RealEstate",
                  "marker": {
                    "color": "#FFA15A"
                  },
                  "name": "RealEstate",
                  "notched": true,
                  "showlegend": false,
                  "type": "box",
                  "x": {
                    "bdata": "H08w4bDPOUA=",
                    "dtype": "f8"
                  },
                  "xaxis": "x3",
                  "yaxis": "y3"
                },
                {
                  "bingroup": "x",
                  "hovertemplate": "topic=RealEstate<br>gender=male<br>age_mean=%{x}<br>count=%{y}<extra></extra>",
                  "legendgroup": "RealEstate",
                  "marker": {
                    "color": "#FFA15A",
                    "pattern": {
                      "shape": ""
                    }
                  },
                  "name": "RealEstate",
                  "nbinsx": 10,
                  "orientation": "v",
                  "showlegend": false,
                  "type": "histogram",
                  "x": {
                    "bdata": "volv4ps4O0A=",
                    "dtype": "f8"
                  },
                  "xaxis": "x2",
                  "yaxis": "y2"
                },
                {
                  "hovertemplate": "topic=RealEstate<br>gender=male<br>age_mean=%{x}<extra></extra>",
                  "legendgroup": "RealEstate",
                  "marker": {
                    "color": "#FFA15A"
                  },
                  "name": "RealEstate",
                  "notched": true,
                  "showlegend": false,
                  "type": "box",
                  "x": {
                    "bdata": "volv4ps4O0A=",
                    "dtype": "f8"
                  },
                  "xaxis": "x4",
                  "yaxis": "y4"
                },
                {
                  "bingroup": "x",
                  "hovertemplate": "topic=Engineering<br>gender=female<br>age_mean=%{x}<br>count=%{y}<extra></extra>",
                  "legendgroup": "Engineering",
                  "marker": {
                    "color": "#19d3f3",
                    "pattern": {
                      "shape": ""
                    }
                  },
                  "name": "Engineering",
                  "nbinsx": 10,
                  "orientation": "v",
                  "showlegend": true,
                  "type": "histogram",
                  "x": {
                    "bdata": "rSBLdJS1OEA=",
                    "dtype": "f8"
                  },
                  "xaxis": "x",
                  "yaxis": "y"
                },
                {
                  "hovertemplate": "topic=Engineering<br>gender=female<br>age_mean=%{x}<extra></extra>",
                  "legendgroup": "Engineering",
                  "marker": {
                    "color": "#19d3f3"
                  },
                  "name": "Engineering",
                  "notched": true,
                  "showlegend": false,
                  "type": "box",
                  "x": {
                    "bdata": "rSBLdJS1OEA=",
                    "dtype": "f8"
                  },
                  "xaxis": "x3",
                  "yaxis": "y3"
                },
                {
                  "bingroup": "x",
                  "hovertemplate": "topic=Engineering<br>gender=male<br>age_mean=%{x}<br>count=%{y}<extra></extra>",
                  "legendgroup": "Engineering",
                  "marker": {
                    "color": "#19d3f3",
                    "pattern": {
                      "shape": ""
                    }
                  },
                  "name": "Engineering",
                  "nbinsx": 10,
                  "orientation": "v",
                  "showlegend": false,
                  "type": "histogram",
                  "x": {
                    "bdata": "ImtdkCEiOUA=",
                    "dtype": "f8"
                  },
                  "xaxis": "x2",
                  "yaxis": "y2"
                },
                {
                  "hovertemplate": "topic=Engineering<br>gender=male<br>age_mean=%{x}<extra></extra>",
                  "legendgroup": "Engineering",
                  "marker": {
                    "color": "#19d3f3"
                  },
                  "name": "Engineering",
                  "notched": true,
                  "showlegend": false,
                  "type": "box",
                  "x": {
                    "bdata": "ImtdkCEiOUA=",
                    "dtype": "f8"
                  },
                  "xaxis": "x4",
                  "yaxis": "y4"
                },
                {
                  "bingroup": "x",
                  "hovertemplate": "topic=Science<br>gender=female<br>age_mean=%{x}<br>count=%{y}<extra></extra>",
                  "legendgroup": "Science",
                  "marker": {
                    "color": "#FF6692",
                    "pattern": {
                      "shape": ""
                    }
                  },
                  "name": "Science",
                  "nbinsx": 10,
                  "orientation": "v",
                  "showlegend": true,
                  "type": "histogram",
                  "x": {
                    "bdata": "UTqQK5dzOUA=",
                    "dtype": "f8"
                  },
                  "xaxis": "x",
                  "yaxis": "y"
                },
                {
                  "hovertemplate": "topic=Science<br>gender=female<br>age_mean=%{x}<extra></extra>",
                  "legendgroup": "Science",
                  "marker": {
                    "color": "#FF6692"
                  },
                  "name": "Science",
                  "notched": true,
                  "showlegend": false,
                  "type": "box",
                  "x": {
                    "bdata": "UTqQK5dzOUA=",
                    "dtype": "f8"
                  },
                  "xaxis": "x3",
                  "yaxis": "y3"
                },
                {
                  "bingroup": "x",
                  "hovertemplate": "topic=Science<br>gender=male<br>age_mean=%{x}<br>count=%{y}<extra></extra>",
                  "legendgroup": "Science",
                  "marker": {
                    "color": "#FF6692",
                    "pattern": {
                      "shape": ""
                    }
                  },
                  "name": "Science",
                  "nbinsx": 10,
                  "orientation": "v",
                  "showlegend": false,
                  "type": "histogram",
                  "x": {
                    "bdata": "nuyYlGs3OEA=",
                    "dtype": "f8"
                  },
                  "xaxis": "x2",
                  "yaxis": "y2"
                },
                {
                  "hovertemplate": "topic=Science<br>gender=male<br>age_mean=%{x}<extra></extra>",
                  "legendgroup": "Science",
                  "marker": {
                    "color": "#FF6692"
                  },
                  "name": "Science",
                  "notched": true,
                  "showlegend": false,
                  "type": "box",
                  "x": {
                    "bdata": "nuyYlGs3OEA=",
                    "dtype": "f8"
                  },
                  "xaxis": "x4",
                  "yaxis": "y4"
                },
                {
                  "bingroup": "x",
                  "hovertemplate": "topic=Chemicals<br>gender=female<br>age_mean=%{x}<br>count=%{y}<extra></extra>",
                  "legendgroup": "Chemicals",
                  "marker": {
                    "color": "#B6E880",
                    "pattern": {
                      "shape": ""
                    }
                  },
                  "name": "Chemicals",
                  "nbinsx": 10,
                  "orientation": "v",
                  "showlegend": true,
                  "type": "histogram",
                  "x": {
                    "bdata": "SszxmKTENUA=",
                    "dtype": "f8"
                  },
                  "xaxis": "x",
                  "yaxis": "y"
                },
                {
                  "hovertemplate": "topic=Chemicals<br>gender=female<br>age_mean=%{x}<extra></extra>",
                  "legendgroup": "Chemicals",
                  "marker": {
                    "color": "#B6E880"
                  },
                  "name": "Chemicals",
                  "notched": true,
                  "showlegend": false,
                  "type": "box",
                  "x": {
                    "bdata": "SszxmKTENUA=",
                    "dtype": "f8"
                  },
                  "xaxis": "x3",
                  "yaxis": "y3"
                },
                {
                  "bingroup": "x",
                  "hovertemplate": "topic=Chemicals<br>gender=male<br>age_mean=%{x}<br>count=%{y}<extra></extra>",
                  "legendgroup": "Chemicals",
                  "marker": {
                    "color": "#B6E880",
                    "pattern": {
                      "shape": ""
                    }
                  },
                  "name": "Chemicals",
                  "nbinsx": 10,
                  "orientation": "v",
                  "showlegend": false,
                  "type": "histogram",
                  "x": {
                    "bdata": "cxisyCBbNkA=",
                    "dtype": "f8"
                  },
                  "xaxis": "x2",
                  "yaxis": "y2"
                },
                {
                  "hovertemplate": "topic=Chemicals<br>gender=male<br>age_mean=%{x}<extra></extra>",
                  "legendgroup": "Chemicals",
                  "marker": {
                    "color": "#B6E880"
                  },
                  "name": "Chemicals",
                  "notched": true,
                  "showlegend": false,
                  "type": "box",
                  "x": {
                    "bdata": "cxisyCBbNkA=",
                    "dtype": "f8"
                  },
                  "xaxis": "x4",
                  "yaxis": "y4"
                },
                {
                  "bingroup": "x",
                  "hovertemplate": "topic=Student<br>gender=female<br>age_mean=%{x}<br>count=%{y}<extra></extra>",
                  "legendgroup": "Student",
                  "marker": {
                    "color": "#FF97FF",
                    "pattern": {
                      "shape": ""
                    }
                  },
                  "name": "Student",
                  "nbinsx": 10,
                  "orientation": "v",
                  "showlegend": true,
                  "type": "histogram",
                  "x": {
                    "bdata": "xFnNH6fFMUA=",
                    "dtype": "f8"
                  },
                  "xaxis": "x",
                  "yaxis": "y"
                },
                {
                  "hovertemplate": "topic=Student<br>gender=female<br>age_mean=%{x}<extra></extra>",
                  "legendgroup": "Student",
                  "marker": {
                    "color": "#FF97FF"
                  },
                  "name": "Student",
                  "notched": true,
                  "showlegend": false,
                  "type": "box",
                  "x": {
                    "bdata": "xFnNH6fFMUA=",
                    "dtype": "f8"
                  },
                  "xaxis": "x3",
                  "yaxis": "y3"
                },
                {
                  "bingroup": "x",
                  "hovertemplate": "topic=Student<br>gender=male<br>age_mean=%{x}<br>count=%{y}<extra></extra>",
                  "legendgroup": "Student",
                  "marker": {
                    "color": "#FF97FF",
                    "pattern": {
                      "shape": ""
                    }
                  },
                  "name": "Student",
                  "nbinsx": 10,
                  "orientation": "v",
                  "showlegend": false,
                  "type": "histogram",
                  "x": {
                    "bdata": "n1mrAioGMkA=",
                    "dtype": "f8"
                  },
                  "xaxis": "x2",
                  "yaxis": "y2"
                },
                {
                  "hovertemplate": "topic=Student<br>gender=male<br>age_mean=%{x}<extra></extra>",
                  "legendgroup": "Student",
                  "marker": {
                    "color": "#FF97FF"
                  },
                  "name": "Student",
                  "notched": true,
                  "showlegend": false,
                  "type": "box",
                  "x": {
                    "bdata": "n1mrAioGMkA=",
                    "dtype": "f8"
                  },
                  "xaxis": "x4",
                  "yaxis": "y4"
                },
                {
                  "bingroup": "x",
                  "hovertemplate": "topic=Education<br>gender=female<br>age_mean=%{x}<br>count=%{y}<extra></extra>",
                  "legendgroup": "Education",
                  "marker": {
                    "color": "#FECB52",
                    "pattern": {
                      "shape": ""
                    }
                  },
                  "name": "Education",
                  "nbinsx": 10,
                  "orientation": "v",
                  "showlegend": true,
                  "type": "histogram",
                  "x": {
                    "bdata": "TABOIj7VOUA=",
                    "dtype": "f8"
                  },
                  "xaxis": "x",
                  "yaxis": "y"
                },
                {
                  "hovertemplate": "topic=Education<br>gender=female<br>age_mean=%{x}<extra></extra>",
                  "legendgroup": "Education",
                  "marker": {
                    "color": "#FECB52"
                  },
                  "name": "Education",
                  "notched": true,
                  "showlegend": false,
                  "type": "box",
                  "x": {
                    "bdata": "TABOIj7VOUA=",
                    "dtype": "f8"
                  },
                  "xaxis": "x3",
                  "yaxis": "y3"
                },
                {
                  "bingroup": "x",
                  "hovertemplate": "topic=Education<br>gender=male<br>age_mean=%{x}<br>count=%{y}<extra></extra>",
                  "legendgroup": "Education",
                  "marker": {
                    "color": "#FECB52",
                    "pattern": {
                      "shape": ""
                    }
                  },
                  "name": "Education",
                  "nbinsx": 10,
                  "orientation": "v",
                  "showlegend": false,
                  "type": "histogram",
                  "x": {
                    "bdata": "tNRkdSynOkA=",
                    "dtype": "f8"
                  },
                  "xaxis": "x2",
                  "yaxis": "y2"
                },
                {
                  "hovertemplate": "topic=Education<br>gender=male<br>age_mean=%{x}<extra></extra>",
                  "legendgroup": "Education",
                  "marker": {
                    "color": "#FECB52"
                  },
                  "name": "Education",
                  "notched": true,
                  "showlegend": false,
                  "type": "box",
                  "x": {
                    "bdata": "tNRkdSynOkA=",
                    "dtype": "f8"
                  },
                  "xaxis": "x4",
                  "yaxis": "y4"
                },
                {
                  "bingroup": "x",
                  "hovertemplate": "topic=BusinessServices<br>gender=female<br>age_mean=%{x}<br>count=%{y}<extra></extra>",
                  "legendgroup": "BusinessServices",
                  "marker": {
                    "color": "#636efa",
                    "pattern": {
                      "shape": ""
                    }
                  },
                  "name": "BusinessServices",
                  "nbinsx": 10,
                  "orientation": "v",
                  "showlegend": true,
                  "type": "histogram",
                  "x": {
                    "bdata": "6lIVBBy5OUA=",
                    "dtype": "f8"
                  },
                  "xaxis": "x",
                  "yaxis": "y"
                },
                {
                  "hovertemplate": "topic=BusinessServices<br>gender=female<br>age_mean=%{x}<extra></extra>",
                  "legendgroup": "BusinessServices",
                  "marker": {
                    "color": "#636efa"
                  },
                  "name": "BusinessServices",
                  "notched": true,
                  "showlegend": false,
                  "type": "box",
                  "x": {
                    "bdata": "6lIVBBy5OUA=",
                    "dtype": "f8"
                  },
                  "xaxis": "x3",
                  "yaxis": "y3"
                },
                {
                  "bingroup": "x",
                  "hovertemplate": "topic=BusinessServices<br>gender=male<br>age_mean=%{x}<br>count=%{y}<extra></extra>",
                  "legendgroup": "BusinessServices",
                  "marker": {
                    "color": "#636efa",
                    "pattern": {
                      "shape": ""
                    }
                  },
                  "name": "BusinessServices",
                  "nbinsx": 10,
                  "orientation": "v",
                  "showlegend": false,
                  "type": "histogram",
                  "x": {
                    "bdata": "oEErF6cYPkA=",
                    "dtype": "f8"
                  },
                  "xaxis": "x2",
                  "yaxis": "y2"
                },
                {
                  "hovertemplate": "topic=BusinessServices<br>gender=male<br>age_mean=%{x}<extra></extra>",
                  "legendgroup": "BusinessServices",
                  "marker": {
                    "color": "#636efa"
                  },
                  "name": "BusinessServices",
                  "notched": true,
                  "showlegend": false,
                  "type": "box",
                  "x": {
                    "bdata": "oEErF6cYPkA=",
                    "dtype": "f8"
                  },
                  "xaxis": "x4",
                  "yaxis": "y4"
                },
                {
                  "bingroup": "x",
                  "hovertemplate": "topic=Arts<br>gender=female<br>age_mean=%{x}<br>count=%{y}<extra></extra>",
                  "legendgroup": "Arts",
                  "marker": {
                    "color": "#EF553B",
                    "pattern": {
                      "shape": ""
                    }
                  },
                  "name": "Arts",
                  "nbinsx": 10,
                  "orientation": "v",
                  "showlegend": true,
                  "type": "histogram",
                  "x": {
                    "bdata": "lpARpNuAOUA=",
                    "dtype": "f8"
                  },
                  "xaxis": "x",
                  "yaxis": "y"
                },
                {
                  "hovertemplate": "topic=Arts<br>gender=female<br>age_mean=%{x}<extra></extra>",
                  "legendgroup": "Arts",
                  "marker": {
                    "color": "#EF553B"
                  },
                  "name": "Arts",
                  "notched": true,
                  "showlegend": false,
                  "type": "box",
                  "x": {
                    "bdata": "lpARpNuAOUA=",
                    "dtype": "f8"
                  },
                  "xaxis": "x3",
                  "yaxis": "y3"
                },
                {
                  "bingroup": "x",
                  "hovertemplate": "topic=Arts<br>gender=male<br>age_mean=%{x}<br>count=%{y}<extra></extra>",
                  "legendgroup": "Arts",
                  "marker": {
                    "color": "#EF553B",
                    "pattern": {
                      "shape": ""
                    }
                  },
                  "name": "Arts",
                  "nbinsx": 10,
                  "orientation": "v",
                  "showlegend": false,
                  "type": "histogram",
                  "x": {
                    "bdata": "faqQh5ecOEA=",
                    "dtype": "f8"
                  },
                  "xaxis": "x2",
                  "yaxis": "y2"
                },
                {
                  "hovertemplate": "topic=Arts<br>gender=male<br>age_mean=%{x}<extra></extra>",
                  "legendgroup": "Arts",
                  "marker": {
                    "color": "#EF553B"
                  },
                  "name": "Arts",
                  "notched": true,
                  "showlegend": false,
                  "type": "box",
                  "x": {
                    "bdata": "faqQh5ecOEA=",
                    "dtype": "f8"
                  },
                  "xaxis": "x4",
                  "yaxis": "y4"
                },
                {
                  "bingroup": "x",
                  "hovertemplate": "topic=Architecture<br>gender=female<br>age_mean=%{x}<br>count=%{y}<extra></extra>",
                  "legendgroup": "Architecture",
                  "marker": {
                    "color": "#00cc96",
                    "pattern": {
                      "shape": ""
                    }
                  },
                  "name": "Architecture",
                  "nbinsx": 10,
                  "orientation": "v",
                  "showlegend": true,
                  "type": "histogram",
                  "x": {
                    "bdata": "SE0w3soOO0A=",
                    "dtype": "f8"
                  },
                  "xaxis": "x",
                  "yaxis": "y"
                },
                {
                  "hovertemplate": "topic=Architecture<br>gender=female<br>age_mean=%{x}<extra></extra>",
                  "legendgroup": "Architecture",
                  "marker": {
                    "color": "#00cc96"
                  },
                  "name": "Architecture",
                  "notched": true,
                  "showlegend": false,
                  "type": "box",
                  "x": {
                    "bdata": "SE0w3soOO0A=",
                    "dtype": "f8"
                  },
                  "xaxis": "x3",
                  "yaxis": "y3"
                },
                {
                  "bingroup": "x",
                  "hovertemplate": "topic=Architecture<br>gender=male<br>age_mean=%{x}<br>count=%{y}<extra></extra>",
                  "legendgroup": "Architecture",
                  "marker": {
                    "color": "#00cc96",
                    "pattern": {
                      "shape": ""
                    }
                  },
                  "name": "Architecture",
                  "nbinsx": 10,
                  "orientation": "v",
                  "showlegend": false,
                  "type": "histogram",
                  "x": {
                    "bdata": "smcgKh1ZOkA=",
                    "dtype": "f8"
                  },
                  "xaxis": "x2",
                  "yaxis": "y2"
                },
                {
                  "hovertemplate": "topic=Architecture<br>gender=male<br>age_mean=%{x}<extra></extra>",
                  "legendgroup": "Architecture",
                  "marker": {
                    "color": "#00cc96"
                  },
                  "name": "Architecture",
                  "notched": true,
                  "showlegend": false,
                  "type": "box",
                  "x": {
                    "bdata": "smcgKh1ZOkA=",
                    "dtype": "f8"
                  },
                  "xaxis": "x4",
                  "yaxis": "y4"
                },
                {
                  "bingroup": "x",
                  "hovertemplate": "topic=Manufacturing<br>gender=female<br>age_mean=%{x}<br>count=%{y}<extra></extra>",
                  "legendgroup": "Manufacturing",
                  "marker": {
                    "color": "#ab63fa",
                    "pattern": {
                      "shape": ""
                    }
                  },
                  "name": "Manufacturing",
                  "nbinsx": 10,
                  "orientation": "v",
                  "showlegend": true,
                  "type": "histogram",
                  "x": {
                    "bdata": "6PLpvzX8PEA=",
                    "dtype": "f8"
                  },
                  "xaxis": "x",
                  "yaxis": "y"
                },
                {
                  "hovertemplate": "topic=Manufacturing<br>gender=female<br>age_mean=%{x}<extra></extra>",
                  "legendgroup": "Manufacturing",
                  "marker": {
                    "color": "#ab63fa"
                  },
                  "name": "Manufacturing",
                  "notched": true,
                  "showlegend": false,
                  "type": "box",
                  "x": {
                    "bdata": "6PLpvzX8PEA=",
                    "dtype": "f8"
                  },
                  "xaxis": "x3",
                  "yaxis": "y3"
                },
                {
                  "bingroup": "x",
                  "hovertemplate": "topic=Manufacturing<br>gender=male<br>age_mean=%{x}<br>count=%{y}<extra></extra>",
                  "legendgroup": "Manufacturing",
                  "marker": {
                    "color": "#ab63fa",
                    "pattern": {
                      "shape": ""
                    }
                  },
                  "name": "Manufacturing",
                  "nbinsx": 10,
                  "orientation": "v",
                  "showlegend": false,
                  "type": "histogram",
                  "x": {
                    "bdata": "nYa86jZ4PEA=",
                    "dtype": "f8"
                  },
                  "xaxis": "x2",
                  "yaxis": "y2"
                },
                {
                  "hovertemplate": "topic=Manufacturing<br>gender=male<br>age_mean=%{x}<extra></extra>",
                  "legendgroup": "Manufacturing",
                  "marker": {
                    "color": "#ab63fa"
                  },
                  "name": "Manufacturing",
                  "notched": true,
                  "showlegend": false,
                  "type": "box",
                  "x": {
                    "bdata": "nYa86jZ4PEA=",
                    "dtype": "f8"
                  },
                  "xaxis": "x4",
                  "yaxis": "y4"
                },
                {
                  "bingroup": "x",
                  "hovertemplate": "topic=Environment<br>gender=female<br>age_mean=%{x}<br>count=%{y}<extra></extra>",
                  "legendgroup": "Environment",
                  "marker": {
                    "color": "#FFA15A",
                    "pattern": {
                      "shape": ""
                    }
                  },
                  "name": "Environment",
                  "nbinsx": 10,
                  "orientation": "v",
                  "showlegend": true,
                  "type": "histogram",
                  "x": {
                    "bdata": "exSuR+H6N0A=",
                    "dtype": "f8"
                  },
                  "xaxis": "x",
                  "yaxis": "y"
                },
                {
                  "hovertemplate": "topic=Environment<br>gender=female<br>age_mean=%{x}<extra></extra>",
                  "legendgroup": "Environment",
                  "marker": {
                    "color": "#FFA15A"
                  },
                  "name": "Environment",
                  "notched": true,
                  "showlegend": false,
                  "type": "box",
                  "x": {
                    "bdata": "exSuR+H6N0A=",
                    "dtype": "f8"
                  },
                  "xaxis": "x3",
                  "yaxis": "y3"
                },
                {
                  "bingroup": "x",
                  "hovertemplate": "topic=Environment<br>gender=male<br>age_mean=%{x}<br>count=%{y}<extra></extra>",
                  "legendgroup": "Environment",
                  "marker": {
                    "color": "#FFA15A",
                    "pattern": {
                      "shape": ""
                    }
                  },
                  "name": "Environment",
                  "nbinsx": 10,
                  "orientation": "v",
                  "showlegend": false,
                  "type": "histogram",
                  "x": {
                    "bdata": "1ofG+tDYNkA=",
                    "dtype": "f8"
                  },
                  "xaxis": "x2",
                  "yaxis": "y2"
                },
                {
                  "hovertemplate": "topic=Environment<br>gender=male<br>age_mean=%{x}<extra></extra>",
                  "legendgroup": "Environment",
                  "marker": {
                    "color": "#FFA15A"
                  },
                  "name": "Environment",
                  "notched": true,
                  "showlegend": false,
                  "type": "box",
                  "x": {
                    "bdata": "1ofG+tDYNkA=",
                    "dtype": "f8"
                  },
                  "xaxis": "x4",
                  "yaxis": "y4"
                },
                {
                  "bingroup": "x",
                  "hovertemplate": "topic=Technology<br>gender=female<br>age_mean=%{x}<br>count=%{y}<extra></extra>",
                  "legendgroup": "Technology",
                  "marker": {
                    "color": "#19d3f3",
                    "pattern": {
                      "shape": ""
                    }
                  },
                  "name": "Technology",
                  "nbinsx": 10,
                  "orientation": "v",
                  "showlegend": true,
                  "type": "histogram",
                  "x": {
                    "bdata": "2GoLgrzwPUA=",
                    "dtype": "f8"
                  },
                  "xaxis": "x",
                  "yaxis": "y"
                },
                {
                  "hovertemplate": "topic=Technology<br>gender=female<br>age_mean=%{x}<extra></extra>",
                  "legendgroup": "Technology",
                  "marker": {
                    "color": "#19d3f3"
                  },
                  "name": "Technology",
                  "notched": true,
                  "showlegend": false,
                  "type": "box",
                  "x": {
                    "bdata": "2GoLgrzwPUA=",
                    "dtype": "f8"
                  },
                  "xaxis": "x3",
                  "yaxis": "y3"
                },
                {
                  "bingroup": "x",
                  "hovertemplate": "topic=Technology<br>gender=male<br>age_mean=%{x}<br>count=%{y}<extra></extra>",
                  "legendgroup": "Technology",
                  "marker": {
                    "color": "#19d3f3",
                    "pattern": {
                      "shape": ""
                    }
                  },
                  "name": "Technology",
                  "nbinsx": 10,
                  "orientation": "v",
                  "showlegend": false,
                  "type": "histogram",
                  "x": {
                    "bdata": "JFWB86NbOkA=",
                    "dtype": "f8"
                  },
                  "xaxis": "x2",
                  "yaxis": "y2"
                },
                {
                  "hovertemplate": "topic=Technology<br>gender=male<br>age_mean=%{x}<extra></extra>",
                  "legendgroup": "Technology",
                  "marker": {
                    "color": "#19d3f3"
                  },
                  "name": "Technology",
                  "notched": true,
                  "showlegend": false,
                  "type": "box",
                  "x": {
                    "bdata": "JFWB86NbOkA=",
                    "dtype": "f8"
                  },
                  "xaxis": "x4",
                  "yaxis": "y4"
                },
                {
                  "bingroup": "x",
                  "hovertemplate": "topic=Military<br>gender=female<br>age_mean=%{x}<br>count=%{y}<extra></extra>",
                  "legendgroup": "Military",
                  "marker": {
                    "color": "#FF6692",
                    "pattern": {
                      "shape": ""
                    }
                  },
                  "name": "Military",
                  "nbinsx": 10,
                  "orientation": "v",
                  "showlegend": true,
                  "type": "histogram",
                  "x": {
                    "bdata": "sRgJpY23N0A=",
                    "dtype": "f8"
                  },
                  "xaxis": "x",
                  "yaxis": "y"
                },
                {
                  "hovertemplate": "topic=Military<br>gender=female<br>age_mean=%{x}<extra></extra>",
                  "legendgroup": "Military",
                  "marker": {
                    "color": "#FF6692"
                  },
                  "name": "Military",
                  "notched": true,
                  "showlegend": false,
                  "type": "box",
                  "x": {
                    "bdata": "sRgJpY23N0A=",
                    "dtype": "f8"
                  },
                  "xaxis": "x3",
                  "yaxis": "y3"
                },
                {
                  "bingroup": "x",
                  "hovertemplate": "topic=Military<br>gender=male<br>age_mean=%{x}<br>count=%{y}<extra></extra>",
                  "legendgroup": "Military",
                  "marker": {
                    "color": "#FF6692",
                    "pattern": {
                      "shape": ""
                    }
                  },
                  "name": "Military",
                  "nbinsx": 10,
                  "orientation": "v",
                  "showlegend": false,
                  "type": "histogram",
                  "x": {
                    "bdata": "YhmWYRnWOkA=",
                    "dtype": "f8"
                  },
                  "xaxis": "x2",
                  "yaxis": "y2"
                },
                {
                  "hovertemplate": "topic=Military<br>gender=male<br>age_mean=%{x}<extra></extra>",
                  "legendgroup": "Military",
                  "marker": {
                    "color": "#FF6692"
                  },
                  "name": "Military",
                  "notched": true,
                  "showlegend": false,
                  "type": "box",
                  "x": {
                    "bdata": "YhmWYRnWOkA=",
                    "dtype": "f8"
                  },
                  "xaxis": "x4",
                  "yaxis": "y4"
                },
                {
                  "bingroup": "x",
                  "hovertemplate": "topic=Non-Profit<br>gender=female<br>age_mean=%{x}<br>count=%{y}<extra></extra>",
                  "legendgroup": "Non-Profit",
                  "marker": {
                    "color": "#B6E880",
                    "pattern": {
                      "shape": ""
                    }
                  },
                  "name": "Non-Profit",
                  "nbinsx": 10,
                  "orientation": "v",
                  "showlegend": true,
                  "type": "histogram",
                  "x": {
                    "bdata": "sFjT1+yxOEA=",
                    "dtype": "f8"
                  },
                  "xaxis": "x",
                  "yaxis": "y"
                },
                {
                  "hovertemplate": "topic=Non-Profit<br>gender=female<br>age_mean=%{x}<extra></extra>",
                  "legendgroup": "Non-Profit",
                  "marker": {
                    "color": "#B6E880"
                  },
                  "name": "Non-Profit",
                  "notched": true,
                  "showlegend": false,
                  "type": "box",
                  "x": {
                    "bdata": "sFjT1+yxOEA=",
                    "dtype": "f8"
                  },
                  "xaxis": "x3",
                  "yaxis": "y3"
                },
                {
                  "bingroup": "x",
                  "hovertemplate": "topic=Non-Profit<br>gender=male<br>age_mean=%{x}<br>count=%{y}<extra></extra>",
                  "legendgroup": "Non-Profit",
                  "marker": {
                    "color": "#B6E880",
                    "pattern": {
                      "shape": ""
                    }
                  },
                  "name": "Non-Profit",
                  "nbinsx": 10,
                  "orientation": "v",
                  "showlegend": false,
                  "type": "histogram",
                  "x": {
                    "bdata": "G2z7utvwNEA=",
                    "dtype": "f8"
                  },
                  "xaxis": "x2",
                  "yaxis": "y2"
                },
                {
                  "hovertemplate": "topic=Non-Profit<br>gender=male<br>age_mean=%{x}<extra></extra>",
                  "legendgroup": "Non-Profit",
                  "marker": {
                    "color": "#B6E880"
                  },
                  "name": "Non-Profit",
                  "notched": true,
                  "showlegend": false,
                  "type": "box",
                  "x": {
                    "bdata": "G2z7utvwNEA=",
                    "dtype": "f8"
                  },
                  "xaxis": "x4",
                  "yaxis": "y4"
                },
                {
                  "bingroup": "x",
                  "hovertemplate": "topic=Banking<br>gender=female<br>age_mean=%{x}<br>count=%{y}<extra></extra>",
                  "legendgroup": "Banking",
                  "marker": {
                    "color": "#FF97FF",
                    "pattern": {
                      "shape": ""
                    }
                  },
                  "name": "Banking",
                  "nbinsx": 10,
                  "orientation": "v",
                  "showlegend": true,
                  "type": "histogram",
                  "x": {
                    "bdata": "LINSYeJ9O0A=",
                    "dtype": "f8"
                  },
                  "xaxis": "x",
                  "yaxis": "y"
                },
                {
                  "hovertemplate": "topic=Banking<br>gender=female<br>age_mean=%{x}<extra></extra>",
                  "legendgroup": "Banking",
                  "marker": {
                    "color": "#FF97FF"
                  },
                  "name": "Banking",
                  "notched": true,
                  "showlegend": false,
                  "type": "box",
                  "x": {
                    "bdata": "LINSYeJ9O0A=",
                    "dtype": "f8"
                  },
                  "xaxis": "x3",
                  "yaxis": "y3"
                },
                {
                  "bingroup": "x",
                  "hovertemplate": "topic=Banking<br>gender=male<br>age_mean=%{x}<br>count=%{y}<extra></extra>",
                  "legendgroup": "Banking",
                  "marker": {
                    "color": "#FF97FF",
                    "pattern": {
                      "shape": ""
                    }
                  },
                  "name": "Banking",
                  "nbinsx": 10,
                  "orientation": "v",
                  "showlegend": false,
                  "type": "histogram",
                  "x": {
                    "bdata": "fp56CIYVOUA=",
                    "dtype": "f8"
                  },
                  "xaxis": "x2",
                  "yaxis": "y2"
                },
                {
                  "hovertemplate": "topic=Banking<br>gender=male<br>age_mean=%{x}<extra></extra>",
                  "legendgroup": "Banking",
                  "marker": {
                    "color": "#FF97FF"
                  },
                  "name": "Banking",
                  "notched": true,
                  "showlegend": false,
                  "type": "box",
                  "x": {
                    "bdata": "fp56CIYVOUA=",
                    "dtype": "f8"
                  },
                  "xaxis": "x4",
                  "yaxis": "y4"
                },
                {
                  "bingroup": "x",
                  "hovertemplate": "topic=Fashion<br>gender=female<br>age_mean=%{x}<br>count=%{y}<extra></extra>",
                  "legendgroup": "Fashion",
                  "marker": {
                    "color": "#FECB52",
                    "pattern": {
                      "shape": ""
                    }
                  },
                  "name": "Fashion",
                  "nbinsx": 10,
                  "orientation": "v",
                  "showlegend": true,
                  "type": "histogram",
                  "x": {
                    "bdata": "GrTseE4lOkA=",
                    "dtype": "f8"
                  },
                  "xaxis": "x",
                  "yaxis": "y"
                },
                {
                  "hovertemplate": "topic=Fashion<br>gender=female<br>age_mean=%{x}<extra></extra>",
                  "legendgroup": "Fashion",
                  "marker": {
                    "color": "#FECB52"
                  },
                  "name": "Fashion",
                  "notched": true,
                  "showlegend": false,
                  "type": "box",
                  "x": {
                    "bdata": "GrTseE4lOkA=",
                    "dtype": "f8"
                  },
                  "xaxis": "x3",
                  "yaxis": "y3"
                },
                {
                  "bingroup": "x",
                  "hovertemplate": "topic=Fashion<br>gender=male<br>age_mean=%{x}<br>count=%{y}<extra></extra>",
                  "legendgroup": "Fashion",
                  "marker": {
                    "color": "#FECB52",
                    "pattern": {
                      "shape": ""
                    }
                  },
                  "name": "Fashion",
                  "nbinsx": 10,
                  "orientation": "v",
                  "showlegend": false,
                  "type": "histogram",
                  "x": {
                    "bdata": "rikxeU7TQEA=",
                    "dtype": "f8"
                  },
                  "xaxis": "x2",
                  "yaxis": "y2"
                },
                {
                  "hovertemplate": "topic=Fashion<br>gender=male<br>age_mean=%{x}<extra></extra>",
                  "legendgroup": "Fashion",
                  "marker": {
                    "color": "#FECB52"
                  },
                  "name": "Fashion",
                  "notched": true,
                  "showlegend": false,
                  "type": "box",
                  "x": {
                    "bdata": "rikxeU7TQEA=",
                    "dtype": "f8"
                  },
                  "xaxis": "x4",
                  "yaxis": "y4"
                }
              ],
              "layout": {
                "annotations": [
                  {
                    "font": {},
                    "showarrow": false,
                    "text": "gender=female",
                    "x": 0.245,
                    "xanchor": "center",
                    "xref": "paper",
                    "y": 1,
                    "yanchor": "bottom",
                    "yref": "paper"
                  },
                  {
                    "font": {},
                    "showarrow": false,
                    "text": "gender=male",
                    "x": 0.755,
                    "xanchor": "center",
                    "xref": "paper",
                    "y": 1,
                    "yanchor": "bottom",
                    "yref": "paper"
                  }
                ],
                "barmode": "relative",
                "legend": {
                  "title": {
                    "text": "topic"
                  },
                  "tracegroupgap": 0
                },
                "margin": {
                  "t": 60
                },
                "template": {
                  "data": {
                    "bar": [
                      {
                        "error_x": {
                          "color": "#2a3f5f"
                        },
                        "error_y": {
                          "color": "#2a3f5f"
                        },
                        "marker": {
                          "line": {
                            "color": "#E5ECF6",
                            "width": 0.5
                          },
                          "pattern": {
                            "fillmode": "overlay",
                            "size": 10,
                            "solidity": 0.2
                          }
                        },
                        "type": "bar"
                      }
                    ],
                    "barpolar": [
                      {
                        "marker": {
                          "line": {
                            "color": "#E5ECF6",
                            "width": 0.5
                          },
                          "pattern": {
                            "fillmode": "overlay",
                            "size": 10,
                            "solidity": 0.2
                          }
                        },
                        "type": "barpolar"
                      }
                    ],
                    "carpet": [
                      {
                        "aaxis": {
                          "endlinecolor": "#2a3f5f",
                          "gridcolor": "white",
                          "linecolor": "white",
                          "minorgridcolor": "white",
                          "startlinecolor": "#2a3f5f"
                        },
                        "baxis": {
                          "endlinecolor": "#2a3f5f",
                          "gridcolor": "white",
                          "linecolor": "white",
                          "minorgridcolor": "white",
                          "startlinecolor": "#2a3f5f"
                        },
                        "type": "carpet"
                      }
                    ],
                    "choropleth": [
                      {
                        "colorbar": {
                          "outlinewidth": 0,
                          "ticks": ""
                        },
                        "type": "choropleth"
                      }
                    ],
                    "contour": [
                      {
                        "colorbar": {
                          "outlinewidth": 0,
                          "ticks": ""
                        },
                        "colorscale": [
                          [
                            0,
                            "#0d0887"
                          ],
                          [
                            0.1111111111111111,
                            "#46039f"
                          ],
                          [
                            0.2222222222222222,
                            "#7201a8"
                          ],
                          [
                            0.3333333333333333,
                            "#9c179e"
                          ],
                          [
                            0.4444444444444444,
                            "#bd3786"
                          ],
                          [
                            0.5555555555555556,
                            "#d8576b"
                          ],
                          [
                            0.6666666666666666,
                            "#ed7953"
                          ],
                          [
                            0.7777777777777778,
                            "#fb9f3a"
                          ],
                          [
                            0.8888888888888888,
                            "#fdca26"
                          ],
                          [
                            1,
                            "#f0f921"
                          ]
                        ],
                        "type": "contour"
                      }
                    ],
                    "contourcarpet": [
                      {
                        "colorbar": {
                          "outlinewidth": 0,
                          "ticks": ""
                        },
                        "type": "contourcarpet"
                      }
                    ],
                    "heatmap": [
                      {
                        "colorbar": {
                          "outlinewidth": 0,
                          "ticks": ""
                        },
                        "colorscale": [
                          [
                            0,
                            "#0d0887"
                          ],
                          [
                            0.1111111111111111,
                            "#46039f"
                          ],
                          [
                            0.2222222222222222,
                            "#7201a8"
                          ],
                          [
                            0.3333333333333333,
                            "#9c179e"
                          ],
                          [
                            0.4444444444444444,
                            "#bd3786"
                          ],
                          [
                            0.5555555555555556,
                            "#d8576b"
                          ],
                          [
                            0.6666666666666666,
                            "#ed7953"
                          ],
                          [
                            0.7777777777777778,
                            "#fb9f3a"
                          ],
                          [
                            0.8888888888888888,
                            "#fdca26"
                          ],
                          [
                            1,
                            "#f0f921"
                          ]
                        ],
                        "type": "heatmap"
                      }
                    ],
                    "histogram": [
                      {
                        "marker": {
                          "pattern": {
                            "fillmode": "overlay",
                            "size": 10,
                            "solidity": 0.2
                          }
                        },
                        "type": "histogram"
                      }
                    ],
                    "histogram2d": [
                      {
                        "colorbar": {
                          "outlinewidth": 0,
                          "ticks": ""
                        },
                        "colorscale": [
                          [
                            0,
                            "#0d0887"
                          ],
                          [
                            0.1111111111111111,
                            "#46039f"
                          ],
                          [
                            0.2222222222222222,
                            "#7201a8"
                          ],
                          [
                            0.3333333333333333,
                            "#9c179e"
                          ],
                          [
                            0.4444444444444444,
                            "#bd3786"
                          ],
                          [
                            0.5555555555555556,
                            "#d8576b"
                          ],
                          [
                            0.6666666666666666,
                            "#ed7953"
                          ],
                          [
                            0.7777777777777778,
                            "#fb9f3a"
                          ],
                          [
                            0.8888888888888888,
                            "#fdca26"
                          ],
                          [
                            1,
                            "#f0f921"
                          ]
                        ],
                        "type": "histogram2d"
                      }
                    ],
                    "histogram2dcontour": [
                      {
                        "colorbar": {
                          "outlinewidth": 0,
                          "ticks": ""
                        },
                        "colorscale": [
                          [
                            0,
                            "#0d0887"
                          ],
                          [
                            0.1111111111111111,
                            "#46039f"
                          ],
                          [
                            0.2222222222222222,
                            "#7201a8"
                          ],
                          [
                            0.3333333333333333,
                            "#9c179e"
                          ],
                          [
                            0.4444444444444444,
                            "#bd3786"
                          ],
                          [
                            0.5555555555555556,
                            "#d8576b"
                          ],
                          [
                            0.6666666666666666,
                            "#ed7953"
                          ],
                          [
                            0.7777777777777778,
                            "#fb9f3a"
                          ],
                          [
                            0.8888888888888888,
                            "#fdca26"
                          ],
                          [
                            1,
                            "#f0f921"
                          ]
                        ],
                        "type": "histogram2dcontour"
                      }
                    ],
                    "mesh3d": [
                      {
                        "colorbar": {
                          "outlinewidth": 0,
                          "ticks": ""
                        },
                        "type": "mesh3d"
                      }
                    ],
                    "parcoords": [
                      {
                        "line": {
                          "colorbar": {
                            "outlinewidth": 0,
                            "ticks": ""
                          }
                        },
                        "type": "parcoords"
                      }
                    ],
                    "pie": [
                      {
                        "automargin": true,
                        "type": "pie"
                      }
                    ],
                    "scatter": [
                      {
                        "fillpattern": {
                          "fillmode": "overlay",
                          "size": 10,
                          "solidity": 0.2
                        },
                        "type": "scatter"
                      }
                    ],
                    "scatter3d": [
                      {
                        "line": {
                          "colorbar": {
                            "outlinewidth": 0,
                            "ticks": ""
                          }
                        },
                        "marker": {
                          "colorbar": {
                            "outlinewidth": 0,
                            "ticks": ""
                          }
                        },
                        "type": "scatter3d"
                      }
                    ],
                    "scattercarpet": [
                      {
                        "marker": {
                          "colorbar": {
                            "outlinewidth": 0,
                            "ticks": ""
                          }
                        },
                        "type": "scattercarpet"
                      }
                    ],
                    "scattergeo": [
                      {
                        "marker": {
                          "colorbar": {
                            "outlinewidth": 0,
                            "ticks": ""
                          }
                        },
                        "type": "scattergeo"
                      }
                    ],
                    "scattergl": [
                      {
                        "marker": {
                          "colorbar": {
                            "outlinewidth": 0,
                            "ticks": ""
                          }
                        },
                        "type": "scattergl"
                      }
                    ],
                    "scattermap": [
                      {
                        "marker": {
                          "colorbar": {
                            "outlinewidth": 0,
                            "ticks": ""
                          }
                        },
                        "type": "scattermap"
                      }
                    ],
                    "scattermapbox": [
                      {
                        "marker": {
                          "colorbar": {
                            "outlinewidth": 0,
                            "ticks": ""
                          }
                        },
                        "type": "scattermapbox"
                      }
                    ],
                    "scatterpolar": [
                      {
                        "marker": {
                          "colorbar": {
                            "outlinewidth": 0,
                            "ticks": ""
                          }
                        },
                        "type": "scatterpolar"
                      }
                    ],
                    "scatterpolargl": [
                      {
                        "marker": {
                          "colorbar": {
                            "outlinewidth": 0,
                            "ticks": ""
                          }
                        },
                        "type": "scatterpolargl"
                      }
                    ],
                    "scatterternary": [
                      {
                        "marker": {
                          "colorbar": {
                            "outlinewidth": 0,
                            "ticks": ""
                          }
                        },
                        "type": "scatterternary"
                      }
                    ],
                    "surface": [
                      {
                        "colorbar": {
                          "outlinewidth": 0,
                          "ticks": ""
                        },
                        "colorscale": [
                          [
                            0,
                            "#0d0887"
                          ],
                          [
                            0.1111111111111111,
                            "#46039f"
                          ],
                          [
                            0.2222222222222222,
                            "#7201a8"
                          ],
                          [
                            0.3333333333333333,
                            "#9c179e"
                          ],
                          [
                            0.4444444444444444,
                            "#bd3786"
                          ],
                          [
                            0.5555555555555556,
                            "#d8576b"
                          ],
                          [
                            0.6666666666666666,
                            "#ed7953"
                          ],
                          [
                            0.7777777777777778,
                            "#fb9f3a"
                          ],
                          [
                            0.8888888888888888,
                            "#fdca26"
                          ],
                          [
                            1,
                            "#f0f921"
                          ]
                        ],
                        "type": "surface"
                      }
                    ],
                    "table": [
                      {
                        "cells": {
                          "fill": {
                            "color": "#EBF0F8"
                          },
                          "line": {
                            "color": "white"
                          }
                        },
                        "header": {
                          "fill": {
                            "color": "#C8D4E3"
                          },
                          "line": {
                            "color": "white"
                          }
                        },
                        "type": "table"
                      }
                    ]
                  },
                  "layout": {
                    "annotationdefaults": {
                      "arrowcolor": "#2a3f5f",
                      "arrowhead": 0,
                      "arrowwidth": 1
                    },
                    "autotypenumbers": "strict",
                    "coloraxis": {
                      "colorbar": {
                        "outlinewidth": 0,
                        "ticks": ""
                      }
                    },
                    "colorscale": {
                      "diverging": [
                        [
                          0,
                          "#8e0152"
                        ],
                        [
                          0.1,
                          "#c51b7d"
                        ],
                        [
                          0.2,
                          "#de77ae"
                        ],
                        [
                          0.3,
                          "#f1b6da"
                        ],
                        [
                          0.4,
                          "#fde0ef"
                        ],
                        [
                          0.5,
                          "#f7f7f7"
                        ],
                        [
                          0.6,
                          "#e6f5d0"
                        ],
                        [
                          0.7,
                          "#b8e186"
                        ],
                        [
                          0.8,
                          "#7fbc41"
                        ],
                        [
                          0.9,
                          "#4d9221"
                        ],
                        [
                          1,
                          "#276419"
                        ]
                      ],
                      "sequential": [
                        [
                          0,
                          "#0d0887"
                        ],
                        [
                          0.1111111111111111,
                          "#46039f"
                        ],
                        [
                          0.2222222222222222,
                          "#7201a8"
                        ],
                        [
                          0.3333333333333333,
                          "#9c179e"
                        ],
                        [
                          0.4444444444444444,
                          "#bd3786"
                        ],
                        [
                          0.5555555555555556,
                          "#d8576b"
                        ],
                        [
                          0.6666666666666666,
                          "#ed7953"
                        ],
                        [
                          0.7777777777777778,
                          "#fb9f3a"
                        ],
                        [
                          0.8888888888888888,
                          "#fdca26"
                        ],
                        [
                          1,
                          "#f0f921"
                        ]
                      ],
                      "sequentialminus": [
                        [
                          0,
                          "#0d0887"
                        ],
                        [
                          0.1111111111111111,
                          "#46039f"
                        ],
                        [
                          0.2222222222222222,
                          "#7201a8"
                        ],
                        [
                          0.3333333333333333,
                          "#9c179e"
                        ],
                        [
                          0.4444444444444444,
                          "#bd3786"
                        ],
                        [
                          0.5555555555555556,
                          "#d8576b"
                        ],
                        [
                          0.6666666666666666,
                          "#ed7953"
                        ],
                        [
                          0.7777777777777778,
                          "#fb9f3a"
                        ],
                        [
                          0.8888888888888888,
                          "#fdca26"
                        ],
                        [
                          1,
                          "#f0f921"
                        ]
                      ]
                    },
                    "colorway": [
                      "#636efa",
                      "#EF553B",
                      "#00cc96",
                      "#ab63fa",
                      "#FFA15A",
                      "#19d3f3",
                      "#FF6692",
                      "#B6E880",
                      "#FF97FF",
                      "#FECB52"
                    ],
                    "font": {
                      "color": "#2a3f5f"
                    },
                    "geo": {
                      "bgcolor": "white",
                      "lakecolor": "white",
                      "landcolor": "#E5ECF6",
                      "showlakes": true,
                      "showland": true,
                      "subunitcolor": "white"
                    },
                    "hoverlabel": {
                      "align": "left"
                    },
                    "hovermode": "closest",
                    "mapbox": {
                      "style": "light"
                    },
                    "paper_bgcolor": "white",
                    "plot_bgcolor": "#E5ECF6",
                    "polar": {
                      "angularaxis": {
                        "gridcolor": "white",
                        "linecolor": "white",
                        "ticks": ""
                      },
                      "bgcolor": "#E5ECF6",
                      "radialaxis": {
                        "gridcolor": "white",
                        "linecolor": "white",
                        "ticks": ""
                      }
                    },
                    "scene": {
                      "xaxis": {
                        "backgroundcolor": "#E5ECF6",
                        "gridcolor": "white",
                        "gridwidth": 2,
                        "linecolor": "white",
                        "showbackground": true,
                        "ticks": "",
                        "zerolinecolor": "white"
                      },
                      "yaxis": {
                        "backgroundcolor": "#E5ECF6",
                        "gridcolor": "white",
                        "gridwidth": 2,
                        "linecolor": "white",
                        "showbackground": true,
                        "ticks": "",
                        "zerolinecolor": "white"
                      },
                      "zaxis": {
                        "backgroundcolor": "#E5ECF6",
                        "gridcolor": "white",
                        "gridwidth": 2,
                        "linecolor": "white",
                        "showbackground": true,
                        "ticks": "",
                        "zerolinecolor": "white"
                      }
                    },
                    "shapedefaults": {
                      "line": {
                        "color": "#2a3f5f"
                      }
                    },
                    "ternary": {
                      "aaxis": {
                        "gridcolor": "white",
                        "linecolor": "white",
                        "ticks": ""
                      },
                      "baxis": {
                        "gridcolor": "white",
                        "linecolor": "white",
                        "ticks": ""
                      },
                      "bgcolor": "#E5ECF6",
                      "caxis": {
                        "gridcolor": "white",
                        "linecolor": "white",
                        "ticks": ""
                      }
                    },
                    "title": {
                      "x": 0.05
                    },
                    "xaxis": {
                      "automargin": true,
                      "gridcolor": "white",
                      "linecolor": "white",
                      "ticks": "",
                      "title": {
                        "standoff": 15
                      },
                      "zerolinecolor": "white",
                      "zerolinewidth": 2
                    },
                    "yaxis": {
                      "automargin": true,
                      "gridcolor": "white",
                      "linecolor": "white",
                      "ticks": "",
                      "title": {
                        "standoff": 15
                      },
                      "zerolinecolor": "white",
                      "zerolinewidth": 2
                    }
                  }
                },
                "title": {
                  "text": "Age of Bloggers by Topic and Gender"
                },
                "xaxis": {
                  "anchor": "y",
                  "domain": [
                    0,
                    0.49
                  ],
                  "title": {
                    "text": "age_mean"
                  }
                },
                "xaxis2": {
                  "anchor": "y2",
                  "domain": [
                    0.51,
                    1
                  ],
                  "matches": "x",
                  "title": {
                    "text": "age_mean"
                  }
                },
                "xaxis3": {
                  "anchor": "y3",
                  "domain": [
                    0,
                    0.49
                  ],
                  "matches": "x",
                  "showgrid": true,
                  "showticklabels": false
                },
                "xaxis4": {
                  "anchor": "y4",
                  "domain": [
                    0.51,
                    1
                  ],
                  "matches": "x",
                  "showgrid": true,
                  "showticklabels": false
                },
                "yaxis": {
                  "anchor": "x",
                  "domain": [
                    0,
                    0.7326
                  ],
                  "title": {
                    "text": "count"
                  }
                },
                "yaxis2": {
                  "anchor": "x2",
                  "domain": [
                    0,
                    0.7326
                  ],
                  "matches": "y",
                  "showticklabels": false
                },
                "yaxis3": {
                  "anchor": "x3",
                  "domain": [
                    0.7426,
                    1
                  ],
                  "matches": "y3",
                  "showgrid": false,
                  "showline": false,
                  "showticklabels": false,
                  "ticks": ""
                },
                "yaxis4": {
                  "anchor": "x4",
                  "domain": [
                    0.7426,
                    1
                  ],
                  "matches": "y3",
                  "showgrid": false,
                  "showline": false,
                  "showticklabels": false,
                  "ticks": ""
                }
              }
            }
          },
          "metadata": {},
          "output_type": "display_data"
        }
      ],
      "source": [
        "sns.set(style=\"whitegrid\")\n",
        "\n",
        "plt.figure(figsize=(10, 6))\n",
        "sns.stripplot(x='topic', y='age_mean', hue='gender', data=topic_gender.to_pandas_df(), jitter=True, dodge=True, palette='Set2')\n",
        "plt.title('Age of Bloggers by Topic and Gender')\n",
        "plt.show()\n",
        "\n",
        "plt.figure(figsize=(10, 6))\n",
        "sns.stripplot(x='topic', y='age_mean', hue='gender', data=topic_gender.to_pandas_df()[:10], jitter=True, dodge=True, palette='Set2')\n",
        "plt.title('Age of Bloggers by Topic and Gender')\n",
        "plt.show()\n",
        "\n",
        "\n",
        "fig = px.histogram(topic_gender.to_pandas_df(), x='age_mean', color='topic', facet_col='gender', marginal='box', nbins=10)\n",
        "fig.update_layout(title_text='Age of Bloggers by Topic and Gender')\n",
        "fig.show()"
      ]
    },
    {
      "cell_type": "code",
      "execution_count": null,
      "metadata": {},
      "outputs": [],
      "source": []
    }
  ],
  "metadata": {
    "colab": {
      "provenance": []
    },
    "kernelspec": {
      "display_name": "kubesim",
      "language": "python",
      "name": "python3"
    },
    "language_info": {
      "codemirror_mode": {
        "name": "ipython",
        "version": 3
      },
      "file_extension": ".py",
      "mimetype": "text/x-python",
      "name": "python",
      "nbconvert_exporter": "python",
      "pygments_lexer": "ipython3",
      "version": "3.10.13"
    }
  },
  "nbformat": 4,
  "nbformat_minor": 0
}
