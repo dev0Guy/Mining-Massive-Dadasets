{
 "cells": [
  {
   "cell_type": "markdown",
   "metadata": {
    "id": "_fq8BHLiYCyE"
   },
   "source": [
    "# Homework Assignment 1\n",
    "### [The Art of Analyzing Big Data - The Data Scientist’s Toolbox](https://www.ise.bgu.ac.il/labs/fire/lectures.html)\n",
    "#### By Dr. Michael Fire"
   ]
  },
  {
   "cell_type": "markdown",
   "metadata": {
    "id": "jYvqtKSOYCyG"
   },
   "source": [
    "For this homework you will need to write code that analyzes real-world datasets. The code needs to be written in Python using the [sqlite3](https://docs.python.org/2/library/sqlite3.html) package.\n",
    "\n",
    "**Please note:** You need to answer only the questions that match your ID first digit."
   ]
  },
  {
   "cell_type": "markdown",
   "metadata": {
    "id": "Dp0ttBqVvbKR"
   },
   "source": [
    "## Install Dependecies"
   ]
  },
  {
   "cell_type": "code",
   "execution_count": null,
   "metadata": {
    "colab": {
     "base_uri": "https://localhost:8080/"
    },
    "id": "RhG2TMJkvdeX",
    "outputId": "73b321df-5e90-40f3-af07-be9cc4ad9e6e"
   },
   "outputs": [
    {
     "ename": "",
     "evalue": "",
     "output_type": "error",
     "traceback": [
      "\u001B[1;31mRunning cells with 'Python 3.9.6' requires the ipykernel package.\n",
      "\u001B[1;31mRun the following command to install 'ipykernel' into the Python environment. \n",
      "\u001B[1;31mCommand: '/usr/bin/python3 -m pip install ipykernel -U --user --force-reinstall'"
     ]
    }
   ],
   "source": [
    "!pip install kaggle pony diffusers==0.11.1 transformers scipy ftfy accelerate"
   ]
  },
  {
   "cell_type": "markdown",
   "metadata": {
    "id": "AML-gkV-YCyI"
   },
   "source": [
    "# 1. Babies Names Dataset (35pt)"
   ]
  },
  {
   "cell_type": "code",
   "execution_count": null,
   "metadata": {},
   "outputs": [],
   "source": []
  },
  {
   "cell_type": "markdown",
   "metadata": {
    "id": "9-bRpJ7Fvjdq"
   },
   "source": [
    "### Imports"
   ]
  },
  {
   "cell_type": "code",
   "execution_count": null,
   "metadata": {
    "id": "L_gyJ1x9vjAw"
   },
   "outputs": [],
   "source": [
    "import json\n",
    "import pandas as pd\n",
    "import sqlite3\n",
    "import seaborn as sns\n",
    "from matplotlib import pyplot as plt"
   ]
  },
  {
   "cell_type": "markdown",
   "metadata": {
    "id": "naIQ2HRZvlKI"
   },
   "source": [
    "### Download Dataset"
   ]
  },
  {
   "cell_type": "code",
   "execution_count": null,
   "metadata": {
    "id": "yKWHZ868vhvx"
   },
   "outputs": [],
   "source": [
    "api_token = {\"username\":\"guyarieli\",\"key\":\"\"}\n",
    "!mkdir /root/.kaggle\n",
    "with open('/root/.kaggle/kaggle.json', 'w') as file:\n",
    "  json.dump(api_token, file)\n",
    "!chmod 600 /root/.kaggle/kaggle.json"
   ]
  },
  {
   "cell_type": "code",
   "execution_count": null,
   "metadata": {
    "colab": {
     "base_uri": "https://localhost:8080/"
    },
    "id": "RwbOTw8py8W8",
    "outputId": "878ebb14-db1c-49ea-fb77-db5c3a11b739"
   },
   "outputs": [
    {
     "name": "stdout",
     "output_type": "stream",
     "text": [
      "Archive:  us-baby-names.zip\n",
      "  inflating: NationalNames.csv       \n",
      "  inflating: NationalReadMe.pdf      \n",
      "  inflating: StateNames.csv          \n",
      "  inflating: StateReadMe.pdf         \n",
      "  inflating: database.sqlite         \n",
      "  inflating: hashes.txt              \n"
     ]
    }
   ],
   "source": [
    "# Download csv\n",
    "!kaggle datasets download kaggle/us-baby-names\n",
    "!unzip us-baby-names.zip"
   ]
  },
  {
   "cell_type": "code",
   "execution_count": null,
   "metadata": {
    "id": "-vrdQhaLYCyL"
   },
   "outputs": [],
   "source": [
    "state_names = pd.read_csv(\"StateNames.csv\")\n",
    "db_connect = sqlite3.connect(\"database.sqlite\")\n",
    "cursor_obj = db_connect.cursor()"
   ]
  },
  {
   "cell_type": "markdown",
   "metadata": {
    "id": "jvkBrt7SYCyK"
   },
   "source": [
    "**Task 1 (for everyone):** Write a code that uses the  [**babies names dataset** ](https://www.kaggle.com/kaggle/us-baby-names?select=NationalNames.csv) (use NationalNames.csv) and creates a table named (Names) with the dataset data and the following columns: 'State', 'Gender', 'Name', 'Count' , and 'Year' (5pt)\n",
    "**Bonus:** Load the data using a Batch INSERT SQL Query (2pt)"
   ]
  },
  {
   "cell_type": "code",
   "execution_count": null,
   "metadata": {
    "colab": {
     "base_uri": "https://localhost:8080/"
    },
    "id": "HUXjNi5GzLB_",
    "outputId": "e4f6cc81-d6c6-4663-98d7-b1aa987ab4ba"
   },
   "outputs": [
    {
     "data": {
      "text/plain": [
       "<sqlite3.Cursor at 0x7b8e1ff373c0>"
      ]
     },
     "execution_count": 8,
     "metadata": {},
     "output_type": "execute_result"
    }
   ],
   "source": [
    "cursor_obj.execute(\"\"\"CREATE TABLE IF NOT EXISTS Names(\n",
    "  State TEXT not null,\n",
    "  Gender TEXT not null,\n",
    "  Name TEXT not null,\n",
    "  Count INTEGER not null,\n",
    "  Year INTEGER not null)\"\"\")"
   ]
  },
  {
   "cell_type": "markdown",
   "metadata": {
    "id": "NYAZr76VzUT_"
   },
   "source": [
    "##### Bounos"
   ]
  },
  {
   "cell_type": "code",
   "execution_count": null,
   "metadata": {
    "colab": {
     "base_uri": "https://localhost:8080/"
    },
    "id": "tyEU07OGzUIR",
    "outputId": "be0675cf-5245-40fa-ee32-5c44f15ffc13"
   },
   "outputs": [
    {
     "data": {
      "text/plain": [
       "<sqlite3.Cursor at 0x7b8e1ff373c0>"
      ]
     },
     "execution_count": 9,
     "metadata": {},
     "output_type": "execute_result"
    }
   ],
   "source": [
    "cursor_obj.executemany(\n",
    "    (\"INSERT INTO Names(State, Gender, Name, Count, Year) values (?,?,?,?,?)\"),\n",
    "    state_names[[\"State\", \"Gender\", \"Name\", \"Count\", \"Year\"]].to_numpy()\n",
    ")"
   ]
  },
  {
   "cell_type": "markdown",
   "metadata": {
    "id": "QEbvkQhCYCyP"
   },
   "source": [
    "**Task 2 (for everyone):** Write a query that returns the statistics for the name Mary (5pt). Use the [the timeit package](https://docs.python.org/3/library/timeit.html) to measure the time it takes the query to run (5pt). **Bonus:** [Create an index](https://www.w3schools.com/sql/sql_create_index.asp)  on the _Name_ column and use the [the timeit package](https://docs.python.org/3/library/timeit.html) to measure the time it takes the query to run with the index (5pt)"
   ]
  },
  {
   "cell_type": "code",
   "execution_count": null,
   "metadata": {
    "colab": {
     "base_uri": "https://localhost:8080/"
    },
    "id": "YBCHPAOzYCyR",
    "outputId": "b5418b44-e2a2-4329-da43-cda0e4824fff"
   },
   "outputs": [
    {
     "name": "stdout",
     "output_type": "stream",
     "text": [
      "Total number people named mary that are male: [(9639,)]\n",
      "Total number of people named mary per state: [('AK', 3936), ('AL', 115889), ('AR', 58679), ('AZ', 22752), ('CA', 152533), ('CO', 31586), ('CT', 41659), ('DC', 22390), ('DE', 8407), ('FL', 66280), ('GA', 124895), ('HI', 5776), ('IA', 61742), ('ID', 9894), ('IL', 200359), ('IN', 100727), ('KS', 43053), ('KY', 103433), ('LA', 78575), ('MA', 116272), ('MD', 63880), ('ME', 14579), ('MI', 137387), ('MN', 70695), ('MO', 105655), ('MS', 87101), ('MT', 12889), ('NC', 133604), ('ND', 13036), ('NE', 30060), ('NH', 8451), ('NJ', 90392), ('NM', 23823), ('NV', 3317), ('NY', 277372), ('OH', 201281), ('OK', 55856), ('OR', 19702), ('PA', 292159), ('RI', 16503), ('SC', 83725), ('SD', 14218), ('TN', 105815), ('TX', 210119), ('UT', 13590), ('VA', 96140), ('VT', 7653), ('WA', 34015), ('WI', 83881), ('WV', 58586), ('WY', 6174)]\n",
      "Total number of people named Mary: [(3740495,)]\n",
      "Total number of people named Mary that are female: [(3730856,)]\n",
      "3.54 s ± 0 ns per loop (mean ± std. dev. of 1 run, 1 loop each)\n"
     ]
    }
   ],
   "source": [
    "%%timeit -r 1 -n 1\n",
    "print(\n",
    "    \"Total number people named mary that are male:\",\n",
    "    cursor_obj.execute(\"SELECT SUM(Count) FROM Names where Name=='Mary' AND Gender='M'\"\n",
    "             ).fetchall()\n",
    ")\n",
    "print(\n",
    "    \"Total number of people named mary per state:\",\n",
    "    cursor_obj.execute(\n",
    "        \"SELECT State, SUM(Count) FROM Names where Name=='Mary' GROUP BY State\"\n",
    "    ).fetchall()\n",
    ")\n",
    "print(\n",
    "    \"Total number of people named Mary:\",\n",
    "    cursor_obj.execute(\"SELECT SUM(Count) FROM Names where Name=='Mary'\").fetchall()\n",
    ")\n",
    "print(\"Total number of people named Mary that are female:\",\n",
    "    cursor_obj.execute(\"SELECT SUM(Count) FROM Names where Name=='Mary' AND Gender='F'\"\n",
    "             ).fetchall()\n",
    ")"
   ]
  },
  {
   "cell_type": "markdown",
   "metadata": {
    "id": "f1H8crOQzejj"
   },
   "source": [
    "#### Bonus"
   ]
  },
  {
   "cell_type": "code",
   "execution_count": null,
   "metadata": {
    "colab": {
     "base_uri": "https://localhost:8080/"
    },
    "id": "AGowC2lrzZAe",
    "outputId": "bcc5ea61-be19-4c31-ede3-35a727cd249e"
   },
   "outputs": [
    {
     "name": "stdout",
     "output_type": "stream",
     "text": [
      "5.87 s ± 0 ns per loop (mean ± std. dev. of 1 run, 1 loop each)\n"
     ]
    }
   ],
   "source": [
    "%%timeit -r 1 -n 1\n",
    "cursor_obj.execute(\"DROP INDEX IF EXISTS names_index\")\n",
    "cursor_obj.execute(\"CREATE INDEX IF NOT EXISTS names_index ON Names (name);\")"
   ]
  },
  {
   "cell_type": "code",
   "execution_count": null,
   "metadata": {
    "colab": {
     "base_uri": "https://localhost:8080/"
    },
    "id": "lMouE5MMzj1v",
    "outputId": "1b834f68-c1cb-4af7-f845-4c5b344034a8"
   },
   "outputs": [
    {
     "name": "stdout",
     "output_type": "stream",
     "text": [
      "Total number people named mary that are male: [(9639,)]\n",
      "Total number of people named mary per state: [('AK', 3936), ('AL', 115889), ('AR', 58679), ('AZ', 22752), ('CA', 152533), ('CO', 31586), ('CT', 41659), ('DC', 22390), ('DE', 8407), ('FL', 66280), ('GA', 124895), ('HI', 5776), ('IA', 61742), ('ID', 9894), ('IL', 200359), ('IN', 100727), ('KS', 43053), ('KY', 103433), ('LA', 78575), ('MA', 116272), ('MD', 63880), ('ME', 14579), ('MI', 137387), ('MN', 70695), ('MO', 105655), ('MS', 87101), ('MT', 12889), ('NC', 133604), ('ND', 13036), ('NE', 30060), ('NH', 8451), ('NJ', 90392), ('NM', 23823), ('NV', 3317), ('NY', 277372), ('OH', 201281), ('OK', 55856), ('OR', 19702), ('PA', 292159), ('RI', 16503), ('SC', 83725), ('SD', 14218), ('TN', 105815), ('TX', 210119), ('UT', 13590), ('VA', 96140), ('VT', 7653), ('WA', 34015), ('WI', 83881), ('WV', 58586), ('WY', 6174)]\n",
      "Total number of people named Mary: [(3740495,)]\n",
      "Total number of people named Mary that are female: [(3730856,)]\n",
      "57.9 ms ± 0 ns per loop (mean ± std. dev. of 1 run, 1 loop each)\n"
     ]
    }
   ],
   "source": [
    "%%timeit -r 1 -n 1\n",
    "print(\n",
    "    \"Total number people named mary that are male:\",\n",
    "    cursor_obj.execute(\"SELECT SUM(Count) FROM Names where Name=='Mary' AND Gender='M'\"\n",
    "             ).fetchall()\n",
    ")\n",
    "print(\n",
    "    \"Total number of people named mary per state:\",\n",
    "    cursor_obj.execute(\n",
    "        \"SELECT State, SUM(Count) FROM Names where Name=='Mary' GROUP BY State\"\n",
    "    ).fetchall()\n",
    ")\n",
    "print(\n",
    "    \"Total number of people named Mary:\",\n",
    "    cursor_obj.execute(\"SELECT SUM(Count) FROM Names where Name=='Mary'\").fetchall()\n",
    ")\n",
    "print(\"Total number of people named Mary that are female:\",\n",
    "    cursor_obj.execute(\"SELECT SUM(Count) FROM Names where Name=='Mary' AND Gender='F'\"\n",
    "             ).fetchall()\n",
    ")"
   ]
  },
  {
   "cell_type": "markdown",
   "metadata": {
    "id": "6dClZxXjYCyU"
   },
   "source": [
    "### <span style=\"color:red\"> Please answer only **one** of the following questions according to your ID number (use the formula **Question = <YOUR_ID> mod 4 +1**) </span>"
   ]
  },
  {
   "cell_type": "code",
   "execution_count": null,
   "metadata": {
    "colab": {
     "base_uri": "https://localhost:8080/"
    },
    "id": "iDpqwgwQYCyV",
    "outputId": "e31593e2-01fc-4b91-e74a-9d3aaade140c"
   },
   "outputs": [
    {
     "name": "stdout",
     "output_type": "stream",
     "text": [
      "You need to answer question number 3\n"
     ]
    }
   ],
   "source": [
    "# which question to answer - put your ID number and run the code\n",
    "your_id  = \"\"\n",
    "q = int(your_id) % 4 + 1\n",
    "print(\"You need to answer question number %s\" % q)"
   ]
  },
  {
   "cell_type": "markdown",
   "metadata": {
    "id": "bGU71KQ8YCyZ"
   },
   "source": [
    "***Question 1:*** Write a function that returns how many *female and* male babies were born in a given state in a given year.\n",
    "Use it to calculate the number of babies born in CA in 1985 (10pt)"
   ]
  },
  {
   "cell_type": "code",
   "execution_count": null,
   "metadata": {
    "id": "0RB3GjaaYCya"
   },
   "outputs": [],
   "source": []
  },
  {
   "cell_type": "markdown",
   "metadata": {
    "id": "510Wry5WYCye"
   },
   "source": [
    "***Question 2:*** Write a function that returns how many female babies were born between a given range of years.\n",
    "Use it to calculate how many babies were born between 1850 and 1950  (10pt)"
   ]
  },
  {
   "cell_type": "code",
   "execution_count": null,
   "metadata": {
    "id": "m5wOKWsBYCyf"
   },
   "outputs": [],
   "source": []
  },
  {
   "cell_type": "markdown",
   "metadata": {
    "id": "x721dD1NYCyi"
   },
   "source": [
    "**Question 3:** Write a function that returns the most common female name in a given state. Use it to calculate the most common female name in Texas in 2000 (10pt)"
   ]
  },
  {
   "cell_type": "code",
   "execution_count": null,
   "metadata": {
    "colab": {
     "base_uri": "https://localhost:8080/"
    },
    "id": "h3t_ouDoYCyj",
    "outputId": "cb105542-679a-4aea-b706-aedd436902c0"
   },
   "outputs": [
    {
     "name": "stdout",
     "output_type": "stream",
     "text": [
      "The most common female name in Texas in 2000 is: Emily\n"
     ]
    }
   ],
   "source": [
    "def most_common_female_name(state: str, year: int):\n",
    "    cursor_obj.execute(\"\"\"\n",
    "        SELECT Name FROM Names\n",
    "        WHERE Gender='F' AND State=? AND Year=?\n",
    "        GROUP BY Name\n",
    "        ORDER BY SUM(Count) DESC\n",
    "        LIMIT 1;\n",
    "    \"\"\", (state, year))\n",
    "    result = cursor_obj.fetchone()\n",
    "    if result:\n",
    "        return result[0]\n",
    "\n",
    "most_common_name = most_common_female_name(\"TX\", 2000)\n",
    "print(f\"The most common female name in Texas in 2000 is: {most_common_name}\")"
   ]
  },
  {
   "cell_type": "markdown",
   "metadata": {
    "id": "mRyUoBvhYCyl"
   },
   "source": [
    "**Question 4:** Write a function that returns how many male babies named _William_ where born in a given state in a given year. Use it to find the state in which the highest number of babies _William_ where born in 1950 (10pt)"
   ]
  },
  {
   "cell_type": "code",
   "execution_count": null,
   "metadata": {
    "colab": {
     "base_uri": "https://localhost:8080/"
    },
    "id": "hKsiZWU10LEl",
    "outputId": "51502518-c276-4ffe-eba1-4196b30d9b65"
   },
   "outputs": [
    {
     "name": "stdout",
     "output_type": "stream",
     "text": [
      "The Dataset decades are between: (2010,1910)\n"
     ]
    }
   ],
   "source": []
  },
  {
   "cell_type": "markdown",
   "metadata": {
    "id": "THz0vDHHYCyo"
   },
   "source": [
    "**Question (for everyone):** For the state of WA write code that calculates the fourth most popular female/male names in each decade (10pt). **Bonus**: Visualize it somehow using Matplotlib (5pt)"
   ]
  },
  {
   "cell_type": "code",
   "execution_count": null,
   "metadata": {
    "colab": {
     "base_uri": "https://localhost:8080/"
    },
    "id": "dVRTQGOS_3G9",
    "outputId": "2d42d711-c302-4a6d-dba3-969065917823"
   },
   "outputs": [
    {
     "name": "stdout",
     "output_type": "stream",
     "text": [
      "The Dataset decades are between: (1910,2010)\n",
      "Most used Named in WA in 1910-1919: (1910, 'Margaret', 2399)\n"
     ]
    }
   ],
   "source": [
    "def get_bound_data_set_decade():\n",
    "  max_year = cursor_obj.execute(\"SELECT MAX(Year) FROM Names\").fetchone()[0]\n",
    "  min_year = cursor_obj.execute(\"SELECT MIN(Year) FROM Names\").fetchone()[0]\n",
    "  return  min_year - (min_year % 10), max_year - (max_year % 10)\n",
    "\n",
    "def get_forth_state_name_in_state(gender: str,decade: int, state: str):\n",
    "    cursor_obj.execute(\"\"\"\n",
    "            SELECT Name, SUM(Count)\n",
    "            FROM Names\n",
    "            WHERE State = ? AND Gender = ? AND Year BETWEEN ? AND ?\n",
    "            GROUP BY Name\n",
    "            ORDER BY SUM(Count) DESC\n",
    "            LIMIT 4\n",
    "        \"\"\",\n",
    "        (state, gender, decade, decade + 9)\n",
    "    )\n",
    "    names_in_decade = cursor_obj.fetchall()\n",
    "    return decade, names_in_decade[3][0], names_in_decade[3][1]\n",
    "\n",
    "min_decade, max_decade = get_bound_data_set_decade()\n",
    "print(f\"The Dataset decades are between: ({min_decade},{max_decade})\")\n",
    "print(f\"Most used Named in WA in {min_decade}-{min_decade+9}: {get_forth_state_name_in_state('F',min_decade, 'WA')}\")"
   ]
  },
  {
   "cell_type": "code",
   "execution_count": null,
   "metadata": {
    "colab": {
     "base_uri": "https://localhost:8080/"
    },
    "id": "YseUU_FU60LE",
    "outputId": "4b166df5-fa1e-41e2-f6d0-7c36c39f63f7"
   },
   "outputs": [
    {
     "data": {
      "text/plain": [
       "{'F': [(1910, 'Margaret', 2399),\n",
       "  (1920, 'Margaret', 2550),\n",
       "  (1930, 'Shirley', 2826),\n",
       "  (1940, 'Patricia', 5639),\n",
       "  (1950, 'Patricia', 5963),\n",
       "  (1960, 'Michelle', 3975),\n",
       "  (1970, 'Heather', 4295),\n",
       "  (1980, 'Sarah', 6380),\n",
       "  (1990, 'Sarah', 4574),\n",
       "  (2000, 'Madison', 3593),\n",
       "  (2010, 'Isabella', 1635)],\n",
       " 'M': [(1910, 'James', 2024),\n",
       "  (1920, 'Donald', 3822),\n",
       "  (1930, 'John', 4282),\n",
       "  (1940, 'Richard', 8127),\n",
       "  (1950, 'John', 11410),\n",
       "  (1960, 'Robert', 8962),\n",
       "  (1970, 'David', 7114),\n",
       "  (1980, 'Joshua', 8137),\n",
       "  (1990, 'Tyler', 6072),\n",
       "  (2000, 'Daniel', 3996),\n",
       "  (2010, 'Ethan', 1759)]}"
      ]
     },
     "execution_count": 39,
     "metadata": {},
     "output_type": "execute_result"
    }
   ],
   "source": [
    "def get_gender_by_each_decade(state=\"WA\"):\n",
    "  return {\n",
    "      \"F\": [get_forth_state_name_in_state(\"F\",decade,state) for decade in range(min_decade, max_decade + 10, 10)],\n",
    "      \"M\": [get_forth_state_name_in_state(\"M\",decade,state) for decade in range(min_decade, max_decade + 10, 10)]\n",
    "  }\n",
    "\n",
    "gender_by_each_decade = get_gender_by_each_decade()\n",
    "gender_by_each_decade"
   ]
  },
  {
   "cell_type": "markdown",
   "metadata": {
    "id": "h5MGemWa6iGw"
   },
   "source": [
    "#### Bouns"
   ]
  },
  {
   "cell_type": "code",
   "execution_count": null,
   "metadata": {
    "colab": {
     "base_uri": "https://localhost:8080/",
     "height": 1000
    },
    "id": "iFsXSir71-fs",
    "outputId": "70bb94b7-d4d3-4aa1-8648-eea7508d3c59"
   },
   "outputs": [
    {
     "name": "stderr",
     "output_type": "stream",
     "text": [
      "<ipython-input-50-bfa529b608f4>:12: UserWarning: set_ticklabels() should only be used with a fixed number of ticks, i.e. after set_ticks() or using a FixedLocator.\n",
      "  _ = axes.set_xticklabels(axes.get_xticklabels())\n"
     ]
    },
    {
     "data": {
      "image/png": "[encoded data removed]",
      "text/plain": [
       "<Figure size 700x700 with 1 Axes>"
      ]
     },
     "metadata": {},
     "output_type": "display_data"
    },
    {
     "name": "stderr",
     "output_type": "stream",
     "text": [
      "<ipython-input-50-bfa529b608f4>:12: UserWarning: set_ticklabels() should only be used with a fixed number of ticks, i.e. after set_ticks() or using a FixedLocator.\n",
      "  _ = axes.set_xticklabels(axes.get_xticklabels())\n"
     ]
    },
    {
     "data": {
      "image/png": "[encoded data removed]",
      "text/plain": [
       "<Figure size 700x700 with 1 Axes>"
      ]
     },
     "metadata": {},
     "output_type": "display_data"
    }
   ],
   "source": [
    "def plot_list_of_third_most_popular_in_each_decade(decades: dict, gender: str):\n",
    "  columns=[\"Gender\", \"Decade\", \"Name\",\"Count\"]\n",
    "  data = [\n",
    "      [gender, decade, name, count]\n",
    "      for decade, name, count in decades\n",
    "  ]\n",
    "  df = pd.DataFrame(data,columns=columns).sort_values(\"Decade\")\n",
    "  df[\"xlabel\"] = df[\"Decade\"].astype(str) + \", \" + df[\"Name\"]\n",
    "  grid = sns.FacetGrid(df, col=\"Gender\", height=7)\n",
    "  grid.map(sns.barplot, \"xlabel\", \"Count\", order=df[\"xlabel\"])\n",
    "  for axes in grid.axes.flat:\n",
    "    _ = axes.set_xticklabels(axes.get_xticklabels())\n",
    "  plt.tight_layout()\n",
    "  plt.show()\n",
    "\n",
    "plot_list_of_third_most_popular_in_each_decade(gender_by_each_decade[\"M\"], \"M\")\n",
    "plot_list_of_third_most_popular_in_each_decade(gender_by_each_decade[\"F\"], \"F\")"
   ]
  },
  {
   "cell_type": "markdown",
   "metadata": {
    "id": "gmdQrLL9YCyp"
   },
   "source": [
    "# 2. Flavors of Cacao Dataset (15pt)"
   ]
  },
  {
   "cell_type": "markdown",
   "metadata": {
    "id": "dTpNKH7UYCyq"
   },
   "source": [
    "Using the [Flavors of Cacao](https://www.kaggle.com/rombikuboktaeder/choco-flavors) dataset, answer one of the following questions (according to your ID):"
   ]
  },
  {
   "cell_type": "code",
   "execution_count": null,
   "metadata": {
    "colab": {
     "base_uri": "https://localhost:8080/"
    },
    "id": "acvYTIsA9u7S",
    "outputId": "376d0db9-0f39-4a67-cc0f-66baff804564"
   },
   "outputs": [
    {
     "name": "stdout",
     "output_type": "stream",
     "text": [
      "Dataset URL: https://www.kaggle.com/datasets/rombikuboktaeder/choco-flavors\n",
      "License(s): CC0-1.0\n",
      "choco-flavors.zip: Skipping, found more recently modified local copy (use --force to force download)\n",
      "Archive:  choco-flavors.zip\n",
      "  inflating: flavors_of_cacao.csv    \n"
     ]
    }
   ],
   "source": [
    "!kaggle datasets download rombikuboktaeder/choco-flavors\n",
    "!unzip choco-flavors.zip"
   ]
  },
  {
   "cell_type": "code",
   "execution_count": null,
   "metadata": {
    "id": "GWrhv5LJ-KE_"
   },
   "outputs": [],
   "source": [
    "from ≈import (\n",
    "    Database, Required, Optional, set_sql_debug, commit, select, avg, max, desc,\n",
    "    count,distinct\n",
    ")"
   ]
  },
  {
   "cell_type": "code",
   "execution_count": null,
   "metadata": {
    "id": "j_G_78h4-CSu"
   },
   "outputs": [],
   "source": [
    "flavors_of_cacao = pd.read_csv(\"flavors_of_cacao.csv\").dropna()\n",
    "db = Database()\n",
    "db.bind(\n",
    "    provider='sqlite', filename='/content/flavors-of-cacao.pony.db',\n",
    "    create_db=True\n",
    ")"
   ]
  },
  {
   "cell_type": "code",
   "execution_count": null,
   "metadata": {
    "id": "-l5g83qV-P6z"
   },
   "outputs": [],
   "source": [
    "class ChocoFlavor(db.Entity):\n",
    "  company = Required(str)\n",
    "  specific_bean_origin = Required(str)\n",
    "  ref = Required(int)\n",
    "  review_date = Required(int)\n",
    "  cocoa_percent = Required(float)\n",
    "  company_location = Required(str)\n",
    "  rating = Required(float)\n",
    "  bean_type = Optional(str)\n",
    "  broad_bean_origin = Optional(str)\n",
    "\n",
    "db.generate_mapping(create_tables=True)"
   ]
  },
  {
   "cell_type": "code",
   "execution_count": null,
   "metadata": {
    "colab": {
     "base_uri": "https://localhost:8080/"
    },
    "id": "KhYN9ZdP-Sva",
    "outputId": "1dbb358e-280a-4c5d-8463-0555c09912d0"
   },
   "outputs": [
    {
     "name": "stderr",
     "output_type": "stream",
     "text": [
      "<ipython-input-58-47e4272e9927>:2: FutureWarning: Series.__getitem__ treating keys as positions is deprecated. In a future version, integer keys will always be treated as labels (consistent with DataFrame behavior). To access a value by position, use `ser.iloc[pos]`\n",
      "  ChocoFlavor(company=row[0], specific_bean_origin=row[1],\n",
      "<ipython-input-58-47e4272e9927>:3: FutureWarning: Series.__getitem__ treating keys as positions is deprecated. In a future version, integer keys will always be treated as labels (consistent with DataFrame behavior). To access a value by position, use `ser.iloc[pos]`\n",
      "  ref=row[2], review_date=row[3], cocoa_percent=row[4][:-1],\n",
      "<ipython-input-58-47e4272e9927>:4: FutureWarning: Series.__getitem__ treating keys as positions is deprecated. In a future version, integer keys will always be treated as labels (consistent with DataFrame behavior). To access a value by position, use `ser.iloc[pos]`\n",
      "  company_location=row[5], rating=row[6],\n",
      "<ipython-input-58-47e4272e9927>:5: FutureWarning: Series.__getitem__ treating keys as positions is deprecated. In a future version, integer keys will always be treated as labels (consistent with DataFrame behavior). To access a value by position, use `ser.iloc[pos]`\n",
      "  bean_type=row[7], broad_bean_origin=row[8])\n"
     ]
    }
   ],
   "source": [
    "for idx, row in flavors_of_cacao.iterrows():\n",
    "  ChocoFlavor(company=row[0], specific_bean_origin=row[1],\n",
    "              ref=row[2], review_date=row[3], cocoa_percent=row[4][:-1],\n",
    "              company_location=row[5], rating=row[6],\n",
    "              bean_type=row[7], broad_bean_origin=row[8])\n",
    "commit()"
   ]
  },
  {
   "cell_type": "markdown",
   "metadata": {
    "id": "wbg9gkVtYCyr"
   },
   "source": [
    "**Question 1:** Write a function that returns the number of bars manufactured where the bars' BroadBean Origin is a given country. Use the function to calculate the number of bars where BroadBean Origin is 'Peru' (15pt)"
   ]
  },
  {
   "cell_type": "code",
   "execution_count": null,
   "metadata": {
    "colab": {
     "base_uri": "https://localhost:8080/"
    },
    "id": "D5FWfEiaYCys",
    "outputId": "ef481aba-f691-4df0-85ec-09e68314c146"
   },
   "outputs": [
    {
     "name": "stdout",
     "output_type": "stream",
     "text": [
      "Number of bars where broadBean Origin is 'Peru' 165\n"
     ]
    }
   ],
   "source": [
    "def get_number_of_bards_by_country_origin(country: str):\n",
    "  return (select(c for c in ChocoFlavor if c.broad_bean_origin==country )).count()\n",
    "\n",
    "country = \"Peru\"\n",
    "print(f\"Number of bars where broadBean Origin is '{country}'\",get_number_of_bards_by_country_origin(country))"
   ]
  },
  {
   "cell_type": "markdown",
   "metadata": {
    "id": "9GCvKxWtYCyu"
   },
   "source": [
    "**Question 2:** Write a function that returns the maximal and median cocoa percentage in a bar manufactured by a company in a specific country. Use the function to calculate the minimal and median cocoa percentage in bars manufactured by Israeli companies (15pt)."
   ]
  },
  {
   "cell_type": "code",
   "execution_count": null,
   "metadata": {
    "colab": {
     "base_uri": "https://localhost:8080/"
    },
    "id": "tnIUk30aAoVT",
    "outputId": "6ef6a837-afd1-4318-9896-8c545a3a3d96"
   },
   "outputs": [
    {
     "name": "stdout",
     "output_type": "stream",
     "text": [
      "Minimal cocoa percentage: 70.0\n",
      "Median cocoa percentage: 75.0\n"
     ]
    }
   ],
   "source": [
    "def get_min_and_median_cocoa_percentage(country):\n",
    "  cocoa_percentages = [*select(\n",
    "      c.cocoa_percent\n",
    "      for c in ChocoFlavor\n",
    "      if c.company_location == country\n",
    "  )]\n",
    "  cocoa_percentages.sort()\n",
    "  return min(cocoa_percentages), cocoa_percentages[len(cocoa_percentages) // 2]\n",
    "  print(cocoa_percentages)\n",
    "\n",
    "minimum, median = get_min_and_median_cocoa_percentage(\"Israel\")\n",
    "print(f\"Minimal cocoa percentage: {minimum}\")\n",
    "print(f\"Median cocoa percentage: {median}\")"
   ]
  },
  {
   "cell_type": "markdown",
   "metadata": {
    "id": "GlYqUA1xYCyx"
   },
   "source": [
    "**Question 3:** Calculate the third most common bean type(s) and the most rare bean type(s) (15\n",
    "pt)"
   ]
  },
  {
   "cell_type": "code",
   "execution_count": null,
   "metadata": {
    "colab": {
     "base_uri": "https://localhost:8080/"
    },
    "id": "qu9jUidIBzkL",
    "outputId": "4b763527-9c0b-4865-f945-317d9ecf883e"
   },
   "outputs": [
    {
     "name": "stdout",
     "output_type": "stream",
     "text": [
      "Most common bean type: Criollo (Ocumare 67)\n",
      "Most rare bean type: Trinitario\n"
     ]
    }
   ],
   "source": [
    "def get_most_common_bean_type():\n",
    "  bean_type_dist = select(\n",
    "      (c.bean_type, count(c))\n",
    "      for c in ChocoFlavor\n",
    "      if c.bean_type!=''\n",
    "  ).order_by(lambda bean_type, c: c)\n",
    "  return list(bean_type_dist)[3][0]\n",
    "\n",
    "def get_rarest_most_type():\n",
    "   bean_type_dist=select((c.bean_type,count(c)) for c in ChocoFlavor if c.bean_type!='').order_by(lambda bean_type,c:-c)\n",
    "   return list(bean_type_dist)[0][0]\n",
    "\n",
    "print(f\"Most common bean type: {get_most_common_bean_type()}\")\n",
    "print(f\"Most rare bean type: {get_rarest_most_type()}\")"
   ]
  },
  {
   "cell_type": "markdown",
   "metadata": {
    "id": "aOg-NK_lYCyz"
   },
   "source": [
    "**Question 4:** Calculate the number of reviews and the median rating in each year. Calculate the number of reviews and the median rating of each company in each year (15pt)"
   ]
  },
  {
   "cell_type": "code",
   "execution_count": null,
   "metadata": {
    "colab": {
     "base_uri": "https://localhost:8080/"
    },
    "id": "jEuWhQbqDVIM",
    "outputId": "965058a8-ae38-4572-9e0b-3fc6a69f42e6"
   },
   "outputs": [
    {
     "name": "stdout",
     "output_type": "stream",
     "text": [
      "In 2006 had 72 reviews with median rating of 3.0\n",
      "In 2007 had 77 reviews with median rating of 3.0\n",
      "In 2008 had 93 reviews with median rating of 3.0\n",
      "In 2009 had 123 reviews with median rating of 3.0\n",
      "In 2010 had 111 reviews with median rating of 3.25\n",
      "In 2011 had 164 reviews with median rating of 3.25\n",
      "In 2012 had 194 reviews with median rating of 3.25\n",
      "In 2013 had 184 reviews with median rating of 3.25\n",
      "In 2014 had 247 reviews with median rating of 3.25\n",
      "In 2015 had 285 reviews with median rating of 3.25\n",
      "In 2016 had 219 reviews with median rating of 3.25\n",
      "In 2017 had 24 reviews with median rating of 3.5\n"
     ]
    }
   ],
   "source": [
    "def get_all_years():\n",
    "  return sorted(list(select(distinct(c.review_date) for c in ChocoFlavor)))\n",
    "\n",
    "def get_median_and_number_of_review_each_year(year: int):\n",
    "    data = [\n",
    "      *select(\n",
    "        c.rating\n",
    "        for c in ChocoFlavor\n",
    "        if c.review_date == year\n",
    "    ).order_by(lambda c: c)\n",
    "    ]\n",
    "    n_review = len(data)\n",
    "    return n_review, data[n_review // 2]\n",
    "\n",
    "for year in get_all_years():\n",
    "  n_review, meadiean = get_median_and_number_of_review_each_year(year)\n",
    "  print(f\"In {year} had {n_review} reviews with median rating of {meadiean}\")"
   ]
  },
  {
   "cell_type": "markdown",
   "metadata": {
    "id": "eKx7_9vyYCy1"
   },
   "source": [
    "# 3. Kickstarter Projects Dataset (25pt)"
   ]
  },
  {
   "cell_type": "markdown",
   "metadata": {
    "id": "vtMcj_aXF0Xh"
   },
   "source": [
    "### Imports"
   ]
  },
  {
   "cell_type": "code",
   "execution_count": null,
   "metadata": {
    "id": "kbplAt2yF9EX"
   },
   "outputs": [],
   "source": [
    "from pony.orm import group_concat\n",
    "from pony.converting import str2datetime\n",
    "from datetime import datetime"
   ]
  },
  {
   "cell_type": "markdown",
   "metadata": {
    "id": "dGBU6idFF1fZ"
   },
   "source": [
    "#### Load"
   ]
  },
  {
   "cell_type": "code",
   "execution_count": null,
   "metadata": {
    "colab": {
     "base_uri": "https://localhost:8080/"
    },
    "id": "gEzCcg5HF2ay",
    "outputId": "d6e1d495-a5b6-4cc0-93e9-72eff8e9f366"
   },
   "outputs": [
    {
     "name": "stdout",
     "output_type": "stream",
     "text": [
      "Dataset URL: https://www.kaggle.com/datasets/kemical/kickstarter-projects\n",
      "License(s): CC-BY-NC-SA-4.0\n",
      "kickstarter-projects.zip: Skipping, found more recently modified local copy (use --force to force download)\n",
      "Archive:  ./kickstarter-projects.zip\n",
      "  inflating: ks-projects-201612.csv  \n",
      "  inflating: ks-projects-201801.csv  \n"
     ]
    }
   ],
   "source": [
    "!kaggle datasets download -d kemical/kickstarter-projects\n",
    "!unzip -o ./kickstarter-projects.zip"
   ]
  },
  {
   "cell_type": "markdown",
   "metadata": {
    "id": "5HXua9B5YCy2"
   },
   "source": [
    "Using the [Kickstarter Projects Dataset](https://www.kaggle.com/kemical/kickstarter-projects#ks-projects-201801.csv), answer the following questions:"
   ]
  },
  {
   "cell_type": "markdown",
   "metadata": {
    "id": "NGgJ1dyeZiFH"
   },
   "source": [
    "**Task 1 (for everyone):** Load the dataset to SQLite DB using [PonyORM](https://ponyorm.org) (10pt)"
   ]
  },
  {
   "cell_type": "code",
   "execution_count": null,
   "metadata": {
    "colab": {
     "base_uri": "https://localhost:8080/"
    },
    "id": "TLhhxMDDb2nN",
    "outputId": "0a59a45c-1a7e-4d03-8cd1-3d83cad91c8a"
   },
   "outputs": [
    {
     "name": "stderr",
     "output_type": "stream",
     "text": [
      "<ipython-input-121-765f03ee57e7>:2: FutureWarning: A value is trying to be set on a copy of a DataFrame or Series through chained assignment using an inplace method.\n",
      "The behavior will change in pandas 3.0. This inplace method will never work because the intermediate object on which we are setting values always behaves as a copy.\n",
      "\n",
      "For example, when doing 'df[col].method(value, inplace=True)', try using 'df.method({col: value}, inplace=True)' or df[col] = df[col].method(value) instead, to perform the operation inplace on the original object.\n",
      "\n",
      "\n",
      "  ks_project[\"usd pledged\"].fillna(0.0, inplace=True)\n",
      "<ipython-input-121-765f03ee57e7>:3: FutureWarning: A value is trying to be set on a copy of a DataFrame or Series through chained assignment using an inplace method.\n",
      "The behavior will change in pandas 3.0. This inplace method will never work because the intermediate object on which we are setting values always behaves as a copy.\n",
      "\n",
      "For example, when doing 'df[col].method(value, inplace=True)', try using 'df.method({col: value}, inplace=True)' or df[col] = df[col].method(value) instead, to perform the operation inplace on the original object.\n",
      "\n",
      "\n",
      "  ks_project[\"name\"].fillna(\"\", inplace=True)\n"
     ]
    }
   ],
   "source": [
    "ks_project = pd.read_csv(\"ks-projects-201801.csv\", encoding=\"ISO-8859-1\")\n",
    "ks_project[\"usd pledged\"].fillna(0.0, inplace=True)\n",
    "ks_project[\"name\"].fillna(\"\", inplace=True)"
   ]
  },
  {
   "cell_type": "code",
   "execution_count": null,
   "metadata": {
    "id": "ohHtBYuUF_ex"
   },
   "outputs": [],
   "source": [
    "db = Database()\n",
    "db.bind(\n",
    "    provider='sqlite', filename='/content/kickstarter-project.pony.db',\n",
    "    create_db=True\n",
    ")"
   ]
  },
  {
   "cell_type": "code",
   "execution_count": null,
   "metadata": {
    "id": "K7iFf3qHGDZS"
   },
   "outputs": [],
   "source": [
    "class KickstarterProject(db.Entity):\n",
    "  name = Optional(str)\n",
    "  category = Required(str)\n",
    "  main_category = Required(str)\n",
    "  currency = Required(str)\n",
    "  deadline = Required(str)\n",
    "  goal = Required(float)\n",
    "  launched = Required(datetime)\n",
    "  pledged = Required(float)\n",
    "  state = Required(str)\n",
    "  backers = Required(int)\n",
    "  country = Required(str)\n",
    "  usd_pledged = Optional(float)\n",
    "  usd_pledged_real = Required(float)\n",
    "  usd_goal_real = Required(float)\n",
    "\n",
    "db.generate_mapping(create_tables=True)"
   ]
  },
  {
   "cell_type": "code",
   "execution_count": null,
   "metadata": {
    "colab": {
     "base_uri": "https://localhost:8080/"
    },
    "id": "bXDkTi_VGEdh",
    "outputId": "80d93883-eaf3-4ace-b07d-c2552d07f230"
   },
   "outputs": [
    {
     "name": "stderr",
     "output_type": "stream",
     "text": [
      "<ipython-input-156-c12d58d7a8a6>:3: FutureWarning: Series.__getitem__ treating keys as positions is deprecated. In a future version, integer keys will always be treated as labels (consistent with DataFrame behavior). To access a value by position, use `ser.iloc[pos]`\n",
      "  name=row[1], category=row[2], main_category=row[3], currency=row[4],\n",
      "<ipython-input-156-c12d58d7a8a6>:4: FutureWarning: Series.__getitem__ treating keys as positions is deprecated. In a future version, integer keys will always be treated as labels (consistent with DataFrame behavior). To access a value by position, use `ser.iloc[pos]`\n",
      "  deadline=row[5], goal=row[6], launched=row[7], pledged=row[8],\n",
      "<ipython-input-156-c12d58d7a8a6>:5: FutureWarning: Series.__getitem__ treating keys as positions is deprecated. In a future version, integer keys will always be treated as labels (consistent with DataFrame behavior). To access a value by position, use `ser.iloc[pos]`\n",
      "  state=row[9], backers=row[10], country=row[11], usd_pledged=row[12],\n",
      "<ipython-input-156-c12d58d7a8a6>:6: FutureWarning: Series.__getitem__ treating keys as positions is deprecated. In a future version, integer keys will always be treated as labels (consistent with DataFrame behavior). To access a value by position, use `ser.iloc[pos]`\n",
      "  usd_pledged_real=row[13], usd_goal_real=row[14]\n"
     ]
    }
   ],
   "source": [
    "for idx, row in ks_project.iterrows():\n",
    "  KickstarterProject(\n",
    "      name=row[1], category=row[2], main_category=row[3], currency=row[4],\n",
    "      deadline=row[5], goal=row[6], launched=row[7], pledged=row[8],\n",
    "      state=row[9], backers=row[10], country=row[11], usd_pledged=row[12],\n",
    "      usd_pledged_real=row[13], usd_goal_real=row[14]\n",
    "  )\n",
    "commit()"
   ]
  },
  {
   "cell_type": "markdown",
   "metadata": {
    "id": "W1K5VTLoYCy3"
   },
   "source": [
    "### <span style=\"color:red\"> Please answer only **one** of the following questions according to your ID number (use the formula **<YOUR_ID> mod 3 +1**) </span>"
   ]
  },
  {
   "cell_type": "code",
   "execution_count": null,
   "metadata": {
    "colab": {
     "base_uri": "https://localhost:8080/"
    },
    "id": "vwlOZtVHYCy3",
    "outputId": "68248f6d-5aa3-41fd-8594-409e895bcae2"
   },
   "outputs": [
    {
     "name": "stdout",
     "output_type": "stream",
     "text": [
      "You need to answer question number 3\n"
     ]
    }
   ],
   "source": [
    "# which question to answer - put your ID number and run the code\n",
    "your_id  = \"\"\n",
    "q = int(your_id) % 3 + 1\n",
    "print(\"You need to answer question number %s\" % q)"
   ]
  },
  {
   "cell_type": "markdown",
   "metadata": {
    "id": "gkVN8OnxYCy5"
   },
   "source": [
    "**Question 1:** On average which project category received the highest number of backers? (15 pt)"
   ]
  },
  {
   "cell_type": "code",
   "execution_count": null,
   "metadata": {
    "id": "vkhb156oYCy6"
   },
   "outputs": [],
   "source": []
  },
  {
   "cell_type": "markdown",
   "metadata": {
    "id": "LTk5XnNGYCy7"
   },
   "source": [
    "**Question 2:** On average which project category received the highest pledged USD? (15 pt)"
   ]
  },
  {
   "cell_type": "code",
   "execution_count": null,
   "metadata": {
    "id": "DfiXdIneYCy8"
   },
   "outputs": [],
   "source": []
  },
  {
   "cell_type": "markdown",
   "metadata": {
    "id": "wM5KvHE1YCy9"
   },
   "source": [
    "**Question 3:** In which month occurred the highest number of projects? (15 pt)"
   ]
  },
  {
   "cell_type": "code",
   "execution_count": null,
   "metadata": {
    "colab": {
     "base_uri": "https://localhost:8080/"
    },
    "id": "bDZXU0MHVAgr",
    "outputId": "b82c7abf-0b4e-46cd-f785-ca54c1e60b5e"
   },
   "outputs": [
    {
     "name": "stdout",
     "output_type": "stream",
     "text": [
      "The month with the highest number of projects is: 12\n"
     ]
    }
   ],
   "source": [
    "def get_month_with_highest_number_of_projects():\n",
    "  return select(\n",
    "      (c.launched.month, count(c))\n",
    "      for c in KickstarterProject\n",
    "  ).order_by(lambda month, c: c).first()[0]\n",
    "\n",
    "highest_project_month = get_month_with_highest_number_of_projects()\n",
    "print(f\"The month with the highest number of projects is: {highest_project_month}\")"
   ]
  },
  {
   "cell_type": "markdown",
   "metadata": {
    "id": "ResaA3kxYCy_"
   },
   "source": [
    "## 4. Oscars Datasets (10pt)"
   ]
  },
  {
   "cell_type": "markdown",
   "metadata": {
    "id": "9ubSku6_G4-c"
   },
   "source": [
    "#### Install"
   ]
  },
  {
   "cell_type": "code",
   "execution_count": null,
   "metadata": {
    "colab": {
     "base_uri": "https://localhost:8080/"
    },
    "id": "7pz-kQsFG4vm",
    "outputId": "fe951f39-3f31-4dec-9a8b-d43234d2c553"
   },
   "outputs": [
    {
     "name": "stdout",
     "output_type": "stream",
     "text": [
      "Dataset URL: https://www.kaggle.com/datasets/theacademy/academy-awards\n",
      "License(s): unknown\n",
      "Archive:  academy-awards.zip\n",
      "  inflating: database.csv            \n"
     ]
    }
   ],
   "source": [
    "!kaggle datasets download -d theacademy/academy-awards\n",
    "!unzip -o academy-awards.zip"
   ]
  },
  {
   "cell_type": "markdown",
   "metadata": {
    "id": "WYQasQOKYCzA"
   },
   "source": [
    "Using the [Oscars Dataset](https://www.kaggle.com/theacademy/academy-awards), please answer only one of the following questions (you can chose):"
   ]
  },
  {
   "cell_type": "code",
   "execution_count": null,
   "metadata": {
    "colab": {
     "base_uri": "https://localhost:8080/"
    },
    "id": "HYc-qDsmG7_r",
    "outputId": "f5042cee-67de-42da-baa4-ea314171f441"
   },
   "outputs": [
    {
     "name": "stderr",
     "output_type": "stream",
     "text": [
      "<ipython-input-145-885277717164>:2: FutureWarning: A value is trying to be set on a copy of a DataFrame or Series through chained assignment using an inplace method.\n",
      "The behavior will change in pandas 3.0. This inplace method will never work because the intermediate object on which we are setting values always behaves as a copy.\n",
      "\n",
      "For example, when doing 'df[col].method(value, inplace=True)', try using 'df.method({col: value}, inplace=True)' or df[col] = df[col].method(value) instead, to perform the operation inplace on the original object.\n",
      "\n",
      "\n",
      "  oscar_ds[\"Winner\"].fillna(0.0, inplace=True)\n",
      "<ipython-input-145-885277717164>:3: FutureWarning: A value is trying to be set on a copy of a DataFrame or Series through chained assignment using an inplace method.\n",
      "The behavior will change in pandas 3.0. This inplace method will never work because the intermediate object on which we are setting values always behaves as a copy.\n",
      "\n",
      "For example, when doing 'df[col].method(value, inplace=True)', try using 'df.method({col: value}, inplace=True)' or df[col] = df[col].method(value) instead, to perform the operation inplace on the original object.\n",
      "\n",
      "\n",
      "  oscar_ds[\"Film\"].fillna(\"\", inplace=True)\n"
     ]
    }
   ],
   "source": [
    "oscar_ds = pd.read_csv(\"database.csv\", encoding=\"ISO-8859-1\")\n",
    "oscar_ds[\"Winner\"].fillna(0.0, inplace=True)\n",
    "oscar_ds[\"Film\"].fillna(\"\", inplace=True)\n",
    "\n",
    "db = Database()\n",
    "db.bind(\n",
    "    provider='sqlite', filename='/content/academy-awards.pony.db',\n",
    "    create_db=True\n",
    ")"
   ]
  },
  {
   "cell_type": "code",
   "execution_count": null,
   "metadata": {
    "id": "mgoXW_rCG_QA"
   },
   "outputs": [],
   "source": [
    "class AcademyAwards(db.Entity):\n",
    "  year = Optional(str)\n",
    "  ceremony = Required(int)\n",
    "  award = Required(str)\n",
    "  winner = Required(float)\n",
    "  name = Required(str)\n",
    "  film = Optional(str)\n",
    "\n",
    "db.generate_mapping(create_tables=True)"
   ]
  },
  {
   "cell_type": "code",
   "execution_count": null,
   "metadata": {
    "colab": {
     "base_uri": "https://localhost:8080/"
    },
    "id": "QZV-cujQHCSR",
    "outputId": "74bd3efa-6da9-442a-c820-659f5b26192d"
   },
   "outputs": [
    {
     "name": "stderr",
     "output_type": "stream",
     "text": [
      "<ipython-input-147-68a744ea0a20>:2: FutureWarning: Series.__getitem__ treating keys as positions is deprecated. In a future version, integer keys will always be treated as labels (consistent with DataFrame behavior). To access a value by position, use `ser.iloc[pos]`\n",
      "  AcademyAwards(year=row[0],ceremony=row[1],\n",
      "<ipython-input-147-68a744ea0a20>:3: FutureWarning: Series.__getitem__ treating keys as positions is deprecated. In a future version, integer keys will always be treated as labels (consistent with DataFrame behavior). To access a value by position, use `ser.iloc[pos]`\n",
      "  award=row[2],winner=row[3],\n",
      "<ipython-input-147-68a744ea0a20>:4: FutureWarning: Series.__getitem__ treating keys as positions is deprecated. In a future version, integer keys will always be treated as labels (consistent with DataFrame behavior). To access a value by position, use `ser.iloc[pos]`\n",
      "  name=row[4],film=row[5],)\n"
     ]
    }
   ],
   "source": [
    "for idx, row in oscar_ds.iterrows():\n",
    "  AcademyAwards(year=row[0],ceremony=row[1],\n",
    "                award=row[2],winner=row[3],\n",
    "                name=row[4],film=row[5],)\n",
    "commit()"
   ]
  },
  {
   "cell_type": "markdown",
   "metadata": {
    "id": "QGDmLdbKYCzA"
   },
   "source": [
    "**Question 1:** Who is the male actress with the most Oscar nominees? (10pt)"
   ]
  },
  {
   "cell_type": "code",
   "execution_count": null,
   "metadata": {
    "colab": {
     "base_uri": "https://localhost:8080/"
    },
    "id": "qipeHl6AYCzB",
    "outputId": "42b90da0-2a1c-4e2d-f4c9-004cdbe706ad"
   },
   "outputs": [
    {
     "name": "stdout",
     "output_type": "stream",
     "text": [
      "Male actor with most nominees: Spencer Tracy\n"
     ]
    }
   ],
   "source": [
    "def get_male_actor_with_most_nominees():\n",
    "  return [*\n",
    "    select(\n",
    "        (a.name, count(a.year)) for a in AcademyAwards if a.award == \"Actor\"\n",
    "    ).sort_by(lambda x, y: desc(y))][0][0]\n",
    "\n",
    "\n",
    "print(\"Male actor with most nominees:\",get_male_actor_with_most_nominees())"
   ]
  },
  {
   "cell_type": "markdown",
   "metadata": {
    "id": "BR33wDkbYCzD"
   },
   "source": [
    "**Question 2:** Who is the female director with the most Oscar nominees? (10pt)"
   ]
  },
  {
   "cell_type": "code",
   "execution_count": null,
   "metadata": {
    "id": "2jm9HeghYCzD"
   },
   "outputs": [],
   "source": []
  },
  {
   "cell_type": "markdown",
   "metadata": {
    "id": "Va320K09YCzE"
   },
   "source": [
    "**Question 3:** Which top-10 movies received the highest number of Oscar nominees? (10pt)"
   ]
  },
  {
   "cell_type": "code",
   "execution_count": null,
   "metadata": {
    "id": "k9gVwnHVYCzF"
   },
   "outputs": [],
   "source": []
  },
  {
   "cell_type": "markdown",
   "metadata": {
    "id": "AF15wiyqYCzH"
   },
   "source": [
    "**Question 4:** Write a function that receives an actor's name and returns the actor’s number of Oscar nominees. Use the function to calculate the number of times Leonardo DiCaprio was a nominee (10pt)"
   ]
  },
  {
   "cell_type": "code",
   "execution_count": null,
   "metadata": {
    "id": "_ZdwQJCWYCzH"
   },
   "outputs": [],
   "source": []
  },
  {
   "cell_type": "markdown",
   "metadata": {
    "id": "eW1N-PBiYCzJ"
   },
   "source": [
    "## 5.  Cool Bonus: LLMs & Stable Difussion (10pt)"
   ]
  },
  {
   "cell_type": "code",
   "execution_count": null,
   "metadata": {
    "colab": {
     "base_uri": "https://localhost:8080/",
     "height": 377
    },
    "id": "14rvq_qSVtwU",
    "outputId": "f96616c3-0c77-4458-c7d8-623d785cf3c9"
   },
   "outputs": [
    {
     "name": "stdout",
     "output_type": "stream",
     "text": [
      "Requirement already satisfied: sympy in /usr/local/lib/python3.11/dist-packages (1.13.1)\n",
      "Collecting sympy\n",
      "  Downloading sympy-1.13.3-py3-none-any.whl.metadata (12 kB)\n",
      "Requirement already satisfied: mpmath<1.4,>=1.1.0 in /usr/local/lib/python3.11/dist-packages (from sympy) (1.3.0)\n",
      "Downloading sympy-1.13.3-py3-none-any.whl (6.2 MB)\n",
      "\u001B[2K   \u001B[90m━━━━━━━━━━━━━━━━━━━━━━━━━━━━━━━━━━━━━━━━\u001B[0m \u001B[32m6.2/6.2 MB\u001B[0m \u001B[31m17.4 MB/s\u001B[0m eta \u001B[36m0:00:00\u001B[0m\n",
      "\u001B[?25hInstalling collected packages: sympy\n",
      "  Attempting uninstall: sympy\n",
      "    Found existing installation: sympy 1.13.1\n",
      "    Uninstalling sympy-1.13.1:\n",
      "      Successfully uninstalled sympy-1.13.1\n",
      "\u001B[31mERROR: pip's dependency resolver does not currently take into account all the packages that are installed. This behaviour is the source of the following dependency conflicts.\n",
      "torch 2.6.0+cu124 requires sympy==1.13.1; python_version >= \"3.9\", but you have sympy 1.13.3 which is incompatible.\u001B[0m\u001B[31m\n",
      "\u001B[0mSuccessfully installed sympy-1.13.3\n"
     ]
    },
    {
     "data": {
      "application/vnd.colab-display-data+json": {
       "id": "8776b067733c449a8cb5b0b068817a93",
       "pip_warning": {
        "packages": [
         "sympy"
        ]
       }
      }
     },
     "metadata": {},
     "output_type": "display_data"
    }
   ],
   "source": [
    "!pip install --upgrade sympy"
   ]
  },
  {
   "cell_type": "code",
   "execution_count": null,
   "metadata": {
    "id": "tDmb2IclSyii"
   },
   "outputs": [],
   "source": [
    "from diffusers import StableDiffusionPipeline\n",
    "from mpl_toolkits.axes_grid1 import ImageGrid\n",
    "from PIL import ImageOps"
   ]
  },
  {
   "cell_type": "markdown",
   "metadata": {
    "id": "Me79ek_mYCzJ"
   },
   "source": [
    "Using GPT-2 (or any other LLM model), create a simple code that generates a bedtime story with 10-page of related images."
   ]
  },
  {
   "cell_type": "code",
   "execution_count": null,
   "metadata": {
    "id": "ZHzW0wdvVn3p"
   },
   "outputs": [],
   "source": [
    "ACCESS_TOKEN=\"\"\n",
    "\n",
    "pipe = StableDiffusionPipeline.from_pretrained(\"runwayml/stable-diffusion-v1-5\",use_auth_token=ACCESS_TOKEN, torch_dtype=torch.float16)"
   ]
  },
  {
   "cell_type": "code",
   "execution_count": null,
   "metadata": {
    "id": "DfUt0kAYSuDp"
   },
   "outputs": [],
   "source": [
    "def get_generated_images_from_sentences(pipe,sentences):\n",
    "  image_list = []\n",
    "  for sentence in sentences:\n",
    "    image = pipe(sentence).images[0]\n",
    "    image_list.append(image)\n",
    "  return image_list\n",
    "\n",
    "def plot_images(images):\n",
    "  fig = plt.figure(figsize=(20, 20))\n",
    "  grid = ImageGrid(fig, 111, nrows_ncols=(5, 2), axes_pad=0.1)\n",
    "\n",
    "  for ax, im in zip(grid, images):\n",
    "    ax.imshow(ImageOps.flip(im))\n",
    "    ax.axis(\"off\")\n",
    "\n",
    "  plt.tight_layout()\n",
    "  plt.show()\n",
    "\n",
    "# output from chat gpt\n",
    "sentences = [\n",
    "    \"In a magical kingdom where mystical creatures roamed freely, there was an extraordinary friendship between a pack of adventurous dogs and majestic dragons.\",\n",
    "    \"The leader of the pack was a wise and courageous canine named Luna, who had an innate ability to communicate with the mythical dragons that soared through the skies.\",\n",
    "    \"Every evening, Luna and her pack would gather under the ancient oak tree, their tails wagging with anticipation, as Luna shared captivating tales of their fantastical adventures with the dragons.\",\n",
    "    \"One particularly enchanting story unfolded about a perilous quest where dogs and dragons joined forces to protect their kingdom from an impending darkness that threatened to engulf the land.\",\n",
    "    \"As Luna described the breathtaking landscapes and the camaraderie between the dogs and dragons, the pack could almost feel the rush of wind and the warmth of dragon flames in their imaginations.\",\n",
    "    \"The dragons, with scales that shimmered like jewels, formed an awe-inspiring alliance with the swift and loyal dogs, creating a bond that transcended the boundaries of their species.\",\n",
    "    \"Together, they faced mythical creatures, explored hidden caverns, and defended their kingdom with unwavering courage, showcasing the power of unity and friendship between different beings.\",\n",
    "    \"Under the moonlit sky, the dogs howled in harmony with the dragons' roars, creating a symphony that echoed through the magical realm, a testament to the unbreakable bond forged through their shared adventures.\",\n",
    "    \"As Luna concluded the bedtime story, the pack of dogs nestled together, their dreams filled with visions of soaring alongside dragons and embarking on heroic quests in the mystical kingdom.\",\n",
    "    \"And so, night after night, the dogs and dragons continued their legendary adventures in the dreams of the enchanted kingdom, where friendship knew no bounds and bedtime stories came to life.\"\n",
    "]\n",
    "\n",
    "# text to image\n",
    "pipe = pipe.to(\"cuda\")\n",
    "image_list=get_generated_images_from_sentences(pipe,sentences)\n",
    "\n",
    "# plot images\n",
    "plot_images(image_list)"
   ]
  },
  {
   "cell_type": "code",
   "execution_count": null,
   "metadata": {
    "id": "4saFhpj3VmoC"
   },
   "outputs": [],
   "source": []
  }
 ],
 "metadata": {
  "colab": {
   "collapsed_sections": [
    "Dp0ttBqVvbKR",
    "9-bRpJ7Fvjdq",
    "naIQ2HRZvlKI",
    "6dClZxXjYCyU",
    "gmdQrLL9YCyp"
   ],
   "provenance": []
  },
  "kernelspec": {
   "display_name": "Python 3",
   "language": "python",
   "name": "python3"
  },
  "language_info": {
   "codemirror_mode": {
    "name": "ipython",
    "version": 3
   },
   "file_extension": ".py",
   "mimetype": "text/x-python",
   "name": "python",
   "nbconvert_exporter": "python",
   "pygments_lexer": "ipython3",
   "version": "3.9.6"
  }
 },
 "nbformat": 4,
 "nbformat_minor": 0
}
