{
  "cells": [
    {
      "cell_type": "markdown",
      "metadata": {
        "id": "ATxpf1JpbCyE"
      },
      "source": [
        "# Homework Assignment  6"
      ]
    },
    {
      "cell_type": "code",
      "execution_count": null,
      "metadata": {},
      "outputs": [
        {
          "name": "stdout",
          "output_type": "stream",
          "text": [
            "Requirement already satisfied: kaggle in /Users/guyarieli/miniconda3/envs/kubesim/lib/python3.10/site-packages (1.7.4.2)\n",
            "Collecting gensim\n",
            "  Downloading gensim-4.3.3-cp310-cp310-macosx_11_0_arm64.whl.metadata (8.2 kB)\n",
            "Collecting bertopic\n",
            "  Downloading bertopic-0.17.0-py3-none-any.whl.metadata (23 kB)\n",
            "Collecting spaCy\n",
            "  Downloading spacy-3.8.5-cp310-cp310-macosx_11_0_arm64.whl.metadata (27 kB)\n",
            "Requirement already satisfied: vaex in /Users/guyarieli/miniconda3/envs/kubesim/lib/python3.10/site-packages (4.17.0)\n",
            "Collecting nltk\n",
            "  Downloading nltk-3.9.1-py3-none-any.whl.metadata (2.9 kB)\n",
            "Collecting afinn\n",
            "  Downloading afinn-0.1.tar.gz (52 kB)\n",
            "\u001b[2K     \u001b[90m━━━━━━━━━━━━━━━━━━━━━━━━━━━━━━━━━━━━━━━\u001b[0m \u001b[32m52.6/52.6 kB\u001b[0m \u001b[31m388.6 kB/s\u001b[0m eta \u001b[36m0:00:00\u001b[0ma \u001b[36m0:00:01\u001b[0m\n",
            "\u001b[?25h  Installing build dependencies ... \u001b[?25ldone\n",
            "\u001b[?25h  Getting requirements to build wheel ... \u001b[?25ldone\n",
            "\u001b[?25h  Preparing metadata (pyproject.toml) ... \u001b[?25ldone\n",
            "\u001b[?25hRequirement already satisfied: bleach in /Users/guyarieli/miniconda3/envs/kubesim/lib/python3.10/site-packages (from kaggle) (6.1.0)\n",
            "Requirement already satisfied: certifi>=14.05.14 in /Users/guyarieli/miniconda3/envs/kubesim/lib/python3.10/site-packages (from kaggle) (2023.11.17)\n",
            "Requirement already satisfied: charset-normalizer in /Users/guyarieli/miniconda3/envs/kubesim/lib/python3.10/site-packages (from kaggle) (3.3.2)\n",
            "Requirement already satisfied: idna in /Users/guyarieli/miniconda3/envs/kubesim/lib/python3.10/site-packages (from kaggle) (3.6)\n",
            "Requirement already satisfied: protobuf in /Users/guyarieli/miniconda3/envs/kubesim/lib/python3.10/site-packages (from kaggle) (6.30.2)\n",
            "Requirement already satisfied: python-dateutil>=2.5.3 in /Users/guyarieli/miniconda3/envs/kubesim/lib/python3.10/site-packages (from kaggle) (2.8.2)\n",
            "Requirement already satisfied: python-slugify in /Users/guyarieli/miniconda3/envs/kubesim/lib/python3.10/site-packages (from kaggle) (8.0.4)\n",
            "Requirement already satisfied: requests in /Users/guyarieli/miniconda3/envs/kubesim/lib/python3.10/site-packages (from kaggle) (2.31.0)\n",
            "Requirement already satisfied: setuptools>=21.0.0 in /Users/guyarieli/miniconda3/envs/kubesim/lib/python3.10/site-packages (from kaggle) (78.1.0)\n",
            "Requirement already satisfied: six>=1.10 in /Users/guyarieli/miniconda3/envs/kubesim/lib/python3.10/site-packages (from kaggle) (1.16.0)\n",
            "Requirement already satisfied: text-unidecode in /Users/guyarieli/miniconda3/envs/kubesim/lib/python3.10/site-packages (from kaggle) (1.3)\n",
            "Requirement already satisfied: tqdm in /Users/guyarieli/miniconda3/envs/kubesim/lib/python3.10/site-packages (from kaggle) (4.67.1)\n",
            "Requirement already satisfied: urllib3>=1.15.1 in /Users/guyarieli/miniconda3/envs/kubesim/lib/python3.10/site-packages (from kaggle) (2.1.0)\n",
            "Requirement already satisfied: webencodings in /Users/guyarieli/miniconda3/envs/kubesim/lib/python3.10/site-packages (from kaggle) (0.5.1)\n",
            "Requirement already satisfied: numpy<2.0,>=1.18.5 in /Users/guyarieli/miniconda3/envs/kubesim/lib/python3.10/site-packages (from gensim) (1.26.2)\n",
            "Collecting scipy<1.14.0,>=1.7.0 (from gensim)\n",
            "  Downloading scipy-1.13.1-cp310-cp310-macosx_12_0_arm64.whl.metadata (60 kB)\n",
            "\u001b[2K     \u001b[90m━━━━━━━━━━━━━━━━━━━━━━━━━━━━━━━━━━━━━━━\u001b[0m \u001b[32m60.6/60.6 kB\u001b[0m \u001b[31m607.0 kB/s\u001b[0m eta \u001b[36m0:00:00\u001b[0ma \u001b[36m0:00:01\u001b[0m\n",
            "\u001b[?25hCollecting smart-open>=1.8.1 (from gensim)\n",
            "  Downloading smart_open-7.1.0-py3-none-any.whl.metadata (24 kB)\n",
            "Collecting hdbscan>=0.8.29 (from bertopic)\n",
            "  Downloading hdbscan-0.8.40.tar.gz (6.9 MB)\n",
            "\u001b[2K     \u001b[90m━━━━━━━━━━━━━━━━━━━━━━━━━━━━━━━━━━━━━━━━\u001b[0m \u001b[32m6.9/6.9 MB\u001b[0m \u001b[31m3.3 MB/s\u001b[0m eta \u001b[36m0:00:00\u001b[0m00:01\u001b[0m00:01\u001b[0m0m\n",
            "\u001b[?25h  Installing build dependencies ... \u001b[?25ldone\n",
            "\u001b[?25h  Getting requirements to build wheel ... \u001b[?25ldone\n",
            "\u001b[?25h  Preparing metadata (pyproject.toml) ... \u001b[?25ldone\n",
            "\u001b[?25hRequirement already satisfied: pandas>=1.1.5 in /Users/guyarieli/miniconda3/envs/kubesim/lib/python3.10/site-packages (from bertopic) (2.2.3)\n",
            "Requirement already satisfied: plotly>=4.7.0 in /Users/guyarieli/miniconda3/envs/kubesim/lib/python3.10/site-packages (from bertopic) (6.0.1)\n",
            "Collecting scikit-learn>=1.0 (from bertopic)\n",
            "  Downloading scikit_learn-1.6.1-cp310-cp310-macosx_12_0_arm64.whl.metadata (31 kB)\n",
            "Collecting sentence-transformers>=0.4.1 (from bertopic)\n",
            "  Downloading sentence_transformers-4.0.2-py3-none-any.whl.metadata (13 kB)\n",
            "Collecting umap-learn>=0.5.0 (from bertopic)\n",
            "  Downloading umap_learn-0.5.7-py3-none-any.whl.metadata (21 kB)\n",
            "Collecting spacy-legacy<3.1.0,>=3.0.11 (from spaCy)\n",
            "  Downloading spacy_legacy-3.0.12-py2.py3-none-any.whl.metadata (2.8 kB)\n",
            "Collecting spacy-loggers<2.0.0,>=1.0.0 (from spaCy)\n",
            "  Downloading spacy_loggers-1.0.5-py3-none-any.whl.metadata (23 kB)\n",
            "Collecting murmurhash<1.1.0,>=0.28.0 (from spaCy)\n",
            "  Downloading murmurhash-1.0.12-cp310-cp310-macosx_11_0_arm64.whl.metadata (2.1 kB)\n",
            "Collecting cymem<2.1.0,>=2.0.2 (from spaCy)\n",
            "  Downloading cymem-2.0.11-cp310-cp310-macosx_11_0_arm64.whl.metadata (8.5 kB)\n",
            "Collecting preshed<3.1.0,>=3.0.2 (from spaCy)\n",
            "  Downloading preshed-3.0.9-cp310-cp310-macosx_11_0_arm64.whl.metadata (2.2 kB)\n",
            "Collecting thinc<8.4.0,>=8.3.4 (from spaCy)\n",
            "  Downloading thinc-8.3.6-cp310-cp310-macosx_11_0_arm64.whl.metadata (15 kB)\n",
            "Collecting wasabi<1.2.0,>=0.9.1 (from spaCy)\n",
            "  Downloading wasabi-1.1.3-py3-none-any.whl.metadata (28 kB)\n",
            "Collecting srsly<3.0.0,>=2.4.3 (from spaCy)\n",
            "  Downloading srsly-2.5.1-cp310-cp310-macosx_11_0_arm64.whl.metadata (19 kB)\n",
            "Collecting catalogue<2.1.0,>=2.0.6 (from spaCy)\n",
            "  Downloading catalogue-2.0.10-py3-none-any.whl.metadata (14 kB)\n",
            "Collecting weasel<0.5.0,>=0.1.0 (from spaCy)\n",
            "  Downloading weasel-0.4.1-py3-none-any.whl.metadata (4.6 kB)\n",
            "Collecting typer<1.0.0,>=0.3.0 (from spaCy)\n",
            "  Downloading typer-0.15.2-py3-none-any.whl.metadata (15 kB)\n",
            "Requirement already satisfied: pydantic!=1.8,!=1.8.1,<3.0.0,>=1.7.4 in /Users/guyarieli/miniconda3/envs/kubesim/lib/python3.10/site-packages (from spaCy) (2.11.2)\n",
            "Requirement already satisfied: jinja2 in /Users/guyarieli/miniconda3/envs/kubesim/lib/python3.10/site-packages (from spaCy) (3.1.2)\n",
            "Requirement already satisfied: packaging>=20.0 in /Users/guyarieli/miniconda3/envs/kubesim/lib/python3.10/site-packages (from spaCy) (23.2)\n",
            "Collecting langcodes<4.0.0,>=3.2.0 (from spaCy)\n",
            "  Downloading langcodes-3.5.0-py3-none-any.whl.metadata (29 kB)\n",
            "Requirement already satisfied: vaex-core~=4.17.1 in /Users/guyarieli/miniconda3/envs/kubesim/lib/python3.10/site-packages (from vaex) (4.17.1)\n",
            "Requirement already satisfied: vaex-astro<0.10,>=0.9.3 in /Users/guyarieli/miniconda3/envs/kubesim/lib/python3.10/site-packages (from vaex) (0.9.3)\n",
            "Requirement already satisfied: vaex-hdf5<0.15,>=0.13.0 in /Users/guyarieli/miniconda3/envs/kubesim/lib/python3.10/site-packages (from vaex) (0.14.1)\n",
            "Requirement already satisfied: vaex-viz<0.6,>=0.5.4 in /Users/guyarieli/miniconda3/envs/kubesim/lib/python3.10/site-packages (from vaex) (0.5.4)\n",
            "Requirement already satisfied: vaex-server~=0.9.0 in /Users/guyarieli/miniconda3/envs/kubesim/lib/python3.10/site-packages (from vaex) (0.9.0)\n",
            "Requirement already satisfied: vaex-jupyter<0.9,>=0.8.2 in /Users/guyarieli/miniconda3/envs/kubesim/lib/python3.10/site-packages (from vaex) (0.8.2)\n",
            "Requirement already satisfied: vaex-ml<0.19,>=0.18.3 in /Users/guyarieli/miniconda3/envs/kubesim/lib/python3.10/site-packages (from vaex) (0.18.3)\n",
            "Requirement already satisfied: click in /Users/guyarieli/miniconda3/envs/kubesim/lib/python3.10/site-packages (from nltk) (8.1.8)\n",
            "Collecting joblib (from nltk)\n",
            "  Using cached joblib-1.4.2-py3-none-any.whl.metadata (5.4 kB)\n",
            "Collecting regex>=2021.8.3 (from nltk)\n",
            "  Downloading regex-2024.11.6-cp310-cp310-macosx_11_0_arm64.whl.metadata (40 kB)\n",
            "\u001b[2K     \u001b[90m━━━━━━━━━━━━━━━━━━━━━━━━━━━━━━━━━━━━━━━━\u001b[0m \u001b[32m40.5/40.5 kB\u001b[0m \u001b[31m3.6 MB/s\u001b[0m eta \u001b[36m0:00:00\u001b[0m\n",
            "\u001b[?25hCollecting language-data>=1.2 (from langcodes<4.0.0,>=3.2.0->spaCy)\n",
            "  Downloading language_data-1.3.0-py3-none-any.whl.metadata (4.3 kB)\n",
            "Requirement already satisfied: pytz>=2020.1 in /Users/guyarieli/miniconda3/envs/kubesim/lib/python3.10/site-packages (from pandas>=1.1.5->bertopic) (2025.2)\n",
            "Requirement already satisfied: tzdata>=2022.7 in /Users/guyarieli/miniconda3/envs/kubesim/lib/python3.10/site-packages (from pandas>=1.1.5->bertopic) (2025.2)\n",
            "Requirement already satisfied: narwhals>=1.15.1 in /Users/guyarieli/miniconda3/envs/kubesim/lib/python3.10/site-packages (from plotly>=4.7.0->bertopic) (1.34.1)\n",
            "Requirement already satisfied: annotated-types>=0.6.0 in /Users/guyarieli/miniconda3/envs/kubesim/lib/python3.10/site-packages (from pydantic!=1.8,!=1.8.1,<3.0.0,>=1.7.4->spaCy) (0.7.0)\n",
            "Requirement already satisfied: pydantic-core==2.33.1 in /Users/guyarieli/miniconda3/envs/kubesim/lib/python3.10/site-packages (from pydantic!=1.8,!=1.8.1,<3.0.0,>=1.7.4->spaCy) (2.33.1)\n",
            "Requirement already satisfied: typing-extensions>=4.12.2 in /Users/guyarieli/miniconda3/envs/kubesim/lib/python3.10/site-packages (from pydantic!=1.8,!=1.8.1,<3.0.0,>=1.7.4->spaCy) (4.13.1)\n",
            "Requirement already satisfied: typing-inspection>=0.4.0 in /Users/guyarieli/miniconda3/envs/kubesim/lib/python3.10/site-packages (from pydantic!=1.8,!=1.8.1,<3.0.0,>=1.7.4->spaCy) (0.4.0)\n",
            "Collecting threadpoolctl>=3.1.0 (from scikit-learn>=1.0->bertopic)\n",
            "  Downloading threadpoolctl-3.6.0-py3-none-any.whl.metadata (13 kB)\n",
            "Collecting transformers<5.0.0,>=4.41.0 (from sentence-transformers>=0.4.1->bertopic)\n",
            "  Downloading transformers-4.51.3-py3-none-any.whl.metadata (38 kB)\n",
            "Collecting torch>=1.11.0 (from sentence-transformers>=0.4.1->bertopic)\n",
            "  Downloading torch-2.6.0-cp310-none-macosx_11_0_arm64.whl.metadata (28 kB)\n",
            "Collecting huggingface-hub>=0.20.0 (from sentence-transformers>=0.4.1->bertopic)\n",
            "  Downloading huggingface_hub-0.30.2-py3-none-any.whl.metadata (13 kB)\n",
            "Requirement already satisfied: Pillow in /Users/guyarieli/miniconda3/envs/kubesim/lib/python3.10/site-packages (from sentence-transformers>=0.4.1->bertopic) (11.1.0)\n",
            "Collecting wrapt (from smart-open>=1.8.1->gensim)\n",
            "  Downloading wrapt-1.17.2-cp310-cp310-macosx_11_0_arm64.whl.metadata (6.4 kB)\n",
            "Collecting blis<1.4.0,>=1.3.0 (from thinc<8.4.0,>=8.3.4->spaCy)\n",
            "  Downloading blis-1.3.0-cp310-cp310-macosx_11_0_arm64.whl.metadata (7.4 kB)\n",
            "Collecting confection<1.0.0,>=0.0.1 (from thinc<8.4.0,>=8.3.4->spaCy)\n",
            "  Downloading confection-0.1.5-py3-none-any.whl.metadata (19 kB)\n",
            "INFO: pip is looking at multiple versions of thinc to determine which version is compatible with other requirements. This could take a while.\n",
            "Collecting thinc<8.4.0,>=8.3.4 (from spaCy)\n",
            "  Downloading thinc-8.3.4-cp310-cp310-macosx_11_0_arm64.whl.metadata (15 kB)\n",
            "Collecting blis<1.3.0,>=1.2.0 (from thinc<8.4.0,>=8.3.4->spaCy)\n",
            "  Downloading blis-1.2.1-cp310-cp310-macosx_11_0_arm64.whl.metadata (7.4 kB)\n",
            "Collecting shellingham>=1.3.0 (from typer<1.0.0,>=0.3.0->spaCy)\n",
            "  Using cached shellingham-1.5.4-py2.py3-none-any.whl.metadata (3.5 kB)\n",
            "Requirement already satisfied: rich>=10.11.0 in /Users/guyarieli/miniconda3/envs/kubesim/lib/python3.10/site-packages (from typer<1.0.0,>=0.3.0->spaCy) (14.0.0)\n",
            "Requirement already satisfied: numba>=0.51.2 in /Users/guyarieli/miniconda3/envs/kubesim/lib/python3.10/site-packages (from umap-learn>=0.5.0->bertopic) (0.61.0)\n",
            "Collecting pynndescent>=0.5 (from umap-learn>=0.5.0->bertopic)\n",
            "  Downloading pynndescent-0.5.13-py3-none-any.whl.metadata (6.8 kB)\n",
            "Requirement already satisfied: astropy in /Users/guyarieli/miniconda3/envs/kubesim/lib/python3.10/site-packages (from vaex-astro<0.10,>=0.9.3->vaex) (6.1.7)\n",
            "Requirement already satisfied: aplus in /Users/guyarieli/miniconda3/envs/kubesim/lib/python3.10/site-packages (from vaex-core~=4.17.1->vaex) (0.11.0)\n",
            "Requirement already satisfied: tabulate>=0.8.3 in /Users/guyarieli/miniconda3/envs/kubesim/lib/python3.10/site-packages (from vaex-core~=4.17.1->vaex) (0.9.0)\n",
            "Requirement already satisfied: future>=0.15.2 in /Users/guyarieli/miniconda3/envs/kubesim/lib/python3.10/site-packages (from vaex-core~=4.17.1->vaex) (1.0.0)\n",
            "Requirement already satisfied: pyyaml in /Users/guyarieli/miniconda3/envs/kubesim/lib/python3.10/site-packages (from vaex-core~=4.17.1->vaex) (6.0.1)\n",
            "Requirement already satisfied: progressbar2 in /Users/guyarieli/miniconda3/envs/kubesim/lib/python3.10/site-packages (from vaex-core~=4.17.1->vaex) (4.5.0)\n",
            "Requirement already satisfied: cloudpickle in /Users/guyarieli/miniconda3/envs/kubesim/lib/python3.10/site-packages (from vaex-core~=4.17.1->vaex) (3.0.0)\n",
            "Requirement already satisfied: dask!=2022.4.0 in /Users/guyarieli/miniconda3/envs/kubesim/lib/python3.10/site-packages (from vaex-core~=4.17.1->vaex) (2025.3.0)\n",
            "Requirement already satisfied: nest-asyncio>=1.3.3 in /Users/guyarieli/miniconda3/envs/kubesim/lib/python3.10/site-packages (from vaex-core~=4.17.1->vaex) (1.5.8)\n",
            "Requirement already satisfied: pyarrow>=5.0.0 in /Users/guyarieli/miniconda3/envs/kubesim/lib/python3.10/site-packages (from vaex-core~=4.17.1->vaex) (19.0.1)\n",
            "Requirement already satisfied: frozendict!=2.2.0 in /Users/guyarieli/miniconda3/envs/kubesim/lib/python3.10/site-packages (from vaex-core~=4.17.1->vaex) (2.4.6)\n",
            "Requirement already satisfied: blake3 in /Users/guyarieli/miniconda3/envs/kubesim/lib/python3.10/site-packages (from vaex-core~=4.17.1->vaex) (1.0.4)\n",
            "Requirement already satisfied: filelock in /Users/guyarieli/miniconda3/envs/kubesim/lib/python3.10/site-packages (from vaex-core~=4.17.1->vaex) (3.18.0)\n",
            "Requirement already satisfied: h5py>=2.9 in /Users/guyarieli/miniconda3/envs/kubesim/lib/python3.10/site-packages (from vaex-hdf5<0.15,>=0.13.0->vaex) (3.13.0)\n",
            "Requirement already satisfied: bqplot>=0.10.1 in /Users/guyarieli/miniconda3/envs/kubesim/lib/python3.10/site-packages (from vaex-jupyter<0.9,>=0.8.2->vaex) (0.12.44)\n",
            "Requirement already satisfied: ipyvolume>=0.4 in /Users/guyarieli/miniconda3/envs/kubesim/lib/python3.10/site-packages (from vaex-jupyter<0.9,>=0.8.2->vaex) (0.6.3)\n",
            "Requirement already satisfied: ipyleaflet in /Users/guyarieli/miniconda3/envs/kubesim/lib/python3.10/site-packages (from vaex-jupyter<0.9,>=0.8.2->vaex) (0.19.2)\n",
            "Requirement already satisfied: ipympl in /Users/guyarieli/miniconda3/envs/kubesim/lib/python3.10/site-packages (from vaex-jupyter<0.9,>=0.8.2->vaex) (0.9.7)\n",
            "Requirement already satisfied: ipyvuetify<2,>=1.2.2 in /Users/guyarieli/miniconda3/envs/kubesim/lib/python3.10/site-packages (from vaex-jupyter<0.9,>=0.8.2->vaex) (1.11.1)\n",
            "Requirement already satisfied: xarray in /Users/guyarieli/miniconda3/envs/kubesim/lib/python3.10/site-packages (from vaex-jupyter<0.9,>=0.8.2->vaex) (2025.3.1)\n",
            "Requirement already satisfied: traitlets in /Users/guyarieli/miniconda3/envs/kubesim/lib/python3.10/site-packages (from vaex-ml<0.19,>=0.18.3->vaex) (5.14.0)\n",
            "Requirement already satisfied: tornado>4.1 in /Users/guyarieli/miniconda3/envs/kubesim/lib/python3.10/site-packages (from vaex-server~=0.9.0->vaex) (6.4)\n",
            "Requirement already satisfied: cachetools in /Users/guyarieli/miniconda3/envs/kubesim/lib/python3.10/site-packages (from vaex-server~=0.9.0->vaex) (5.5.2)\n",
            "Requirement already satisfied: fastapi in /Users/guyarieli/miniconda3/envs/kubesim/lib/python3.10/site-packages (from vaex-server~=0.9.0->vaex) (0.115.12)\n",
            "Requirement already satisfied: uvicorn[standard] in /Users/guyarieli/miniconda3/envs/kubesim/lib/python3.10/site-packages (from vaex-server~=0.9.0->vaex) (0.34.0)\n",
            "Requirement already satisfied: matplotlib>=1.3.1 in /Users/guyarieli/miniconda3/envs/kubesim/lib/python3.10/site-packages (from vaex-viz<0.6,>=0.5.4->vaex) (3.10.1)\n",
            "Collecting cloudpathlib<1.0.0,>=0.7.0 (from weasel<0.5.0,>=0.1.0->spaCy)\n",
            "  Downloading cloudpathlib-0.21.0-py3-none-any.whl.metadata (14 kB)\n",
            "Requirement already satisfied: MarkupSafe>=2.0 in /Users/guyarieli/miniconda3/envs/kubesim/lib/python3.10/site-packages (from jinja2->spaCy) (2.1.3)\n",
            "Requirement already satisfied: ipywidgets<9,>=7.5.0 in /Users/guyarieli/miniconda3/envs/kubesim/lib/python3.10/site-packages (from bqplot>=0.10.1->vaex-jupyter<0.9,>=0.8.2->vaex) (8.1.1)\n",
            "Requirement already satisfied: traittypes>=0.0.6 in /Users/guyarieli/miniconda3/envs/kubesim/lib/python3.10/site-packages (from bqplot>=0.10.1->vaex-jupyter<0.9,>=0.8.2->vaex) (0.2.1)\n",
            "Requirement already satisfied: fsspec>=2021.09.0 in /Users/guyarieli/miniconda3/envs/kubesim/lib/python3.10/site-packages (from dask!=2022.4.0->vaex-core~=4.17.1->vaex) (2025.3.2)\n",
            "Requirement already satisfied: partd>=1.4.0 in /Users/guyarieli/miniconda3/envs/kubesim/lib/python3.10/site-packages (from dask!=2022.4.0->vaex-core~=4.17.1->vaex) (1.4.2)\n",
            "Requirement already satisfied: toolz>=0.10.0 in /Users/guyarieli/miniconda3/envs/kubesim/lib/python3.10/site-packages (from dask!=2022.4.0->vaex-core~=4.17.1->vaex) (1.0.0)\n",
            "Requirement already satisfied: importlib_metadata>=4.13.0 in /Users/guyarieli/miniconda3/envs/kubesim/lib/python3.10/site-packages (from dask!=2022.4.0->vaex-core~=4.17.1->vaex) (8.6.1)\n",
            "Requirement already satisfied: ipywebrtc in /Users/guyarieli/miniconda3/envs/kubesim/lib/python3.10/site-packages (from ipyvolume>=0.4->vaex-jupyter<0.9,>=0.8.2->vaex) (0.6.0)\n",
            "Requirement already satisfied: ipyvue>=1.7.0 in /Users/guyarieli/miniconda3/envs/kubesim/lib/python3.10/site-packages (from ipyvolume>=0.4->vaex-jupyter<0.9,>=0.8.2->vaex) (1.11.2)\n",
            "Requirement already satisfied: pythreejs>=2.4.0 in /Users/guyarieli/miniconda3/envs/kubesim/lib/python3.10/site-packages (from ipyvolume>=0.4->vaex-jupyter<0.9,>=0.8.2->vaex) (2.4.2)\n",
            "Collecting marisa-trie>=1.1.0 (from language-data>=1.2->langcodes<4.0.0,>=3.2.0->spaCy)\n",
            "  Downloading marisa_trie-1.2.1-cp310-cp310-macosx_11_0_arm64.whl.metadata (9.0 kB)\n",
            "Requirement already satisfied: contourpy>=1.0.1 in /Users/guyarieli/miniconda3/envs/kubesim/lib/python3.10/site-packages (from matplotlib>=1.3.1->vaex-viz<0.6,>=0.5.4->vaex) (1.3.1)\n",
            "Requirement already satisfied: cycler>=0.10 in /Users/guyarieli/miniconda3/envs/kubesim/lib/python3.10/site-packages (from matplotlib>=1.3.1->vaex-viz<0.6,>=0.5.4->vaex) (0.12.1)\n",
            "Requirement already satisfied: fonttools>=4.22.0 in /Users/guyarieli/miniconda3/envs/kubesim/lib/python3.10/site-packages (from matplotlib>=1.3.1->vaex-viz<0.6,>=0.5.4->vaex) (4.57.0)\n",
            "Requirement already satisfied: kiwisolver>=1.3.1 in /Users/guyarieli/miniconda3/envs/kubesim/lib/python3.10/site-packages (from matplotlib>=1.3.1->vaex-viz<0.6,>=0.5.4->vaex) (1.4.8)\n",
            "Requirement already satisfied: pyparsing>=2.3.1 in /Users/guyarieli/miniconda3/envs/kubesim/lib/python3.10/site-packages (from matplotlib>=1.3.1->vaex-viz<0.6,>=0.5.4->vaex) (3.2.3)\n",
            "Requirement already satisfied: llvmlite<0.45,>=0.44.0dev0 in /Users/guyarieli/miniconda3/envs/kubesim/lib/python3.10/site-packages (from numba>=0.51.2->umap-learn>=0.5.0->bertopic) (0.44.0)\n",
            "Requirement already satisfied: markdown-it-py>=2.2.0 in /Users/guyarieli/miniconda3/envs/kubesim/lib/python3.10/site-packages (from rich>=10.11.0->typer<1.0.0,>=0.3.0->spaCy) (3.0.0)\n",
            "Requirement already satisfied: pygments<3.0.0,>=2.13.0 in /Users/guyarieli/miniconda3/envs/kubesim/lib/python3.10/site-packages (from rich>=10.11.0->typer<1.0.0,>=0.3.0->spaCy) (2.17.2)\n",
            "Requirement already satisfied: networkx in /Users/guyarieli/miniconda3/envs/kubesim/lib/python3.10/site-packages (from torch>=1.11.0->sentence-transformers>=0.4.1->bertopic) (3.4.2)\n",
            "Collecting sympy==1.13.1 (from torch>=1.11.0->sentence-transformers>=0.4.1->bertopic)\n",
            "  Downloading sympy-1.13.1-py3-none-any.whl.metadata (12 kB)\n",
            "Collecting mpmath<1.4,>=1.1.0 (from sympy==1.13.1->torch>=1.11.0->sentence-transformers>=0.4.1->bertopic)\n",
            "  Using cached mpmath-1.3.0-py3-none-any.whl.metadata (8.6 kB)\n",
            "Collecting tokenizers<0.22,>=0.21 (from transformers<5.0.0,>=4.41.0->sentence-transformers>=0.4.1->bertopic)\n",
            "  Downloading tokenizers-0.21.1-cp39-abi3-macosx_11_0_arm64.whl.metadata (6.8 kB)\n",
            "Collecting safetensors>=0.4.3 (from transformers<5.0.0,>=4.41.0->sentence-transformers>=0.4.1->bertopic)\n",
            "  Downloading safetensors-0.5.3-cp38-abi3-macosx_11_0_arm64.whl.metadata (3.8 kB)\n",
            "Requirement already satisfied: pyerfa>=2.0.1.1 in /Users/guyarieli/miniconda3/envs/kubesim/lib/python3.10/site-packages (from astropy->vaex-astro<0.10,>=0.9.3->vaex) (2.0.1.5)\n",
            "Requirement already satisfied: astropy-iers-data>=0.2024.10.28.0.34.7 in /Users/guyarieli/miniconda3/envs/kubesim/lib/python3.10/site-packages (from astropy->vaex-astro<0.10,>=0.9.3->vaex) (0.2025.4.7.0.35.30)\n",
            "Requirement already satisfied: starlette<0.47.0,>=0.40.0 in /Users/guyarieli/miniconda3/envs/kubesim/lib/python3.10/site-packages (from fastapi->vaex-server~=0.9.0->vaex) (0.46.1)\n",
            "Requirement already satisfied: branca>=0.5.0 in /Users/guyarieli/miniconda3/envs/kubesim/lib/python3.10/site-packages (from ipyleaflet->vaex-jupyter<0.9,>=0.8.2->vaex) (0.8.1)\n",
            "Requirement already satisfied: jupyter-leaflet<0.20,>=0.19 in /Users/guyarieli/miniconda3/envs/kubesim/lib/python3.10/site-packages (from ipyleaflet->vaex-jupyter<0.9,>=0.8.2->vaex) (0.19.2)\n",
            "Requirement already satisfied: xyzservices>=2021.8.1 in /Users/guyarieli/miniconda3/envs/kubesim/lib/python3.10/site-packages (from ipyleaflet->vaex-jupyter<0.9,>=0.8.2->vaex) (2025.1.0)\n",
            "Requirement already satisfied: ipython<10 in /Users/guyarieli/miniconda3/envs/kubesim/lib/python3.10/site-packages (from ipympl->vaex-jupyter<0.9,>=0.8.2->vaex) (8.18.1)\n",
            "Requirement already satisfied: python-utils>=3.8.1 in /Users/guyarieli/miniconda3/envs/kubesim/lib/python3.10/site-packages (from progressbar2->vaex-core~=4.17.1->vaex) (3.9.1)\n",
            "Requirement already satisfied: h11>=0.8 in /Users/guyarieli/miniconda3/envs/kubesim/lib/python3.10/site-packages (from uvicorn[standard]->vaex-server~=0.9.0->vaex) (0.14.0)\n",
            "Requirement already satisfied: httptools>=0.6.3 in /Users/guyarieli/miniconda3/envs/kubesim/lib/python3.10/site-packages (from uvicorn[standard]->vaex-server~=0.9.0->vaex) (0.6.4)\n",
            "Requirement already satisfied: python-dotenv>=0.13 in /Users/guyarieli/miniconda3/envs/kubesim/lib/python3.10/site-packages (from uvicorn[standard]->vaex-server~=0.9.0->vaex) (1.1.0)\n",
            "Requirement already satisfied: uvloop!=0.15.0,!=0.15.1,>=0.14.0 in /Users/guyarieli/miniconda3/envs/kubesim/lib/python3.10/site-packages (from uvicorn[standard]->vaex-server~=0.9.0->vaex) (0.21.0)\n",
            "Requirement already satisfied: watchfiles>=0.13 in /Users/guyarieli/miniconda3/envs/kubesim/lib/python3.10/site-packages (from uvicorn[standard]->vaex-server~=0.9.0->vaex) (1.0.4)\n",
            "Requirement already satisfied: websockets>=10.4 in /Users/guyarieli/miniconda3/envs/kubesim/lib/python3.10/site-packages (from uvicorn[standard]->vaex-server~=0.9.0->vaex) (15.0.1)\n",
            "Requirement already satisfied: zipp>=3.20 in /Users/guyarieli/miniconda3/envs/kubesim/lib/python3.10/site-packages (from importlib_metadata>=4.13.0->dask!=2022.4.0->vaex-core~=4.17.1->vaex) (3.21.0)\n",
            "Requirement already satisfied: decorator in /Users/guyarieli/miniconda3/envs/kubesim/lib/python3.10/site-packages (from ipython<10->ipympl->vaex-jupyter<0.9,>=0.8.2->vaex) (5.1.1)\n",
            "Requirement already satisfied: jedi>=0.16 in /Users/guyarieli/miniconda3/envs/kubesim/lib/python3.10/site-packages (from ipython<10->ipympl->vaex-jupyter<0.9,>=0.8.2->vaex) (0.19.1)\n",
            "Requirement already satisfied: matplotlib-inline in /Users/guyarieli/miniconda3/envs/kubesim/lib/python3.10/site-packages (from ipython<10->ipympl->vaex-jupyter<0.9,>=0.8.2->vaex) (0.1.6)\n",
            "Requirement already satisfied: prompt-toolkit<3.1.0,>=3.0.41 in /Users/guyarieli/miniconda3/envs/kubesim/lib/python3.10/site-packages (from ipython<10->ipympl->vaex-jupyter<0.9,>=0.8.2->vaex) (3.0.43)\n",
            "Requirement already satisfied: stack-data in /Users/guyarieli/miniconda3/envs/kubesim/lib/python3.10/site-packages (from ipython<10->ipympl->vaex-jupyter<0.9,>=0.8.2->vaex) (0.6.3)\n",
            "Requirement already satisfied: exceptiongroup in /Users/guyarieli/miniconda3/envs/kubesim/lib/python3.10/site-packages (from ipython<10->ipympl->vaex-jupyter<0.9,>=0.8.2->vaex) (1.2.0)\n",
            "Requirement already satisfied: pexpect>4.3 in /Users/guyarieli/miniconda3/envs/kubesim/lib/python3.10/site-packages (from ipython<10->ipympl->vaex-jupyter<0.9,>=0.8.2->vaex) (4.9.0)\n",
            "Requirement already satisfied: comm>=0.1.3 in /Users/guyarieli/miniconda3/envs/kubesim/lib/python3.10/site-packages (from ipywidgets<9,>=7.5.0->bqplot>=0.10.1->vaex-jupyter<0.9,>=0.8.2->vaex) (0.2.0)\n",
            "Requirement already satisfied: widgetsnbextension~=4.0.9 in /Users/guyarieli/miniconda3/envs/kubesim/lib/python3.10/site-packages (from ipywidgets<9,>=7.5.0->bqplot>=0.10.1->vaex-jupyter<0.9,>=0.8.2->vaex) (4.0.9)\n",
            "Requirement already satisfied: jupyterlab-widgets~=3.0.9 in /Users/guyarieli/miniconda3/envs/kubesim/lib/python3.10/site-packages (from ipywidgets<9,>=7.5.0->bqplot>=0.10.1->vaex-jupyter<0.9,>=0.8.2->vaex) (3.0.9)\n",
            "Requirement already satisfied: mdurl~=0.1 in /Users/guyarieli/miniconda3/envs/kubesim/lib/python3.10/site-packages (from markdown-it-py>=2.2.0->rich>=10.11.0->typer<1.0.0,>=0.3.0->spaCy) (0.1.2)\n",
            "Requirement already satisfied: locket in /Users/guyarieli/miniconda3/envs/kubesim/lib/python3.10/site-packages (from partd>=1.4.0->dask!=2022.4.0->vaex-core~=4.17.1->vaex) (1.0.0)\n",
            "Requirement already satisfied: ipydatawidgets>=1.1.1 in /Users/guyarieli/miniconda3/envs/kubesim/lib/python3.10/site-packages (from pythreejs>=2.4.0->ipyvolume>=0.4->vaex-jupyter<0.9,>=0.8.2->vaex) (4.3.5)\n",
            "Requirement already satisfied: anyio<5,>=3.6.2 in /Users/guyarieli/miniconda3/envs/kubesim/lib/python3.10/site-packages (from starlette<0.47.0,>=0.40.0->fastapi->vaex-server~=0.9.0->vaex) (4.1.0)\n",
            "Requirement already satisfied: sniffio>=1.1 in /Users/guyarieli/miniconda3/envs/kubesim/lib/python3.10/site-packages (from anyio<5,>=3.6.2->starlette<0.47.0,>=0.40.0->fastapi->vaex-server~=0.9.0->vaex) (1.3.0)\n",
            "Requirement already satisfied: parso<0.9.0,>=0.8.3 in /Users/guyarieli/miniconda3/envs/kubesim/lib/python3.10/site-packages (from jedi>=0.16->ipython<10->ipympl->vaex-jupyter<0.9,>=0.8.2->vaex) (0.8.3)\n",
            "Requirement already satisfied: ptyprocess>=0.5 in /Users/guyarieli/miniconda3/envs/kubesim/lib/python3.10/site-packages (from pexpect>4.3->ipython<10->ipympl->vaex-jupyter<0.9,>=0.8.2->vaex) (0.7.0)\n",
            "Requirement already satisfied: wcwidth in /Users/guyarieli/miniconda3/envs/kubesim/lib/python3.10/site-packages (from prompt-toolkit<3.1.0,>=3.0.41->ipython<10->ipympl->vaex-jupyter<0.9,>=0.8.2->vaex) (0.2.12)\n",
            "Requirement already satisfied: executing>=1.2.0 in /Users/guyarieli/miniconda3/envs/kubesim/lib/python3.10/site-packages (from stack-data->ipython<10->ipympl->vaex-jupyter<0.9,>=0.8.2->vaex) (2.0.1)\n",
            "Requirement already satisfied: asttokens>=2.1.0 in /Users/guyarieli/miniconda3/envs/kubesim/lib/python3.10/site-packages (from stack-data->ipython<10->ipympl->vaex-jupyter<0.9,>=0.8.2->vaex) (2.4.1)\n",
            "Requirement already satisfied: pure-eval in /Users/guyarieli/miniconda3/envs/kubesim/lib/python3.10/site-packages (from stack-data->ipython<10->ipympl->vaex-jupyter<0.9,>=0.8.2->vaex) (0.2.2)\n",
            "Downloading gensim-4.3.3-cp310-cp310-macosx_11_0_arm64.whl (24.0 MB)\n",
            "\u001b[2K   \u001b[90m━━━━━━━━━━━━━━━━━━━━━━━━━━━━━━━━━━━━━━━━\u001b[0m \u001b[32m24.0/24.0 MB\u001b[0m \u001b[31m12.6 MB/s\u001b[0m eta \u001b[36m0:00:00\u001b[0m00:01\u001b[0m00:01\u001b[0m\n",
            "\u001b[?25hDownloading bertopic-0.17.0-py3-none-any.whl (150 kB)\n",
            "\u001b[2K   \u001b[90m━━━━━━━━━━━━━━━━━━━━━━━━━━━━━━━━━━━━━━━━\u001b[0m \u001b[32m150.6/150.6 kB\u001b[0m \u001b[31m15.7 MB/s\u001b[0m eta \u001b[36m0:00:00\u001b[0m\n",
            "\u001b[?25hDownloading spacy-3.8.5-cp310-cp310-macosx_11_0_arm64.whl (6.3 MB)\n",
            "\u001b[2K   \u001b[90m━━━━━━━━━━━━━━━━━━━━━━━━━━━━━━━━━━━━━━━━\u001b[0m \u001b[32m6.3/6.3 MB\u001b[0m \u001b[31m12.0 MB/s\u001b[0m eta \u001b[36m0:00:00\u001b[0m00:01\u001b[0m00:01\u001b[0m\n",
            "\u001b[?25hDownloading nltk-3.9.1-py3-none-any.whl (1.5 MB)\n",
            "\u001b[2K   \u001b[90m━━━━━━━━━━━━━━━━━━━━━━━━━━━━━━━━━━━━━━━━\u001b[0m \u001b[32m1.5/1.5 MB\u001b[0m \u001b[31m29.1 MB/s\u001b[0m eta \u001b[36m0:00:00\u001b[0ma \u001b[36m0:00:01\u001b[0m\n",
            "\u001b[?25hDownloading catalogue-2.0.10-py3-none-any.whl (17 kB)\n",
            "Downloading cymem-2.0.11-cp310-cp310-macosx_11_0_arm64.whl (41 kB)\n",
            "\u001b[2K   \u001b[90m━━━━━━━━━━━━━━━━━━━━━━━━━━━━━━━━━━━━━━━━\u001b[0m \u001b[32m41.7/41.7 kB\u001b[0m \u001b[31m3.5 MB/s\u001b[0m eta \u001b[36m0:00:00\u001b[0m\n",
            "\u001b[?25hUsing cached joblib-1.4.2-py3-none-any.whl (301 kB)\n",
            "Downloading langcodes-3.5.0-py3-none-any.whl (182 kB)\n",
            "\u001b[2K   \u001b[90m━━━━━━━━━━━━━━━━━━━━━━━━━━━━━━━━━━━━━━━━\u001b[0m \u001b[32m183.0/183.0 kB\u001b[0m \u001b[31m11.6 MB/s\u001b[0m eta \u001b[36m0:00:00\u001b[0m\n",
            "\u001b[?25hDownloading murmurhash-1.0.12-cp310-cp310-macosx_11_0_arm64.whl (26 kB)\n",
            "Downloading preshed-3.0.9-cp310-cp310-macosx_11_0_arm64.whl (127 kB)\n",
            "\u001b[2K   \u001b[90m━━━━━━━━━━━━━━━━━━━━━━━━━━━━━━━━━━━━━━━━\u001b[0m \u001b[32m127.8/127.8 kB\u001b[0m \u001b[31m11.2 MB/s\u001b[0m eta \u001b[36m0:00:00\u001b[0m\n",
            "\u001b[?25hDownloading regex-2024.11.6-cp310-cp310-macosx_11_0_arm64.whl (284 kB)\n",
            "\u001b[2K   \u001b[90m━━━━━━━━━━━━━━━━━━━━━━━━━━━━━━━━━━━━━━━━\u001b[0m \u001b[32m284.6/284.6 kB\u001b[0m \u001b[31m15.0 MB/s\u001b[0m eta \u001b[36m0:00:00\u001b[0m\n",
            "\u001b[?25hDownloading scikit_learn-1.6.1-cp310-cp310-macosx_12_0_arm64.whl (11.1 MB)\n",
            "\u001b[2K   \u001b[90m━━━━━━━━━━━━━━━━━━━━━━━━━━━━━━━━━━━━━━━━\u001b[0m \u001b[32m11.1/11.1 MB\u001b[0m \u001b[31m12.3 MB/s\u001b[0m eta \u001b[36m0:00:00\u001b[0m00:01\u001b[0m00:01\u001b[0m\n",
            "\u001b[?25hDownloading scipy-1.13.1-cp310-cp310-macosx_12_0_arm64.whl (30.3 MB)\n",
            "\u001b[2K   \u001b[90m━━━━━━━━━━━━━━━━━━━━━━━━━━━━━━━━━━━━━━━━\u001b[0m \u001b[32m30.3/30.3 MB\u001b[0m \u001b[31m11.7 MB/s\u001b[0m eta \u001b[36m0:00:00\u001b[0m00:01\u001b[0m00:01\u001b[0m\n",
            "\u001b[?25hDownloading sentence_transformers-4.0.2-py3-none-any.whl (340 kB)\n",
            "\u001b[2K   \u001b[90m━━━━━━━━━━━━━━━━━━━━━━━━━━━━━━━━━━━━━━━━\u001b[0m \u001b[32m340.6/340.6 kB\u001b[0m \u001b[31m16.9 MB/s\u001b[0m eta \u001b[36m0:00:00\u001b[0m\n",
            "\u001b[?25hDownloading smart_open-7.1.0-py3-none-any.whl (61 kB)\n",
            "\u001b[2K   \u001b[90m━━━━━━━━━━━━━━━━━━━━━━━━━━━━━━━━━━━━━━━━\u001b[0m \u001b[32m61.7/61.7 kB\u001b[0m \u001b[31m4.9 MB/s\u001b[0m eta \u001b[36m0:00:00\u001b[0m\n",
            "\u001b[?25hDownloading spacy_legacy-3.0.12-py2.py3-none-any.whl (29 kB)\n",
            "Downloading spacy_loggers-1.0.5-py3-none-any.whl (22 kB)\n",
            "Downloading srsly-2.5.1-cp310-cp310-macosx_11_0_arm64.whl (634 kB)\n",
            "\u001b[2K   \u001b[90m━━━━━━━━━━━━━━━━━━━━━━━━━━━━━━━━━━━━━━━━\u001b[0m \u001b[32m634.4/634.4 kB\u001b[0m \u001b[31m21.2 MB/s\u001b[0m eta \u001b[36m0:00:00\u001b[0m\n",
            "\u001b[?25hDownloading thinc-8.3.4-cp310-cp310-macosx_11_0_arm64.whl (779 kB)\n",
            "\u001b[2K   \u001b[90m━━━━━━━━━━━━━━━━━━━━━━━━━━━━━━━━━━━━━━━━\u001b[0m \u001b[32m779.4/779.4 kB\u001b[0m \u001b[31m43.3 MB/s\u001b[0m eta \u001b[36m0:00:00\u001b[0m\n",
            "\u001b[?25hDownloading typer-0.15.2-py3-none-any.whl (45 kB)\n",
            "\u001b[2K   \u001b[90m━━━━━━━━━━━━━━━━━━━━━━━━━━━━━━━━━━━━━━━━\u001b[0m \u001b[32m45.1/45.1 kB\u001b[0m \u001b[31m3.4 MB/s\u001b[0m eta \u001b[36m0:00:00\u001b[0m\n",
            "\u001b[?25hDownloading umap_learn-0.5.7-py3-none-any.whl (88 kB)\n",
            "\u001b[2K   \u001b[90m━━━━━━━━━━━━━━━━━━━━━━━━━━━━━━━━━━━━━━━━\u001b[0m \u001b[32m88.8/88.8 kB\u001b[0m \u001b[31m5.5 MB/s\u001b[0m eta \u001b[36m0:00:00\u001b[0m\n",
            "\u001b[?25hDownloading wasabi-1.1.3-py3-none-any.whl (27 kB)\n",
            "Downloading weasel-0.4.1-py3-none-any.whl (50 kB)\n",
            "\u001b[2K   \u001b[90m━━━━━━━━━━━━━━━━━━━━━━━━━━━━━━━━━━━━━━━━\u001b[0m \u001b[32m50.3/50.3 kB\u001b[0m \u001b[31m4.9 MB/s\u001b[0m eta \u001b[36m0:00:00\u001b[0m\n",
            "\u001b[?25hDownloading blis-1.2.1-cp310-cp310-macosx_11_0_arm64.whl (1.3 MB)\n",
            "\u001b[2K   \u001b[90m━━━━━━━━━━━━━━━━━━━━━━━━━━━━━━━━━━━━━━━━\u001b[0m \u001b[32m1.3/1.3 MB\u001b[0m \u001b[31m29.0 MB/s\u001b[0m eta \u001b[36m0:00:00\u001b[0m00:01\u001b[0m\n",
            "\u001b[?25hDownloading cloudpathlib-0.21.0-py3-none-any.whl (52 kB)\n",
            "\u001b[2K   \u001b[90m━━━━━━━━━━━━━━━━━━━━━━━━━━━━━━━━━━━━━━━━\u001b[0m \u001b[32m52.7/52.7 kB\u001b[0m \u001b[31m6.5 MB/s\u001b[0m eta \u001b[36m0:00:00\u001b[0m\n",
            "\u001b[?25hDownloading confection-0.1.5-py3-none-any.whl (35 kB)\n",
            "Downloading huggingface_hub-0.30.2-py3-none-any.whl (481 kB)\n",
            "\u001b[2K   \u001b[90m━━━━━━━━━━━━━━━━━━━━━━━━━━━━━━━━━━━━━━━━\u001b[0m \u001b[32m481.4/481.4 kB\u001b[0m \u001b[31m14.9 MB/s\u001b[0m eta \u001b[36m0:00:00\u001b[0m\n",
            "\u001b[?25hDownloading language_data-1.3.0-py3-none-any.whl (5.4 MB)\n",
            "\u001b[2K   \u001b[90m━━━━━━━━━━━━━━━━━━━━━━━━━━━━━━━━━━━━━━━━\u001b[0m \u001b[32m5.4/5.4 MB\u001b[0m \u001b[31m13.1 MB/s\u001b[0m eta \u001b[36m0:00:00\u001b[0ma \u001b[36m0:00:01\u001b[0m\n",
            "\u001b[?25hDownloading pynndescent-0.5.13-py3-none-any.whl (56 kB)\n",
            "\u001b[2K   \u001b[90m━━━━━━━━━━━━━━━━━━━━━━━━━━━━━━━━━━━━━━━━\u001b[0m \u001b[32m56.9/56.9 kB\u001b[0m \u001b[31m5.1 MB/s\u001b[0m eta \u001b[36m0:00:00\u001b[0m\n",
            "\u001b[?25hUsing cached shellingham-1.5.4-py2.py3-none-any.whl (9.8 kB)\n",
            "Downloading threadpoolctl-3.6.0-py3-none-any.whl (18 kB)\n",
            "Downloading torch-2.6.0-cp310-none-macosx_11_0_arm64.whl (66.5 MB)\n",
            "\u001b[2K   \u001b[90m━━━━━━━━━━━━━━━━━━━━━━━━━━━━━━━━━━━━━━━━\u001b[0m \u001b[32m66.5/66.5 MB\u001b[0m \u001b[31m12.1 MB/s\u001b[0m eta \u001b[36m0:00:00\u001b[0m00:01\u001b[0m00:01\u001b[0m\n",
            "\u001b[?25hDownloading sympy-1.13.1-py3-none-any.whl (6.2 MB)\n",
            "\u001b[2K   \u001b[90m━━━━━━━━━━━━━━━━━━━━━━━━━━━━━━━━━━━━━━━━\u001b[0m \u001b[32m6.2/6.2 MB\u001b[0m \u001b[31m14.2 MB/s\u001b[0m eta \u001b[36m0:00:00\u001b[0ma \u001b[36m0:00:01\u001b[0m\n",
            "\u001b[?25hDownloading transformers-4.51.3-py3-none-any.whl (10.4 MB)\n",
            "\u001b[2K   \u001b[90m━━━━━━━━━━━━━━━━━━━━━━━━━━━━━━━━━━━━━━━━\u001b[0m \u001b[32m10.4/10.4 MB\u001b[0m \u001b[31m11.9 MB/s\u001b[0m eta \u001b[36m0:00:00\u001b[0m00:01\u001b[0m0:01\u001b[0m\n",
            "\u001b[?25hDownloading wrapt-1.17.2-cp310-cp310-macosx_11_0_arm64.whl (38 kB)\n",
            "Downloading marisa_trie-1.2.1-cp310-cp310-macosx_11_0_arm64.whl (174 kB)\n",
            "\u001b[2K   \u001b[90m━━━━━━━━━━━━━━━━━━━━━━━━━━━━━━━━━━━━━━━━\u001b[0m \u001b[32m174.7/174.7 kB\u001b[0m \u001b[31m12.4 MB/s\u001b[0m eta \u001b[36m0:00:00\u001b[0m\n",
            "\u001b[?25hDownloading safetensors-0.5.3-cp38-abi3-macosx_11_0_arm64.whl (418 kB)\n",
            "\u001b[2K   \u001b[90m━━━━━━━━━━━━━━━━━━━━━━━━━━━━━━━━━━━━━━━━\u001b[0m \u001b[32m418.4/418.4 kB\u001b[0m \u001b[31m19.3 MB/s\u001b[0m eta \u001b[36m0:00:00\u001b[0m\n",
            "\u001b[?25hDownloading tokenizers-0.21.1-cp39-abi3-macosx_11_0_arm64.whl (2.7 MB)\n",
            "\u001b[2K   \u001b[90m━━━━━━━━━━━━━━━━━━━━━━━━━━━━━━━━━━━━━━━━\u001b[0m \u001b[32m2.7/2.7 MB\u001b[0m \u001b[31m24.4 MB/s\u001b[0m eta \u001b[36m0:00:00\u001b[0ma \u001b[36m0:00:01\u001b[0m\n",
            "\u001b[?25hUsing cached mpmath-1.3.0-py3-none-any.whl (536 kB)\n",
            "Building wheels for collected packages: afinn, hdbscan\n",
            "  Building wheel for afinn (pyproject.toml) ... \u001b[?25ldone\n",
            "\u001b[?25h  Created wheel for afinn: filename=afinn-0.1-py3-none-any.whl size=53468 sha256=8007ea55b043d6c08bf1016b2058493f50f9248c56378b1924fd69b863deaa8a\n",
            "  Stored in directory: /Users/guyarieli/Library/Caches/pip/wheels/b0/05/90/43f79196199a138fb486902fceca30a2d1b5228e6d2db8eb90\n",
            "  Building wheel for hdbscan (pyproject.toml) ... \u001b[?25ldone\n",
            "\u001b[?25h  Created wheel for hdbscan: filename=hdbscan-0.8.40-cp310-cp310-macosx_11_0_arm64.whl size=745519 sha256=4750fd64dc19da351403c926f0085b460c2b327522ea22da34ec0fc132c91e57\n",
            "  Stored in directory: /Users/guyarieli/Library/Caches/pip/wheels/54/ba/75/e1883bf767fda8494225c99b81fbf5e977e23459d35e93b301\n",
            "Successfully built afinn hdbscan\n",
            "Installing collected packages: mpmath, cymem, afinn, wrapt, wasabi, threadpoolctl, sympy, spacy-loggers, spacy-legacy, shellingham, scipy, safetensors, regex, murmurhash, marisa-trie, joblib, cloudpathlib, catalogue, blis, torch, srsly, smart-open, scikit-learn, preshed, nltk, language-data, huggingface-hub, typer, tokenizers, pynndescent, langcodes, hdbscan, gensim, confection, weasel, umap-learn, transformers, thinc, spaCy, sentence-transformers, bertopic\n",
            "  Attempting uninstall: scipy\n",
            "    Found existing installation: scipy 1.15.2\n",
            "    Uninstalling scipy-1.15.2:\n",
            "      Successfully uninstalled scipy-1.15.2\n",
            "Successfully installed afinn-0.1 bertopic-0.17.0 blis-1.2.1 catalogue-2.0.10 cloudpathlib-0.21.0 confection-0.1.5 cymem-2.0.11 gensim-4.3.3 hdbscan-0.8.40 huggingface-hub-0.30.2 joblib-1.4.2 langcodes-3.5.0 language-data-1.3.0 marisa-trie-1.2.1 mpmath-1.3.0 murmurhash-1.0.12 nltk-3.9.1 preshed-3.0.9 pynndescent-0.5.13 regex-2024.11.6 safetensors-0.5.3 scikit-learn-1.6.1 scipy-1.13.1 sentence-transformers-4.0.2 shellingham-1.5.4 smart-open-7.1.0 spaCy-3.8.5 spacy-legacy-3.0.12 spacy-loggers-1.0.5 srsly-2.5.1 sympy-1.13.1 thinc-8.3.4 threadpoolctl-3.6.0 tokenizers-0.21.1 torch-2.6.0 transformers-4.51.3 typer-0.15.2 umap-learn-0.5.7 wasabi-1.1.3 weasel-0.4.1 wrapt-1.17.2\n",
            "Collecting en-core-web-lg==3.8.0\n",
            "  Downloading https://github.com/explosion/spacy-models/releases/download/en_core_web_lg-3.8.0/en_core_web_lg-3.8.0-py3-none-any.whl (400.7 MB)\n",
            "\u001b[2K     \u001b[90m━━━━━━━━━━━━━━━━━━━━━━━━━━━━━━━━━━━━━━━\u001b[0m \u001b[32m400.7/400.7 MB\u001b[0m \u001b[31m7.7 MB/s\u001b[0m eta \u001b[36m0:00:00\u001b[0m00:01\u001b[0m00:01\u001b[0m\n",
            "\u001b[?25hInstalling collected packages: en-core-web-lg\n",
            "Successfully installed en-core-web-lg-3.8.0\n",
            "\u001b[38;5;2m✔ Download and installation successful\u001b[0m\n",
            "You can now load the package via spacy.load('en_core_web_lg')\n",
            "Requirement already satisfied: transformers in /Users/guyarieli/miniconda3/envs/kubesim/lib/python3.10/site-packages (4.51.3)\n",
            "Requirement already satisfied: filelock in /Users/guyarieli/miniconda3/envs/kubesim/lib/python3.10/site-packages (from transformers) (3.18.0)\n",
            "Requirement already satisfied: huggingface-hub<1.0,>=0.30.0 in /Users/guyarieli/miniconda3/envs/kubesim/lib/python3.10/site-packages (from transformers) (0.30.2)\n",
            "Requirement already satisfied: numpy>=1.17 in /Users/guyarieli/miniconda3/envs/kubesim/lib/python3.10/site-packages (from transformers) (1.26.2)\n",
            "Requirement already satisfied: packaging>=20.0 in /Users/guyarieli/miniconda3/envs/kubesim/lib/python3.10/site-packages (from transformers) (23.2)\n",
            "Requirement already satisfied: pyyaml>=5.1 in /Users/guyarieli/miniconda3/envs/kubesim/lib/python3.10/site-packages (from transformers) (6.0.1)\n",
            "Requirement already satisfied: regex!=2019.12.17 in /Users/guyarieli/miniconda3/envs/kubesim/lib/python3.10/site-packages (from transformers) (2024.11.6)\n",
            "Requirement already satisfied: requests in /Users/guyarieli/miniconda3/envs/kubesim/lib/python3.10/site-packages (from transformers) (2.31.0)\n",
            "Requirement already satisfied: tokenizers<0.22,>=0.21 in /Users/guyarieli/miniconda3/envs/kubesim/lib/python3.10/site-packages (from transformers) (0.21.1)\n",
            "Requirement already satisfied: safetensors>=0.4.3 in /Users/guyarieli/miniconda3/envs/kubesim/lib/python3.10/site-packages (from transformers) (0.5.3)\n",
            "Requirement already satisfied: tqdm>=4.27 in /Users/guyarieli/miniconda3/envs/kubesim/lib/python3.10/site-packages (from transformers) (4.67.1)\n",
            "Requirement already satisfied: fsspec>=2023.5.0 in /Users/guyarieli/miniconda3/envs/kubesim/lib/python3.10/site-packages (from huggingface-hub<1.0,>=0.30.0->transformers) (2025.3.2)\n",
            "Requirement already satisfied: typing-extensions>=3.7.4.3 in /Users/guyarieli/miniconda3/envs/kubesim/lib/python3.10/site-packages (from huggingface-hub<1.0,>=0.30.0->transformers) (4.13.1)\n",
            "Requirement already satisfied: charset-normalizer<4,>=2 in /Users/guyarieli/miniconda3/envs/kubesim/lib/python3.10/site-packages (from requests->transformers) (3.3.2)\n",
            "Requirement already satisfied: idna<4,>=2.5 in /Users/guyarieli/miniconda3/envs/kubesim/lib/python3.10/site-packages (from requests->transformers) (3.6)\n",
            "Requirement already satisfied: urllib3<3,>=1.21.1 in /Users/guyarieli/miniconda3/envs/kubesim/lib/python3.10/site-packages (from requests->transformers) (2.1.0)\n",
            "Requirement already satisfied: certifi>=2017.4.17 in /Users/guyarieli/miniconda3/envs/kubesim/lib/python3.10/site-packages (from requests->transformers) (2023.11.17)\n"
          ]
        }
      ],
      "source": [
        "!pip install kaggle gensim bertopic spaCy vaex nltk afinn textblob\n",
        "!python -m spacy download en_core_web_lg\n",
        "!pip install transformers"
      ]
    },
    {
      "cell_type": "code",
      "execution_count": null,
      "metadata": {},
      "outputs": [
        {
          "name": "stderr",
          "output_type": "stream",
          "text": [
            "[nltk_data] Downloading package punkt to /Users/guyarieli/nltk_data...\n",
            "[nltk_data]   Package punkt is already up-to-date!\n",
            "[nltk_data] Downloading package averaged_perceptron_tagger to\n",
            "[nltk_data]     /Users/guyarieli/nltk_data...\n",
            "[nltk_data]   Package averaged_perceptron_tagger is already up-to-\n",
            "[nltk_data]       date!\n",
            "[nltk_data] Downloading package wordnet to\n",
            "[nltk_data]     /Users/guyarieli/nltk_data...\n",
            "[nltk_data]   Package wordnet is already up-to-date!\n",
            "[nltk_data] Downloading package movie_reviews to\n",
            "[nltk_data]     /Users/guyarieli/nltk_data...\n",
            "[nltk_data]   Package movie_reviews is already up-to-date!\n",
            "[nltk_data] Downloading package punkt to /Users/guyarieli/nltk_data...\n",
            "[nltk_data]   Package punkt is already up-to-date!\n"
          ]
        },
        {
          "data": {
            "text/plain": [
              "True"
            ]
          },
          "execution_count": 2,
          "metadata": {},
          "output_type": "execute_result"
        }
      ],
      "source": [
        "from sklearn.ensemble import RandomForestClassifier\n",
        "from sklearn.model_selection import train_test_split\n",
        "from sklearn.metrics import accuracy_score\n",
        "from sklearn.feature_extraction.text import TfidfVectorizer\n",
        "from sklearn.metrics import confusion_matrix, ConfusionMatrixDisplay\n",
        "from transformers import RobertaTokenizer, RobertaModel\n",
        "import matplotlib.pyplot as plt\n",
        "from textblob import TextBlob\n",
        "from afinn import Afinn\n",
        "import en_core_web_lg\n",
        "from tqdm import tqdm\n",
        "import pandas as pd\n",
        "import numpy as np\n",
        "import nltk\n",
        "import vaex\n",
        "import torch\n",
        "import os\n",
        "\n",
        "\n",
        "# install required nltk packages\n",
        "nltk.download(\"punkt\")\n",
        "nltk.download(\"averaged_perceptron_tagger\")\n",
        "nltk.download(\"wordnet\")\n",
        "nltk.download(\"movie_reviews\")\n",
        "nltk.download(\"punkt\")"
      ]
    },
    {
      "cell_type": "code",
      "execution_count": 5,
      "metadata": {},
      "outputs": [
        {
          "name": "stdout",
          "output_type": "stream",
          "text": [
            "Path to dataset files: /Users/guyarieli/Documents/אוניברסיטה/כריית נתונים במאגרי מידע גדולים/עבודות/datasets/snap/amazon-fine-food-reviews/versions/2\n"
          ]
        }
      ],
      "source": [
        "import kagglehub\n",
        "\n",
        "os.environ[\"KAGGLEHUB_CACHE\"] = (\n",
        "    \"/Users/guyarieli/Documents/אוניברסיטה/כריית נתונים במאגרי מידע גדולים/עבודות\"\n",
        ")\n",
        "\n",
        "path = kagglehub.dataset_download(\"snap/amazon-fine-food-reviews\")\n",
        "\n",
        "print(\"Path to dataset files:\", path)"
      ]
    },
    {
      "cell_type": "markdown",
      "metadata": {
        "id": "T6nDeYS6bCyF"
      },
      "source": [
        "**Question 1:** Construct a sentiment classifier using 80% of the reviews in the [Amazon Fine Food Reviews dataset](https://www.kaggle.com/snap/amazon-fine-food-reviews).\n",
        "The classifier needs to predict if a product got a one-star or a five-star review.\n",
        "Evaluate the classifier using the rest of the data (30pt).\n"
      ]
    },
    {
      "cell_type": "code",
      "execution_count": null,
      "metadata": {
        "id": "cIoqk24KbCyG"
      },
      "outputs": [
        {
          "data": {
            "text/html": [
              "<table>\n",
              "<thead>\n",
              "<tr><th>#                            </th><th style=\"text-align: right;\">  Id</th><th>ProductId  </th><th>UserId        </th><th>ProfileName                    </th><th style=\"text-align: right;\">  HelpfulnessNumerator</th><th style=\"text-align: right;\">  HelpfulnessDenominator</th><th style=\"text-align: right;\">  Score</th><th style=\"text-align: right;\">      Time</th><th>Summary                                      </th><th>Text                                               </th></tr>\n",
              "</thead>\n",
              "<tbody>\n",
              "<tr><td><i style='opacity: 0.6'>0</i></td><td style=\"text-align: right;\">   1</td><td>B001E4KFG0 </td><td>A3SGXH7AUHU8GW</td><td>delmartian                     </td><td style=\"text-align: right;\">                     1</td><td style=\"text-align: right;\">                       1</td><td style=\"text-align: right;\">      5</td><td style=\"text-align: right;\">1303862400</td><td>Good Quality Dog Food                        </td><td>&#x27;I have bought several of the Vitality canned do...</td></tr>\n",
              "<tr><td><i style='opacity: 0.6'>1</i></td><td style=\"text-align: right;\">   2</td><td>B00813GRG4 </td><td>A1D87F6ZCVE5NK</td><td>dll pa                         </td><td style=\"text-align: right;\">                     0</td><td style=\"text-align: right;\">                       0</td><td style=\"text-align: right;\">      1</td><td style=\"text-align: right;\">1346976000</td><td>Not as Advertised                            </td><td>&#x27;Product arrived labeled as Jumbo Salted Peanuts...</td></tr>\n",
              "<tr><td><i style='opacity: 0.6'>2</i></td><td style=\"text-align: right;\">   3</td><td>B000LQOCH0 </td><td>ABXLMWJIXXAIN </td><td>Natalia Corres &quot;Natalia Corres&quot;</td><td style=\"text-align: right;\">                     1</td><td style=\"text-align: right;\">                       1</td><td style=\"text-align: right;\">      4</td><td style=\"text-align: right;\">1219017600</td><td>&quot;Delight&quot; says it all                        </td><td>&#x27;This is a confection that has been around a few...</td></tr>\n",
              "<tr><td><i style='opacity: 0.6'>3</i></td><td style=\"text-align: right;\">   4</td><td>B000UA0QIQ </td><td>A395BORC6FGVXV</td><td>Karl                           </td><td style=\"text-align: right;\">                     3</td><td style=\"text-align: right;\">                       3</td><td style=\"text-align: right;\">      2</td><td style=\"text-align: right;\">1307923200</td><td>Cough Medicine                               </td><td>&#x27;If you are looking for the secret ingredient in...</td></tr>\n",
              "<tr><td><i style='opacity: 0.6'>4</i></td><td style=\"text-align: right;\">   5</td><td>B006K2ZZ7K </td><td>A1UQRSCLF8GW1T</td><td>Michael D. Bigham &quot;M. Wassir&quot;  </td><td style=\"text-align: right;\">                     0</td><td style=\"text-align: right;\">                       0</td><td style=\"text-align: right;\">      5</td><td style=\"text-align: right;\">1350777600</td><td>Great taffy                                  </td><td>&#x27;Great taffy at a great price.  There was a wide...</td></tr>\n",
              "<tr><td><i style='opacity: 0.6'>5</i></td><td style=\"text-align: right;\">   6</td><td>B006K2ZZ7K </td><td>ADT0SRK1MGOEU </td><td>Twoapennything                 </td><td style=\"text-align: right;\">                     0</td><td style=\"text-align: right;\">                       0</td><td style=\"text-align: right;\">      4</td><td style=\"text-align: right;\">1342051200</td><td>Nice Taffy                                   </td><td>&#x27;I got a wild hair for taffy and ordered this fi...</td></tr>\n",
              "<tr><td><i style='opacity: 0.6'>6</i></td><td style=\"text-align: right;\">   7</td><td>B006K2ZZ7K </td><td>A1SP2KVKFXXRU1</td><td>David C. Sullivan              </td><td style=\"text-align: right;\">                     0</td><td style=\"text-align: right;\">                       0</td><td style=\"text-align: right;\">      5</td><td style=\"text-align: right;\">1340150400</td><td>Great!  Just as good as the expensive brands!</td><td>&#x27;This saltwater taffy had great flavors and was ...</td></tr>\n",
              "<tr><td><i style='opacity: 0.6'>7</i></td><td style=\"text-align: right;\">   8</td><td>B006K2ZZ7K </td><td>A3JRGQVEQN31IQ</td><td>Pamela G. Williams             </td><td style=\"text-align: right;\">                     0</td><td style=\"text-align: right;\">                       0</td><td style=\"text-align: right;\">      5</td><td style=\"text-align: right;\">1336003200</td><td>Wonderful, tasty taffy                       </td><td>&#x27;This taffy is so good.  It is very soft and che...</td></tr>\n",
              "<tr><td><i style='opacity: 0.6'>8</i></td><td style=\"text-align: right;\">   9</td><td>B000E7L2R4 </td><td>A1MZYO9TZK0BBI</td><td>R. James                       </td><td style=\"text-align: right;\">                     1</td><td style=\"text-align: right;\">                       1</td><td style=\"text-align: right;\">      5</td><td style=\"text-align: right;\">1322006400</td><td>Yay Barley                                   </td><td>&quot;Right now I&#x27;m mostly just sprouting this so my ...</td></tr>\n",
              "<tr><td><i style='opacity: 0.6'>9</i></td><td style=\"text-align: right;\">  10</td><td>B00171APVA </td><td>A21BT40VZCCYT4</td><td>Carol A. Reed                  </td><td style=\"text-align: right;\">                     0</td><td style=\"text-align: right;\">                       0</td><td style=\"text-align: right;\">      5</td><td style=\"text-align: right;\">1351209600</td><td>Healthy Dog Food                             </td><td>&#x27;This is a very healthy dog food. Good for their...</td></tr>\n",
              "</tbody>\n",
              "</table>"
            ],
            "text/plain": [
              "  #    Id  ProductId    UserId          ProfileName                        HelpfulnessNumerator    HelpfulnessDenominator    Score        Time  Summary                                        Text\n",
              "  0     1  B001E4KFG0   A3SGXH7AUHU8GW  delmartian                                            1                         1        5  1303862400  Good Quality Dog Food                          'I have bought several of the Vitality canned do...\n",
              "  1     2  B00813GRG4   A1D87F6ZCVE5NK  dll pa                                                0                         0        1  1346976000  Not as Advertised                              'Product arrived labeled as Jumbo Salted Peanuts...\n",
              "  2     3  B000LQOCH0   ABXLMWJIXXAIN   Natalia Corres \"Natalia Corres\"                       1                         1        4  1219017600  \"Delight\" says it all                          'This is a confection that has been around a few...\n",
              "  3     4  B000UA0QIQ   A395BORC6FGVXV  Karl                                                  3                         3        2  1307923200  Cough Medicine                                 'If you are looking for the secret ingredient in...\n",
              "  4     5  B006K2ZZ7K   A1UQRSCLF8GW1T  Michael D. Bigham \"M. Wassir\"                         0                         0        5  1350777600  Great taffy                                    'Great taffy at a great price.  There was a wide...\n",
              "  5     6  B006K2ZZ7K   ADT0SRK1MGOEU   Twoapennything                                        0                         0        4  1342051200  Nice Taffy                                     'I got a wild hair for taffy and ordered this fi...\n",
              "  6     7  B006K2ZZ7K   A1SP2KVKFXXRU1  David C. Sullivan                                     0                         0        5  1340150400  Great!  Just as good as the expensive brands!  'This saltwater taffy had great flavors and was ...\n",
              "  7     8  B006K2ZZ7K   A3JRGQVEQN31IQ  Pamela G. Williams                                    0                         0        5  1336003200  Wonderful, tasty taffy                         'This taffy is so good.  It is very soft and che...\n",
              "  8     9  B000E7L2R4   A1MZYO9TZK0BBI  R. James                                              1                         1        5  1322006400  Yay Barley                                     \"Right now I'm mostly just sprouting this so my ...\n",
              "  9    10  B00171APVA   A21BT40VZCCYT4  Carol A. Reed                                         0                         0        5  1351209600  Healthy Dog Food                               'This is a very healthy dog food. Good for their..."
            ]
          },
          "execution_count": 4,
          "metadata": {},
          "output_type": "execute_result"
        }
      ],
      "source": [
        "v_df = vaex.read_csv(\n",
        "    f\"datasets/snap/amazon-fine-food-reviews/versions/2/Reviews.csv\", convert=True\n",
        ")\n",
        "v_df.head()"
      ]
    },
    {
      "cell_type": "code",
      "execution_count": 43,
      "metadata": {},
      "outputs": [],
      "source": [
        "NUM_OF_SAMPLES: int = int(1e4)\n",
        "TEST_RATIO: float = 0.2\n",
        "\n",
        "\n",
        "def label_to_sentiment(label: str) -> dict:\n",
        "    return {\"1\": \"Negative\", \"5\": \"Positive\"}[str(label)]\n",
        "\n",
        "\n",
        "def score_to_sentiment(score: int) -> str | float:\n",
        "    if score == 5:\n",
        "        return \"Positive\"\n",
        "    elif score == 1:\n",
        "        return \"Negative\"\n",
        "    return np.nan"
      ]
    },
    {
      "cell_type": "code",
      "execution_count": null,
      "metadata": {},
      "outputs": [
        {
          "name": "stdout",
          "output_type": "stream",
          "text": [
            "TF-IDF Accuracy: 0.8845\n"
          ]
        },
        {
          "data": {
            "text/plain": [
              "<sklearn.metrics._plot.confusion_matrix.ConfusionMatrixDisplay at 0x3e827c040>"
            ]
          },
          "execution_count": 29,
          "metadata": {},
          "output_type": "execute_result"
        },
        {
          "data": {
            "image/png": "[encoded data removed]",
            "text/plain": [
              "<Figure size 640x480 with 2 Axes>"
            ]
          },
          "metadata": {},
          "output_type": "display_data"
        }
      ],
      "source": [
        "df_with_selected_rating = v_df[(v_df.Score == 5) | (v_df.Score == 1)]\n",
        "df_with_selected_rating = df_with_selected_rating.to_pandas_df().sample(\n",
        "    NUM_OF_SAMPLES, random_state=42\n",
        ")\n",
        "\n",
        "df_with_selected_rating[\"Sentiment\"] = df_with_selected_rating[\"Score\"].apply(\n",
        "    label_to_sentiment\n",
        ")\n",
        "df_with_selected_rating_with_text_and_sentiment = df_with_selected_rating[\n",
        "    [\"Text\", \"Sentiment\"]\n",
        "]\n",
        "\n",
        "train, test = train_test_split(\n",
        "    df_with_selected_rating_with_text_and_sentiment, test_size=TEST_RATIO\n",
        ")\n",
        "\n",
        "X_train, X_test = train[\"Text\"], test[\"Text\"]\n",
        "y_train, y_test = train[\"Sentiment\"], test[\"Sentiment\"]\n",
        "\n",
        "model = TfidfVectorizer(max_features=2000, stop_words=\"english\")\n",
        "\n",
        "X_train_tf_idf = model.fit_transform(X_train).toarray()\n",
        "X_test_tf_idf = model.transform(X_test).toarray()\n",
        "\n",
        "clf = RandomForestClassifier(max_depth=20, random_state=42, n_jobs=-1)\n",
        "clf.fit(X_train_tf_idf, y_train)\n",
        "\n",
        "y_predict = clf.predict(X_test_tf_idf)\n",
        "accrucy_tf_idf = accuracy_score(y_test, y_predict)\n",
        "print(f\"TF-IDF Accuracy: {accrucy_tf_idf}\")\n",
        "\n",
        "cm = confusion_matrix(y_test, y_predict, labels=clf.classes_)\n",
        "disp = ConfusionMatrixDisplay(confusion_matrix=cm, display_labels=clf.classes_)\n",
        "disp.plot(cmap=plt.cm.Blues)"
      ]
    },
    {
      "cell_type": "markdown",
      "metadata": {
        "id": "chKUklQQbCyL"
      },
      "source": [
        "**Question 2:** Construct a sentiment classifier using features from the [TextBlob package](https://textblob.readthedocs.io/en/dev/index.html),\n",
        "    and from the [affin package](https://pypi.org/project/afinn/). Compare the two classifiers results and visualize it (however you want) (20pt)"
      ]
    },
    {
      "cell_type": "code",
      "execution_count": null,
      "metadata": {},
      "outputs": [],
      "source": [
        "def extract_subjectivity(t):\n",
        "    return TextBlob(t).sentiment.subjectivity\n",
        "\n",
        "\n",
        "def extract_polarity(t):\n",
        "    return TextBlob(t).sentiment.polarity\n",
        "\n",
        "\n",
        "def plot_matrix(y_predict, y_test, labels):\n",
        "    cm = confusion_matrix(y_test, y_predict, labels=labels)\n",
        "    disp = ConfusionMatrixDisplay(confusion_matrix=cm, display_labels=labels)\n",
        "    disp.plot(cmap=plt.cm.Blues)"
      ]
    },
    {
      "cell_type": "code",
      "execution_count": null,
      "metadata": {
        "id": "nfxAhdI7bCyM"
      },
      "outputs": [
        {
          "data": {
            "text/html": [
              "<div>\n",
              "<style scoped>\n",
              "    .dataframe tbody tr th:only-of-type {\n",
              "        vertical-align: middle;\n",
              "    }\n",
              "\n",
              "    .dataframe tbody tr th {\n",
              "        vertical-align: top;\n",
              "    }\n",
              "\n",
              "    .dataframe thead th {\n",
              "        text-align: right;\n",
              "    }\n",
              "</style>\n",
              "<table border=\"1\" class=\"dataframe\">\n",
              "  <thead>\n",
              "    <tr style=\"text-align: right;\">\n",
              "      <th></th>\n",
              "      <th>0</th>\n",
              "      <th>1</th>\n",
              "      <th>2</th>\n",
              "      <th>3</th>\n",
              "      <th>4</th>\n",
              "      <th>5</th>\n",
              "      <th>6</th>\n",
              "      <th>7</th>\n",
              "      <th>8</th>\n",
              "      <th>9</th>\n",
              "      <th>...</th>\n",
              "      <th>1993</th>\n",
              "      <th>1994</th>\n",
              "      <th>1995</th>\n",
              "      <th>1996</th>\n",
              "      <th>1997</th>\n",
              "      <th>1998</th>\n",
              "      <th>1999</th>\n",
              "      <th>afinn_score</th>\n",
              "      <th>text_blob_subjectivity</th>\n",
              "      <th>text_blob_polarity</th>\n",
              "    </tr>\n",
              "  </thead>\n",
              "  <tbody>\n",
              "    <tr>\n",
              "      <th>0</th>\n",
              "      <td>0.0</td>\n",
              "      <td>0.0</td>\n",
              "      <td>0.0</td>\n",
              "      <td>0.0</td>\n",
              "      <td>0.0</td>\n",
              "      <td>0.0</td>\n",
              "      <td>0.0</td>\n",
              "      <td>0.0</td>\n",
              "      <td>0.0</td>\n",
              "      <td>0.0</td>\n",
              "      <td>...</td>\n",
              "      <td>0.0</td>\n",
              "      <td>0.0</td>\n",
              "      <td>0.0</td>\n",
              "      <td>0.0</td>\n",
              "      <td>0.0</td>\n",
              "      <td>0.0</td>\n",
              "      <td>0.0</td>\n",
              "      <td>2.0</td>\n",
              "      <td>0.420833</td>\n",
              "      <td>0.237500</td>\n",
              "    </tr>\n",
              "    <tr>\n",
              "      <th>1</th>\n",
              "      <td>0.0</td>\n",
              "      <td>0.0</td>\n",
              "      <td>0.0</td>\n",
              "      <td>0.0</td>\n",
              "      <td>0.0</td>\n",
              "      <td>0.0</td>\n",
              "      <td>0.0</td>\n",
              "      <td>0.0</td>\n",
              "      <td>0.0</td>\n",
              "      <td>0.0</td>\n",
              "      <td>...</td>\n",
              "      <td>0.0</td>\n",
              "      <td>0.0</td>\n",
              "      <td>0.0</td>\n",
              "      <td>0.0</td>\n",
              "      <td>0.0</td>\n",
              "      <td>0.0</td>\n",
              "      <td>0.0</td>\n",
              "      <td>11.0</td>\n",
              "      <td>0.553333</td>\n",
              "      <td>0.725000</td>\n",
              "    </tr>\n",
              "    <tr>\n",
              "      <th>2</th>\n",
              "      <td>0.0</td>\n",
              "      <td>0.0</td>\n",
              "      <td>0.0</td>\n",
              "      <td>0.0</td>\n",
              "      <td>0.0</td>\n",
              "      <td>0.0</td>\n",
              "      <td>0.0</td>\n",
              "      <td>0.0</td>\n",
              "      <td>0.0</td>\n",
              "      <td>0.0</td>\n",
              "      <td>...</td>\n",
              "      <td>0.0</td>\n",
              "      <td>0.0</td>\n",
              "      <td>0.0</td>\n",
              "      <td>0.0</td>\n",
              "      <td>0.0</td>\n",
              "      <td>0.0</td>\n",
              "      <td>0.0</td>\n",
              "      <td>4.0</td>\n",
              "      <td>0.661111</td>\n",
              "      <td>0.227778</td>\n",
              "    </tr>\n",
              "    <tr>\n",
              "      <th>3</th>\n",
              "      <td>0.0</td>\n",
              "      <td>0.0</td>\n",
              "      <td>0.0</td>\n",
              "      <td>0.0</td>\n",
              "      <td>0.0</td>\n",
              "      <td>0.0</td>\n",
              "      <td>0.0</td>\n",
              "      <td>0.0</td>\n",
              "      <td>0.0</td>\n",
              "      <td>0.0</td>\n",
              "      <td>...</td>\n",
              "      <td>0.0</td>\n",
              "      <td>0.0</td>\n",
              "      <td>0.0</td>\n",
              "      <td>0.0</td>\n",
              "      <td>0.0</td>\n",
              "      <td>0.0</td>\n",
              "      <td>0.0</td>\n",
              "      <td>5.0</td>\n",
              "      <td>0.516333</td>\n",
              "      <td>0.293667</td>\n",
              "    </tr>\n",
              "    <tr>\n",
              "      <th>4</th>\n",
              "      <td>0.0</td>\n",
              "      <td>0.0</td>\n",
              "      <td>0.0</td>\n",
              "      <td>0.0</td>\n",
              "      <td>0.0</td>\n",
              "      <td>0.0</td>\n",
              "      <td>0.0</td>\n",
              "      <td>0.0</td>\n",
              "      <td>0.0</td>\n",
              "      <td>0.0</td>\n",
              "      <td>...</td>\n",
              "      <td>0.0</td>\n",
              "      <td>0.0</td>\n",
              "      <td>0.0</td>\n",
              "      <td>0.0</td>\n",
              "      <td>0.0</td>\n",
              "      <td>0.0</td>\n",
              "      <td>0.0</td>\n",
              "      <td>4.0</td>\n",
              "      <td>0.365000</td>\n",
              "      <td>0.252500</td>\n",
              "    </tr>\n",
              "  </tbody>\n",
              "</table>\n",
              "<p>5 rows × 2003 columns</p>\n",
              "</div>"
            ],
            "text/plain": [
              "     0    1    2    3    4    5    6    7    8    9  ...  1993  1994  1995  \\\n",
              "0  0.0  0.0  0.0  0.0  0.0  0.0  0.0  0.0  0.0  0.0  ...   0.0   0.0   0.0   \n",
              "1  0.0  0.0  0.0  0.0  0.0  0.0  0.0  0.0  0.0  0.0  ...   0.0   0.0   0.0   \n",
              "2  0.0  0.0  0.0  0.0  0.0  0.0  0.0  0.0  0.0  0.0  ...   0.0   0.0   0.0   \n",
              "3  0.0  0.0  0.0  0.0  0.0  0.0  0.0  0.0  0.0  0.0  ...   0.0   0.0   0.0   \n",
              "4  0.0  0.0  0.0  0.0  0.0  0.0  0.0  0.0  0.0  0.0  ...   0.0   0.0   0.0   \n",
              "\n",
              "   1996  1997  1998  1999  afinn_score  text_blob_subjectivity  \\\n",
              "0   0.0   0.0   0.0   0.0          2.0                0.420833   \n",
              "1   0.0   0.0   0.0   0.0         11.0                0.553333   \n",
              "2   0.0   0.0   0.0   0.0          4.0                0.661111   \n",
              "3   0.0   0.0   0.0   0.0          5.0                0.516333   \n",
              "4   0.0   0.0   0.0   0.0          4.0                0.365000   \n",
              "\n",
              "   text_blob_polarity  \n",
              "0            0.237500  \n",
              "1            0.725000  \n",
              "2            0.227778  \n",
              "3            0.293667  \n",
              "4            0.252500  \n",
              "\n",
              "[5 rows x 2003 columns]"
            ]
          },
          "execution_count": 31,
          "metadata": {},
          "output_type": "execute_result"
        }
      ],
      "source": [
        "afinn = Afinn()\n",
        "\n",
        "X_train = X_train.to_frame()\n",
        "X_test = X_test.to_frame()\n",
        "\n",
        "X_train_tf_idf = pd.DataFrame(X_train_tf_idf)\n",
        "X_train_tf_idf.columns = X_train_tf_idf.columns.astype(str)\n",
        "X_test_tf_idf = pd.DataFrame(X_test_tf_idf)\n",
        "X_test_tf_idf.columns = X_test_tf_idf.columns.astype(str)\n",
        "\n",
        "X_train_tf_idf[\"afinn_score\"] = X_train[\"Text\"].apply(afinn.score).to_numpy()\n",
        "X_test_tf_idf[\"afinn_score\"] = X_test[\"Text\"].apply(afinn.score).to_numpy()\n",
        "\n",
        "X_train_tf_idf[\"text_blob_subjectivity\"] = (\n",
        "    X_train[\"Text\"].apply(extract_subjectivity).to_numpy()\n",
        ")\n",
        "X_test_tf_idf[\"text_blob_subjectivity\"] = (\n",
        "    X_test[\"Text\"].apply(extract_subjectivity).to_numpy()\n",
        ")\n",
        "\n",
        "X_train_tf_idf[\"text_blob_polarity\"] = (\n",
        "    X_train[\"Text\"].apply(extract_polarity).to_numpy()\n",
        ")\n",
        "X_test_tf_idf[\"text_blob_polarity\"] = X_test[\"Text\"].apply(extract_polarity).to_numpy()\n",
        "\n",
        "X_train_tf_idf.head()"
      ]
    },
    {
      "cell_type": "code",
      "execution_count": null,
      "metadata": {},
      "outputs": [
        {
          "name": "stdout",
          "output_type": "stream",
          "text": [
            "Afinn Accuracy : 0.919\n"
          ]
        },
        {
          "data": {
            "image/png": "[encoded data removed]",
            "text/plain": [
              "<Figure size 640x480 with 2 Axes>"
            ]
          },
          "metadata": {},
          "output_type": "display_data"
        }
      ],
      "source": [
        "clf = RandomForestClassifier()\n",
        "clf.fit(\n",
        "    X_train_tf_idf.drop([\"text_blob_polarity\", \"text_blob_subjectivity\"], axis=1),\n",
        "    y_train,\n",
        ")\n",
        "\n",
        "y_predict = clf.predict(\n",
        "    X_test_tf_idf.drop([\"text_blob_polarity\", \"text_blob_subjectivity\"], axis=1)\n",
        ")\n",
        "\n",
        "affin_acc = accuracy_score(y_test, y_predict)\n",
        "\n",
        "print(f\"Afinn Accuracy : {affin_acc}\")\n",
        "\n",
        "\n",
        "plot_matrix(y_predict, y_test, clf.classes_)"
      ]
    },
    {
      "cell_type": "code",
      "execution_count": null,
      "metadata": {},
      "outputs": [
        {
          "name": "stdout",
          "output_type": "stream",
          "text": [
            "TextBlob Accuracy: 0.9225\n"
          ]
        },
        {
          "data": {
            "text/plain": [
              "<sklearn.metrics._plot.confusion_matrix.ConfusionMatrixDisplay at 0x316fb0100>"
            ]
          },
          "execution_count": 36,
          "metadata": {},
          "output_type": "execute_result"
        },
        {
          "data": {
            "image/png": "[encoded data removed]",
            "text/plain": [
              "<Figure size 640x480 with 2 Axes>"
            ]
          },
          "metadata": {},
          "output_type": "display_data"
        }
      ],
      "source": [
        "clf = RandomForestClassifier()\n",
        "clf.fit(X_train_tf_idf.drop([\"afinn_score\"], axis=1), y_train)\n",
        "\n",
        "y_predict = clf.predict(X_test_tf_idf.drop([\"afinn_score\"], axis=1))\n",
        "\n",
        "\n",
        "text_blob_acc = accuracy_score(y_test, y_predict)\n",
        "\n",
        "print(f\"TextBlob Accuracy: {text_blob_acc}\")\n",
        "\n",
        "plot_matrix(y_predict, y_test, clf.classes_)"
      ]
    },
    {
      "cell_type": "markdown",
      "metadata": {
        "id": "GklKQldybCyP"
      },
      "source": [
        "**Question 3:**  Select a different reviews dataset and create a sentiment classifier which utilizes word embeddings (25pt).\n",
        "Evaluate this classifier (5pt). Try to improve your classifier by adding additional features (20pt)"
      ]
    },
    {
      "cell_type": "code",
      "execution_count": 37,
      "metadata": {
        "id": "MgS9j6eRbCyQ"
      },
      "outputs": [
        {
          "name": "stdout",
          "output_type": "stream",
          "text": [
            "Downloading from https://www.kaggle.com/api/v1/datasets/download/shivkumarganesh/tinder-google-play-store-review?dataset_version_number=171...\n"
          ]
        },
        {
          "name": "stderr",
          "output_type": "stream",
          "text": [
            "100%|██████████| 47.3M/47.3M [00:04<00:00, 12.1MB/s]"
          ]
        },
        {
          "name": "stdout",
          "output_type": "stream",
          "text": [
            "Extracting files...\n"
          ]
        },
        {
          "name": "stderr",
          "output_type": "stream",
          "text": [
            "\n"
          ]
        },
        {
          "name": "stdout",
          "output_type": "stream",
          "text": [
            "Path to dataset files: /Users/guyarieli/Documents/אוניברסיטה/כריית נתונים במאגרי מידע גדולים/עבודות/datasets/shivkumarganesh/tinder-google-play-store-review/versions/171\n"
          ]
        }
      ],
      "source": [
        "path = kagglehub.dataset_download(\"shivkumarganesh/tinder-google-play-store-review\")\n",
        "\n",
        "print(\"Path to dataset files:\", path)"
      ]
    },
    {
      "cell_type": "code",
      "execution_count": 44,
      "metadata": {},
      "outputs": [],
      "source": [
        "def get_embeddings(text: str, tokinizer, model):\n",
        "    tokens = tokenizer.encode(text, add_special_tokens=True)\n",
        "    tokens_tensor = torch.tensor(tokens).unsqueeze(0)\n",
        "\n",
        "    outputs = model(tokens_tensor)\n",
        "\n",
        "    last_hidden_state = outputs.last_hidden_state\n",
        "\n",
        "    return last_hidden_state.squeeze(0).detach().numpy()"
      ]
    },
    {
      "cell_type": "code",
      "execution_count": null,
      "metadata": {},
      "outputs": [
        {
          "data": {
            "application/vnd.jupyter.widget-view+json": {
              "model_id": "b8dd2cb0e1db4424818cc74f210f1be2",
              "version_major": 2,
              "version_minor": 0
            },
            "text/plain": [
              "tokenizer_config.json:   0%|          | 0.00/25.0 [00:00<?, ?B/s]"
            ]
          },
          "metadata": {},
          "output_type": "display_data"
        },
        {
          "data": {
            "application/vnd.jupyter.widget-view+json": {
              "model_id": "df8029029cc3499aac8aaf7e8ccb159b",
              "version_major": 2,
              "version_minor": 0
            },
            "text/plain": [
              "vocab.json:   0%|          | 0.00/899k [00:00<?, ?B/s]"
            ]
          },
          "metadata": {},
          "output_type": "display_data"
        },
        {
          "data": {
            "application/vnd.jupyter.widget-view+json": {
              "model_id": "f508c3d3e18d4a7b87e03039fb94617f",
              "version_major": 2,
              "version_minor": 0
            },
            "text/plain": [
              "merges.txt:   0%|          | 0.00/456k [00:00<?, ?B/s]"
            ]
          },
          "metadata": {},
          "output_type": "display_data"
        },
        {
          "data": {
            "application/vnd.jupyter.widget-view+json": {
              "model_id": "3da1c3d6fce04f6c94bea11ee0da3ef8",
              "version_major": 2,
              "version_minor": 0
            },
            "text/plain": [
              "tokenizer.json:   0%|          | 0.00/1.36M [00:00<?, ?B/s]"
            ]
          },
          "metadata": {},
          "output_type": "display_data"
        },
        {
          "data": {
            "application/vnd.jupyter.widget-view+json": {
              "model_id": "695d8c810d524604bdd9573a264d9b98",
              "version_major": 2,
              "version_minor": 0
            },
            "text/plain": [
              "config.json:   0%|          | 0.00/481 [00:00<?, ?B/s]"
            ]
          },
          "metadata": {},
          "output_type": "display_data"
        },
        {
          "name": "stderr",
          "output_type": "stream",
          "text": [
            "Xet Storage is enabled for this repo, but the 'hf_xet' package is not installed. Falling back to regular HTTP download. For better performance, install the package with: `pip install huggingface_hub[hf_xet]` or `pip install hf_xet`\n"
          ]
        },
        {
          "data": {
            "application/vnd.jupyter.widget-view+json": {
              "model_id": "5d12199f82f049f6b64225c8e79ba1c7",
              "version_major": 2,
              "version_minor": 0
            },
            "text/plain": [
              "model.safetensors:   0%|          | 0.00/499M [00:00<?, ?B/s]"
            ]
          },
          "metadata": {},
          "output_type": "display_data"
        },
        {
          "name": "stderr",
          "output_type": "stream",
          "text": [
            "Some weights of RobertaModel were not initialized from the model checkpoint at roberta-base and are newly initialized: ['pooler.dense.bias', 'pooler.dense.weight']\n",
            "You should probably TRAIN this model on a down-stream task to be able to use it for predictions and inference.\n"
          ]
        }
      ],
      "source": [
        "nlp = en_core_web_lg.load()\n",
        "tokenizer = RobertaTokenizer.from_pretrained(\"roberta-base\")\n",
        "model = RobertaModel.from_pretrained(\"roberta-base\")"
      ]
    },
    {
      "cell_type": "code",
      "execution_count": null,
      "metadata": {},
      "outputs": [
        {
          "name": "stderr",
          "output_type": "stream",
          "text": [
            "100%|██████████| 13249/13249 [08:29<00:00, 26.03it/s]\n"
          ]
        },
        {
          "name": "stdout",
          "output_type": "stream",
          "text": [
            "Roberta Embed Accrucy: 0.9188679245283019\n"
          ]
        },
        {
          "data": {
            "image/png": "[encoded data removed]",
            "text/plain": [
              "<Figure size 640x480 with 2 Axes>"
            ]
          },
          "metadata": {},
          "output_type": "display_data"
        }
      ],
      "source": [
        "df = pd.read_csv(\n",
        "    \"datasets/shivkumarganesh/tinder-google-play-store-review/versions/171/tinder_google_play_reviews.csv\"\n",
        ")\n",
        "df[\"sentiment\"] = df[\"score\"].apply(score_to_sentiment)\n",
        "df.dropna(inplace=True)\n",
        "n_rows = int(1e4)\n",
        "\n",
        "neg_df = df[df.sentiment == \"Negative\"]\n",
        "pos_df = df[df.sentiment == \"Positive\"]\n",
        "df = pd.concat([neg_df.head(n_rows), pos_df.head(n_rows)])\n",
        "\n",
        "\n",
        "vectors_list = [\n",
        "    get_embeddings(text, tokenizer, model)\n",
        "    for text in tqdm(df[\"content\"].apply(lambda t: t[:512]).values)\n",
        "]\n",
        "\n",
        "vectors_list_first_element = [v[0] for v in vectors_list]\n",
        "cols = [f\"BERT Feature {i}\" for i in range(len(vectors_list_first_element[0]))]\n",
        "roberta_df = pd.DataFrame(data=vectors_list_first_element, columns=cols)\n",
        "\n",
        "\n",
        "X_train, X_test, y_train, y_test = train_test_split(\n",
        "    roberta_df, df[\"sentiment\"], test_size=TEST_RATIO, random_state=42\n",
        ")\n",
        "\n",
        "clf = RandomForestClassifier()\n",
        "clf.fit(X_train, y_train)\n",
        "\n",
        "y_predict = clf.predict(X_test)\n",
        "\n",
        "roberta_emb_acc = accuracy_score(y_test, y_predict)\n",
        "\n",
        "print(f\"Roberta Embed Accrucy: {roberta_emb_acc}\")\n",
        "\n",
        "\n",
        "plot_matrix(y_predict, y_test, clf.classes_)"
      ]
    },
    {
      "cell_type": "code",
      "execution_count": null,
      "metadata": {},
      "outputs": [
        {
          "name": "stderr",
          "output_type": "stream",
          "text": [
            "100%|██████████| 13249/13249 [01:56<00:00, 113.29it/s]\n"
          ]
        },
        {
          "name": "stdout",
          "output_type": "stream",
          "text": [
            "Spacy Embed Accuracy: 0.9354716981132075\n"
          ]
        },
        {
          "data": {
            "image/png": "[encoded data removed]",
            "text/plain": [
              "<Figure size 640x480 with 2 Axes>"
            ]
          },
          "metadata": {},
          "output_type": "display_data"
        }
      ],
      "source": [
        "vectors_list_nlp = [\n",
        "    nlp(text).vector for text in tqdm(df[\"content\"].apply(lambda t: t[:512]).values)\n",
        "]\n",
        "cols = [f\"Spacy Feature {i}\" for i in range(len(vectors_list_nlp[0]))]\n",
        "spacey_df = pd.DataFrame(data=vectors_list_nlp, columns=cols)\n",
        "\n",
        "X_train, X_test, y_train, y_test = train_test_split(\n",
        "    spacey_df, df[\"sentiment\"], test_size=TEST_RATIO, random_state=42\n",
        ")\n",
        "\n",
        "clf = RandomForestClassifier()\n",
        "clf.fit(X_train, y_train)\n",
        "\n",
        "y_predict = clf.predict(X_test)\n",
        "\n",
        "spacey_acc = accuracy_score(y_test, y_predict)\n",
        "\n",
        "print(f\"Spacy Embed Accuracy: {spacey_acc}\")\n",
        "\n",
        "plot_matrix(y_predict, y_test, clf.classes_)"
      ]
    },
    {
      "cell_type": "code",
      "execution_count": null,
      "metadata": {},
      "outputs": [
        {
          "name": "stdout",
          "output_type": "stream",
          "text": [
            "Combine Accuracy of Roberta & spacy is: {spacy_and_roberta_acc}\n"
          ]
        },
        {
          "data": {
            "image/png": "[encoded data removed]",
            "text/plain": [
              "<Figure size 640x480 with 2 Axes>"
            ]
          },
          "metadata": {},
          "output_type": "display_data"
        }
      ],
      "source": [
        "combined_dataframe = pd.concat([roberta_df, spacey_df], axis=1)\n",
        "\n",
        "X_train, X_test, y_train, y_test = train_test_split(\n",
        "    combined_dataframe, df[\"sentiment\"], test_size=TEST_RATIO, random_state=42\n",
        ")\n",
        "\n",
        "clf = RandomForestClassifier()\n",
        "clf.fit(X_train, y_train)\n",
        "\n",
        "y_predict = clf.predict(X_test)\n",
        "\n",
        "spacy_and_roberta_acc = accuracy_score(y_test, y_predict)\n",
        "\n",
        "print(\"Combine Accuracy of Roberta & spacy is: {spacy_and_roberta_acc}\")\n",
        "\n",
        "plot_matrix(y_predict, y_test, clf.classes_)"
      ]
    }
  ],
  "metadata": {
    "colab": {
      "provenance": []
    },
    "kernelspec": {
      "display_name": "kubesim",
      "language": "python",
      "name": "python3"
    },
    "language_info": {
      "codemirror_mode": {
        "name": "ipython",
        "version": 3
      },
      "file_extension": ".py",
      "mimetype": "text/x-python",
      "name": "python",
      "nbconvert_exporter": "python",
      "pygments_lexer": "ipython3",
      "version": "3.10.13"
    }
  },
  "nbformat": 4,
  "nbformat_minor": 0
}
